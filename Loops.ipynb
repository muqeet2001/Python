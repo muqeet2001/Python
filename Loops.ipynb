{
  "nbformat": 4,
  "nbformat_minor": 0,
  "metadata": {
    "colab": {
      "provenance": []
    },
    "kernelspec": {
      "name": "python3",
      "display_name": "Python 3"
    },
    "language_info": {
      "name": "python"
    }
  },
  "cells": [
    {
      "cell_type": "markdown",
      "source": [
        "# **Loops in Python**"
      ],
      "metadata": {
        "id": "Z1K3PSBziCM2"
      }
    },
    {
      "cell_type": "markdown",
      "source": [
        "#**For Loops in Python**\n"
      ],
      "metadata": {
        "id": "9xhGLg-TM03W"
      }
    },
    {
      "cell_type": "markdown",
      "source": [
        "* Python For loop is used for sequential traversal i.e. it is used for iterating over an iterable like String, Tuple, List, Set, or Dictionary.\n",
        "\n",
        "* for var in iterable:\n",
        "     \n",
        "     statements\n"
      ],
      "metadata": {
        "id": "Is9o8ZQVNATO"
      }
    },
    {
      "cell_type": "markdown",
      "source": [
        "**range()**\n",
        "* The range() function returns a sequence of numbers, starting from 0 by default, and increments by 1 (by default), and stops before a specified number.\n",
        "* range(start, stop, step)\n",
        "* start-optional   Default is 0\n",
        "* stop- required   if n is stop point then it will stop at n-1\n",
        "* step- optional   Default is 1\n"
      ],
      "metadata": {
        "id": "yq6whqnlOY5-"
      }
    },
    {
      "cell_type": "code",
      "execution_count": null,
      "metadata": {
        "colab": {
          "base_uri": "https://localhost:8080/"
        },
        "id": "6Kh_9uUlhFhZ",
        "outputId": "8581d2c6-63cb-4f81-d592-e013afb307a6"
      },
      "outputs": [
        {
          "output_type": "stream",
          "name": "stdout",
          "text": [
            "0\n",
            "1\n",
            "2\n",
            "3\n",
            "4\n"
          ]
        }
      ],
      "source": [
        "for i in range(5):\n",
        "  print(i)"
      ]
    },
    {
      "cell_type": "code",
      "source": [
        "for i in range(1,11):\n",
        "  print(i)"
      ],
      "metadata": {
        "colab": {
          "base_uri": "https://localhost:8080/"
        },
        "id": "qll9vNmZh1xd",
        "outputId": "1d024a4f-893a-4519-f07a-c2b2d8993bb7"
      },
      "execution_count": null,
      "outputs": [
        {
          "output_type": "stream",
          "name": "stdout",
          "text": [
            "1\n",
            "2\n",
            "3\n",
            "4\n",
            "5\n",
            "6\n",
            "7\n",
            "8\n",
            "9\n",
            "10\n"
          ]
        }
      ]
    },
    {
      "cell_type": "code",
      "source": [
        "for i in range(2,11,2):\n",
        "  print(i)\n"
      ],
      "metadata": {
        "colab": {
          "base_uri": "https://localhost:8080/"
        },
        "id": "rVDk_G-fh16V",
        "outputId": "db268b92-73f2-4e8a-f7ab-6da133b582e7"
      },
      "execution_count": null,
      "outputs": [
        {
          "output_type": "stream",
          "name": "stdout",
          "text": [
            "2\n",
            "4\n",
            "6\n",
            "8\n",
            "10\n"
          ]
        }
      ]
    },
    {
      "cell_type": "markdown",
      "source": [
        "**For Loop -> String**"
      ],
      "metadata": {
        "id": "LB0XUpMsh7Sk"
      }
    },
    {
      "cell_type": "code",
      "source": [
        "s=\"Happy\"\n",
        "print(s)\n",
        "\n",
        "print(\"\\n\")\n",
        "\n",
        "for i in s:\n",
        "  print(i)\n",
        "\n",
        "print(\"\\n\")\n",
        "\n",
        "for i in s:\n",
        "  print(i,end=\",\")\n",
        "\n",
        "print(\"\\n\")\n"
      ],
      "metadata": {
        "colab": {
          "base_uri": "https://localhost:8080/"
        },
        "id": "HPNL1S3Xh1-z",
        "outputId": "5d38037c-fec7-4668-9a26-6d5b1b6c6b00"
      },
      "execution_count": null,
      "outputs": [
        {
          "output_type": "stream",
          "name": "stdout",
          "text": [
            "Happy\n",
            "\n",
            "\n",
            "H\n",
            "a\n",
            "p\n",
            "p\n",
            "y\n",
            "\n",
            "\n",
            "H,a,p,p,y,\n",
            "\n"
          ]
        }
      ]
    },
    {
      "cell_type": "markdown",
      "source": [
        "**For Loop -> List**"
      ],
      "metadata": {
        "id": "w6TV-EpHiOBY"
      }
    },
    {
      "cell_type": "code",
      "source": [
        "li=[10,20,30,\"Good\",[1,2,3],(4,5),{1:\"A\",2:\"B\"},{6,7,8}]\n",
        "print(li)\n",
        "\n",
        "for i in li:\n",
        "  print(i)\n",
        "\n",
        "print(\"\\n\")\n"
      ],
      "metadata": {
        "colab": {
          "base_uri": "https://localhost:8080/"
        },
        "id": "PUwVRMTyh2FV",
        "outputId": "d94f8dcc-6f5a-4e60-b357-7c9134415e28"
      },
      "execution_count": null,
      "outputs": [
        {
          "output_type": "stream",
          "name": "stdout",
          "text": [
            "[10, 20, 30, 'Good', [1, 2, 3], (4, 5), {1: 'A', 2: 'B'}, {8, 6, 7}]\n",
            "10\n",
            "20\n",
            "30\n",
            "Good\n",
            "[1, 2, 3]\n",
            "(4, 5)\n",
            "{1: 'A', 2: 'B'}\n",
            "{8, 6, 7}\n",
            "\n",
            "\n"
          ]
        }
      ]
    },
    {
      "cell_type": "markdown",
      "source": [
        "**For Loop -> Tuple**"
      ],
      "metadata": {
        "id": "89hggfaWia98"
      }
    },
    {
      "cell_type": "code",
      "source": [
        "tu=(1,2,\"Hi\",[5,10])\n",
        "print(tu)\n",
        "\n",
        "for i in tu:\n",
        "  print(i)\n",
        "\n",
        "print(\"\\n\")\n"
      ],
      "metadata": {
        "colab": {
          "base_uri": "https://localhost:8080/"
        },
        "id": "TjEZsn7rh2QC",
        "outputId": "923c314b-8112-4ade-e8b1-4594a1dc7b70"
      },
      "execution_count": null,
      "outputs": [
        {
          "output_type": "stream",
          "name": "stdout",
          "text": [
            "(1, 2, 'Hi', [5, 10])\n",
            "1\n",
            "2\n",
            "Hi\n",
            "[5, 10]\n",
            "\n",
            "\n"
          ]
        }
      ]
    },
    {
      "cell_type": "markdown",
      "source": [
        "**For Loop -> Sets**\n",
        "\n",
        "\n",
        "\n"
      ],
      "metadata": {
        "id": "_WYY8lo7i6gj"
      }
    },
    {
      "cell_type": "code",
      "source": [
        "s={1,2,3,4,\"Hi\",(2,4,6)}\n",
        "print(s)\n",
        "\n",
        "for i in s:\n",
        "  print(i)"
      ],
      "metadata": {
        "colab": {
          "base_uri": "https://localhost:8080/"
        },
        "id": "eb_RUCZSh2aW",
        "outputId": "9befbd83-0845-4c44-f192-e298778df2e0"
      },
      "execution_count": null,
      "outputs": [
        {
          "output_type": "stream",
          "name": "stdout",
          "text": [
            "{1, 2, 3, 4, (2, 4, 6), 'Hi'}\n",
            "1\n",
            "2\n",
            "3\n",
            "4\n",
            "(2, 4, 6)\n",
            "Hi\n"
          ]
        }
      ]
    },
    {
      "cell_type": "markdown",
      "source": [
        "**For Loop -> Dictionary**"
      ],
      "metadata": {
        "id": "CjpeVawDjes7"
      }
    },
    {
      "cell_type": "code",
      "source": [
        "di={1:\"a\",2:\"b\",3:\"c\"}\n",
        "print(di)\n",
        "\n",
        "for i in di:\n",
        "  print(i,\":\", di[i])\n",
        "\n",
        "\n",
        "print(\"\\n\")\n",
        "\n",
        "\n",
        "for key,value in di.items():\n",
        "  print(key,value)\n"
      ],
      "metadata": {
        "colab": {
          "base_uri": "https://localhost:8080/"
        },
        "id": "rZ04UVYAh2eu",
        "outputId": "5da55a0b-0984-4bdd-933c-20085923e0f6"
      },
      "execution_count": null,
      "outputs": [
        {
          "output_type": "stream",
          "name": "stdout",
          "text": [
            "{1: 'a', 2: 'b', 3: 'c'}\n",
            "1 : a\n",
            "2 : b\n",
            "3 : c\n",
            "\n",
            "\n",
            "1 a\n",
            "2 b\n",
            "3 c\n"
          ]
        }
      ]
    },
    {
      "cell_type": "markdown",
      "source": [
        "**The pass Statement**\n",
        "* for loops cannot be empty, but if you for some reason have a for loop with no content, put in the pass statement to avoid getting an error.\n",
        "\n",
        "\n"
      ],
      "metadata": {
        "id": "THpAdVl5l_VY"
      }
    },
    {
      "cell_type": "code",
      "source": [
        "for i in \"hello\":\n",
        "  pass\n",
        "\n",
        "print(\"\\n\")\n"
      ],
      "metadata": {
        "colab": {
          "base_uri": "https://localhost:8080/"
        },
        "id": "AXACYmd6h2id",
        "outputId": "2326f848-9384-48b9-d4ef-03569004fda4"
      },
      "execution_count": null,
      "outputs": [
        {
          "output_type": "stream",
          "name": "stdout",
          "text": [
            "\n",
            "\n"
          ]
        }
      ]
    },
    {
      "cell_type": "markdown",
      "source": [
        "**Nested Loops**\n",
        "* A nested loop is a loop inside a loop.\n",
        "\n"
      ],
      "metadata": {
        "id": "mjouLxYkm4pR"
      }
    },
    {
      "cell_type": "code",
      "source": [
        "for i in range(1,6):\n",
        "  print(\"\\n\")\n",
        "  print(f\"Table {i}\")\n",
        "  for j in range(1,11):\n",
        "    print(f\"{i}*{j}=\",i*j)\n",
        "\n",
        "print(\"\\n\")\n"
      ],
      "metadata": {
        "colab": {
          "base_uri": "https://localhost:8080/"
        },
        "id": "Ihp-eH74h2ns",
        "outputId": "6514413a-78b8-4acb-c762-d0766e88b38c"
      },
      "execution_count": null,
      "outputs": [
        {
          "output_type": "stream",
          "name": "stdout",
          "text": [
            "\n",
            "\n",
            "Table 1\n",
            "1*1= 1\n",
            "1*2= 2\n",
            "1*3= 3\n",
            "1*4= 4\n",
            "1*5= 5\n",
            "1*6= 6\n",
            "1*7= 7\n",
            "1*8= 8\n",
            "1*9= 9\n",
            "1*10= 10\n",
            "\n",
            "\n",
            "Table 2\n",
            "2*1= 2\n",
            "2*2= 4\n",
            "2*3= 6\n",
            "2*4= 8\n",
            "2*5= 10\n",
            "2*6= 12\n",
            "2*7= 14\n",
            "2*8= 16\n",
            "2*9= 18\n",
            "2*10= 20\n",
            "\n",
            "\n",
            "Table 3\n",
            "3*1= 3\n",
            "3*2= 6\n",
            "3*3= 9\n",
            "3*4= 12\n",
            "3*5= 15\n",
            "3*6= 18\n",
            "3*7= 21\n",
            "3*8= 24\n",
            "3*9= 27\n",
            "3*10= 30\n",
            "\n",
            "\n",
            "Table 4\n",
            "4*1= 4\n",
            "4*2= 8\n",
            "4*3= 12\n",
            "4*4= 16\n",
            "4*5= 20\n",
            "4*6= 24\n",
            "4*7= 28\n",
            "4*8= 32\n",
            "4*9= 36\n",
            "4*10= 40\n",
            "\n",
            "\n",
            "Table 5\n",
            "5*1= 5\n",
            "5*2= 10\n",
            "5*3= 15\n",
            "5*4= 20\n",
            "5*5= 25\n",
            "5*6= 30\n",
            "5*7= 35\n",
            "5*8= 40\n",
            "5*9= 45\n",
            "5*10= 50\n",
            "\n",
            "\n"
          ]
        }
      ]
    },
    {
      "cell_type": "markdown",
      "source": [
        "**for loop with zip()**\n",
        "* The below code uses the zip() function to iterate over two lists in parallel. The for loop assigns the corresponding elements of both lists to the variables in each iteration inside loop.\n",
        "\n",
        "* The output will display each item from the list 1  along with its corresponding item from list 2.\n",
        "\n"
      ],
      "metadata": {
        "id": "HMxvmECquCiC"
      }
    },
    {
      "cell_type": "code",
      "source": [
        "l1=[\"Tasty\",\"Delicious\"]\n",
        "l2=[\"Desserts\",\"Icecreams\"]\n",
        "print(l1)\n",
        "print(l2)\n",
        "print(\"\\n\")\n",
        "\n",
        "for i,j in zip(l1,l2):\n",
        "    print(f\"{i} {j}\")\n",
        "\n",
        "print(\"\\n\")"
      ],
      "metadata": {
        "colab": {
          "base_uri": "https://localhost:8080/"
        },
        "id": "euqbehMth2u-",
        "outputId": "846acf9b-327c-4908-f633-4aea6bb86499"
      },
      "execution_count": null,
      "outputs": [
        {
          "output_type": "stream",
          "name": "stdout",
          "text": [
            "['Tasty', 'Delicious']\n",
            "['Desserts', 'Icecreams']\n",
            "\n",
            "\n",
            "Tasty Desserts\n",
            "Delicious Icecreams\n",
            "\n",
            "\n"
          ]
        }
      ]
    },
    {
      "cell_type": "code",
      "source": [
        "l1=[\"Tasty\",\"Delicious\"]\n",
        "l2=[\"Desserts\",\"Icecreams\"]\n",
        "\n",
        "for i in l1:\n",
        "  for j in l2:\n",
        "    print(\"\\n\")\n",
        "    print(f\"{i} {j}\")\n",
        "\n",
        "print(\"\\n\")\n"
      ],
      "metadata": {
        "colab": {
          "base_uri": "https://localhost:8080/"
        },
        "id": "ph5GsF4fh2yx",
        "outputId": "35803617-0896-4992-afd6-813742ade188"
      },
      "execution_count": null,
      "outputs": [
        {
          "output_type": "stream",
          "name": "stdout",
          "text": [
            "\n",
            "\n",
            "Tasty Desserts\n",
            "\n",
            "\n",
            "Tasty Icecreams\n",
            "\n",
            "\n",
            "Delicious Desserts\n",
            "\n",
            "\n",
            "Delicious Icecreams\n",
            "\n",
            "\n"
          ]
        }
      ]
    },
    {
      "cell_type": "markdown",
      "source": [
        "**for Loop with else**\n",
        "* In Python we can use else with the for and while loop too.\n",
        "* The statement of else block will be executed only if the for loop has completed successfully. If it is terminated like using break statement before succesfully completion of loop then else block will not execute."
      ],
      "metadata": {
        "id": "zFu8AbKxiv1Y"
      }
    },
    {
      "cell_type": "code",
      "source": [
        "for i in range(1,6):\n",
        "  print(i)\n",
        "else:\n",
        "  print(\"Else Block Executed\")"
      ],
      "metadata": {
        "id": "VLSQ8Kpjh235",
        "colab": {
          "base_uri": "https://localhost:8080/"
        },
        "outputId": "7daf97e0-84d2-428a-a947-a1e92d71f663"
      },
      "execution_count": 2,
      "outputs": [
        {
          "output_type": "stream",
          "name": "stdout",
          "text": [
            "1\n",
            "2\n",
            "3\n",
            "4\n",
            "5\n",
            "Else Block Executed\n"
          ]
        }
      ]
    },
    {
      "cell_type": "code",
      "source": [
        "for i in \"Hello\":\n",
        "  print(i)\n",
        "  if i==\"o\":\n",
        "    break\n",
        "else:\n",
        "  print(\"else block will not execute\")\n"
      ],
      "metadata": {
        "id": "_j-ka0rUh278",
        "colab": {
          "base_uri": "https://localhost:8080/"
        },
        "outputId": "f5b975f7-47e9-4783-f4f1-ed7ffcf334d4"
      },
      "execution_count": 3,
      "outputs": [
        {
          "output_type": "stream",
          "name": "stdout",
          "text": [
            "H\n",
            "e\n",
            "l\n",
            "l\n",
            "o\n"
          ]
        }
      ]
    },
    {
      "cell_type": "code",
      "source": [
        "li=[1,2,3,4,5,7,8]\n",
        "for i in li:\n",
        "  print(i)\n",
        "  if i==5:\n",
        "    break\n",
        "else:\n",
        "  print(\"else block will not execute\")\n",
        "\n",
        "print(\"\\n\")\n"
      ],
      "metadata": {
        "id": "E2v40BoUh3A0",
        "colab": {
          "base_uri": "https://localhost:8080/"
        },
        "outputId": "b6fc1e9e-2af2-4d07-faa8-56cb2d1e6917"
      },
      "execution_count": 8,
      "outputs": [
        {
          "output_type": "stream",
          "name": "stdout",
          "text": [
            "1\n",
            "2\n",
            "3\n",
            "4\n",
            "5\n",
            "\n",
            "\n"
          ]
        }
      ]
    },
    {
      "cell_type": "markdown",
      "source": [
        "#**While Loops in Python**"
      ],
      "metadata": {
        "id": "sNVtNeiCqXa7"
      }
    },
    {
      "cell_type": "code",
      "source": [
        "n=int(input())\n",
        "i=1\n",
        "s=0\n",
        "while(i<=n):\n",
        "  print(i)\n",
        "  i=i+1\n",
        "  s=s+i\n",
        "print(\"sum is\",s)\n",
        "\n",
        "print(\"\\n\")\n"
      ],
      "metadata": {
        "id": "RACH_FiSh3GV",
        "colab": {
          "base_uri": "https://localhost:8080/"
        },
        "outputId": "b7ee1d2a-ea79-4b7e-fd43-378eadc155ba"
      },
      "execution_count": 33,
      "outputs": [
        {
          "output_type": "stream",
          "name": "stdout",
          "text": [
            "5\n",
            "1\n",
            "2\n",
            "3\n",
            "4\n",
            "5\n",
            "sum is 20\n",
            "\n",
            "\n"
          ]
        }
      ]
    },
    {
      "cell_type": "code",
      "source": [
        "n=int(input())\n",
        "i=1\n",
        "f=1\n",
        "while(i<=n):\n",
        "  print(i)\n",
        "  f=f*i\n",
        "  i=i+1\n",
        "\n",
        "print(f\"factorial of {n} is\" ,f)\n",
        "\n",
        "print(\"\\n\")"
      ],
      "metadata": {
        "colab": {
          "base_uri": "https://localhost:8080/"
        },
        "id": "1SQvW6S0qfsV",
        "outputId": "609c201a-a5ea-4ba8-a698-6897ee40cea4"
      },
      "execution_count": 34,
      "outputs": [
        {
          "output_type": "stream",
          "name": "stdout",
          "text": [
            "5\n",
            "1\n",
            "2\n",
            "3\n",
            "4\n",
            "5\n",
            "factorial of 5 is 120\n",
            "\n",
            "\n"
          ]
        }
      ]
    },
    {
      "cell_type": "code",
      "source": [
        "i=5\n",
        "f=1\n",
        "while(i>0):\n",
        "  print(i)\n",
        "  f=f*i\n",
        "  i=i-1\n",
        "\n",
        "print(\"factorial using decrementing loop\",f)\n",
        "\n",
        "print(\"\\n\")\n"
      ],
      "metadata": {
        "id": "yh2j0qD_h3MP",
        "colab": {
          "base_uri": "https://localhost:8080/"
        },
        "outputId": "69b0fed4-c301-4de1-cb27-8801c43e1f3e"
      },
      "execution_count": 35,
      "outputs": [
        {
          "output_type": "stream",
          "name": "stdout",
          "text": [
            "5\n",
            "4\n",
            "3\n",
            "2\n",
            "1\n",
            "factorial using decrementing loop 120\n",
            "\n",
            "\n"
          ]
        }
      ]
    },
    {
      "cell_type": "code",
      "source": [
        "i=int(input(\"Enter the Number \"))\n",
        "while(i<=30):\n",
        "  i=int(input(\"Enter the Number \"))\n",
        "  if i==30:\n",
        "    print(\"Special Number is 30\")\n",
        "\n",
        "print(\"done with the loop\")"
      ],
      "metadata": {
        "id": "4-WBG2uih3Pf",
        "colab": {
          "base_uri": "https://localhost:8080/"
        },
        "outputId": "f4381298-8224-47dd-8e88-faf90b49b0f2"
      },
      "execution_count": 30,
      "outputs": [
        {
          "output_type": "stream",
          "name": "stdout",
          "text": [
            "Enter the Number 10\n",
            "Enter the Number 15\n",
            "Enter the Number 20\n",
            "Enter the Number 30\n",
            "Special Number is 30\n",
            "Enter the Number 40\n",
            "done with the loop\n"
          ]
        }
      ]
    },
    {
      "cell_type": "markdown",
      "source": [
        "**Else with While Loop**\n",
        "* We can use the else statement with the while loop."
      ],
      "metadata": {
        "id": "84qQGVgyxDra"
      }
    },
    {
      "cell_type": "code",
      "source": [
        "i=1\n",
        "while(i<=5):\n",
        "  print(i)\n",
        "  i=i+1\n",
        "\n",
        "else:\n",
        "  print(\"Else Block\")\n",
        "\n",
        "print(\"\\n\")\n"
      ],
      "metadata": {
        "id": "ro-G5Yrph3TG",
        "colab": {
          "base_uri": "https://localhost:8080/"
        },
        "outputId": "1ae91002-0d7a-4bbc-a72d-72df0601ce20"
      },
      "execution_count": 41,
      "outputs": [
        {
          "output_type": "stream",
          "name": "stdout",
          "text": [
            "1\n",
            "2\n",
            "3\n",
            "4\n",
            "5\n",
            "Else Block\n",
            "\n",
            "\n"
          ]
        }
      ]
    },
    {
      "cell_type": "code",
      "source": [
        "i=1\n",
        "while(i<=5):\n",
        "  print(i)\n",
        "  i=i+1\n",
        "  if(i==5):\n",
        "    break\n",
        "\n",
        "else:\n",
        "  print(\"Else Block\")\n",
        "\n",
        "print(\"\\n\")\n"
      ],
      "metadata": {
        "id": "SpxwNhLJh3Yw",
        "colab": {
          "base_uri": "https://localhost:8080/"
        },
        "outputId": "24f16c53-569a-45a1-d634-46e68bd2ed4e"
      },
      "execution_count": 42,
      "outputs": [
        {
          "output_type": "stream",
          "name": "stdout",
          "text": [
            "1\n",
            "2\n",
            "3\n",
            "4\n",
            "\n",
            "\n"
          ]
        }
      ]
    },
    {
      "cell_type": "code",
      "source": [],
      "metadata": {
        "id": "JwhImnh2h3cc"
      },
      "execution_count": null,
      "outputs": []
    },
    {
      "cell_type": "code",
      "source": [],
      "metadata": {
        "id": "X-kt6oQah3gG"
      },
      "execution_count": null,
      "outputs": []
    },
    {
      "cell_type": "code",
      "source": [],
      "metadata": {
        "id": "syy-8BXqh3jt"
      },
      "execution_count": null,
      "outputs": []
    },
    {
      "cell_type": "code",
      "source": [],
      "metadata": {
        "id": "Y7cdqgz3h3m8"
      },
      "execution_count": null,
      "outputs": []
    },
    {
      "cell_type": "code",
      "source": [],
      "metadata": {
        "id": "t_g_3wONh3pj"
      },
      "execution_count": null,
      "outputs": []
    },
    {
      "cell_type": "code",
      "source": [],
      "metadata": {
        "id": "EAB2Y8soh3tE"
      },
      "execution_count": null,
      "outputs": []
    },
    {
      "cell_type": "code",
      "source": [],
      "metadata": {
        "id": "sdb-Gb_Vh3wB"
      },
      "execution_count": null,
      "outputs": []
    }
  ]
}