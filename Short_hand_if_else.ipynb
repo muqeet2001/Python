{
  "nbformat": 4,
  "nbformat_minor": 0,
  "metadata": {
    "colab": {
      "provenance": []
    },
    "kernelspec": {
      "name": "python3",
      "display_name": "Python 3"
    },
    "language_info": {
      "name": "python"
    }
  },
  "cells": [
    {
      "cell_type": "markdown",
      "source": [
        "#**Short Hand if else Statements**"
      ],
      "metadata": {
        "id": "0R6XMqscyvmX"
      }
    },
    {
      "cell_type": "code",
      "execution_count": 3,
      "metadata": {
        "colab": {
          "base_uri": "https://localhost:8080/"
        },
        "id": "ZRER9Dgtn7Mu",
        "outputId": "b1b7c168-225a-4638-9188-312ec55d1ad3"
      },
      "outputs": [
        {
          "output_type": "stream",
          "name": "stdout",
          "text": [
            "HI\n"
          ]
        }
      ],
      "source": [
        "if 1<2: print(\"HI\")"
      ]
    },
    {
      "cell_type": "code",
      "source": [
        "a=3\n",
        "b=2\n",
        "print(\"Hi\") if a>=b else print(\"bye\")\n",
        "c=5 if a>b else 1\n",
        "print(c)"
      ],
      "metadata": {
        "colab": {
          "base_uri": "https://localhost:8080/"
        },
        "id": "m1RLs8qooBKq",
        "outputId": "233cd4ba-2623-4b38-c793-21b94ac732a8"
      },
      "execution_count": 22,
      "outputs": [
        {
          "output_type": "stream",
          "name": "stdout",
          "text": [
            "Hi\n",
            "5\n"
          ]
        }
      ]
    },
    {
      "cell_type": "code",
      "source": [
        "a=1\n",
        "b=2\n",
        "c=5\n",
        "print(\"a is big\") if a>b and a>c else print(\"b is big\") if b>c else print(\"c is big\")"
      ],
      "metadata": {
        "colab": {
          "base_uri": "https://localhost:8080/"
        },
        "id": "kktvU1SxoBOE",
        "outputId": "fe1e953e-b8f0-47cd-9fca-7a9fc4ac3427"
      },
      "execution_count": 9,
      "outputs": [
        {
          "output_type": "stream",
          "name": "stdout",
          "text": [
            "c is big\n"
          ]
        }
      ]
    },
    {
      "cell_type": "code",
      "source": [
        "a=1\n",
        "b=1\n",
        "print(\"A\") if a>b else print(\"a = b\") if a==b else print(\"B\")"
      ],
      "metadata": {
        "colab": {
          "base_uri": "https://localhost:8080/"
        },
        "id": "pponWGcXoBQu",
        "outputId": "cec10a93-94da-4b39-c76b-816baf2bdca3"
      },
      "execution_count": 18,
      "outputs": [
        {
          "output_type": "stream",
          "name": "stdout",
          "text": [
            "a = b\n"
          ]
        }
      ]
    },
    {
      "cell_type": "code",
      "source": [],
      "metadata": {
        "id": "s7Huto80oBTO"
      },
      "execution_count": null,
      "outputs": []
    }
  ]
}