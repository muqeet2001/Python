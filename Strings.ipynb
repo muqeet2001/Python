{
  "nbformat": 4,
  "nbformat_minor": 0,
  "metadata": {
    "colab": {
      "provenance": []
    },
    "kernelspec": {
      "name": "python3",
      "display_name": "Python 3"
    },
    "language_info": {
      "name": "python"
    }
  },
  "cells": [
    {
      "cell_type": "markdown",
      "source": [
        "# **Strings in Python**\n",
        "\n",
        "\n",
        "\n",
        "\n",
        "\n",
        "\n"
      ],
      "metadata": {
        "id": "70BpOvKLdYzw"
      }
    },
    {
      "cell_type": "markdown",
      "source": [
        " * Anything that you enclose between single or double quotation marks considered as String.\n",
        " * A String is a  sequence data type in Python that represents a sequence of characters.  \n",
        " *  It is an immutable data type, meaning that once you have created a string, you cannot change it."
      ],
      "metadata": {
        "id": "DBeMBaxUeEZw"
      }
    },
    {
      "cell_type": "code",
      "execution_count": 12,
      "metadata": {
        "colab": {
          "base_uri": "https://localhost:8080/"
        },
        "id": "SQdCOUvsdAMp",
        "outputId": "0e232072-a715-4ec1-f33c-21659863ed0a"
      },
      "outputs": [
        {
          "output_type": "stream",
          "name": "stdout",
          "text": [
            "Hello\n",
            "Hello\n",
            "My Name is String\n",
            "Good Boy\n",
            "Good Boy\n",
            "<class 'str'>\n"
          ]
        }
      ],
      "source": [
        "print(\"Hello\")\n",
        "print('Hello')\n",
        "a=\"My Name is String\"\n",
        "print(a)\n",
        "a=input()\n",
        "print(a)\n",
        "print(type(a))"
      ]
    },
    {
      "cell_type": "markdown",
      "source": [
        "* **Multiline Strings**"
      ],
      "metadata": {
        "id": "OviOUbOfhY1V"
      }
    },
    {
      "cell_type": "code",
      "source": [
        "a=\"\"\"Good Morning\n",
        "How are you\n",
        "tell me about yourself\n",
        "thank you\"\"\"\n",
        "print(a)\n"
      ],
      "metadata": {
        "colab": {
          "base_uri": "https://localhost:8080/"
        },
        "id": "CSBddLeSdVEW",
        "outputId": "5f62d0a4-5414-4359-88b1-5545b1fa481a"
      },
      "execution_count": 10,
      "outputs": [
        {
          "output_type": "stream",
          "name": "stdout",
          "text": [
            "Good Morning\n",
            "How are you\n",
            "tell me about yourself\n",
            "thank you\n"
          ]
        }
      ]
    },
    {
      "cell_type": "markdown",
      "source": [
        "#**Accessing Characters in Python**"
      ],
      "metadata": {
        "id": "IwCGNKwLibQT"
      }
    },
    {
      "cell_type": "code",
      "source": [
        "a=\"String\"\n",
        "print(a)\n",
        "\n",
        "#Acessing characters using index(index starts with zero from first element)\n",
        "\n",
        "print(a[0]) # print first character\n",
        "print(a[1])\n",
        "print(a[2])\n",
        "print(a[3])\n",
        "print(a[4])\n",
        "print(a[5])\n",
        "#print(a[6]) # throws error\n",
        "print(\"\\n\")\n",
        "\n",
        "#Accessing characters using for loop\n",
        "\n",
        "for i in a:\n",
        "  print(i)\n",
        "\n",
        "print(\"\\n\")\n",
        "\n",
        "#Accessing characters using negative index (negative index will start from -1 from last element)\n",
        "\n",
        "a=\"College\"\n",
        "print(a[-1])   # print last element\n",
        "print(a[-2])\n",
        "print(a[-3])\n",
        "print(a[-4])\n",
        "print(a[-5])\n",
        "print(a[-6])\n",
        "print(a[-7])   # print first element\n",
        "\n",
        "print(\"\\n\")\n",
        "\n",
        "print(a[-7])   # print first element\n",
        "print(a[-6])\n",
        "print(a[-5])\n",
        "print(a[-4])\n",
        "print(a[-3])\n",
        "print(a[-2])\n",
        "print(a[-1])   # print last element\n",
        "\n",
        "\n",
        "# a[2]='r' # error because strings are immutable"
      ],
      "metadata": {
        "colab": {
          "base_uri": "https://localhost:8080/"
        },
        "id": "LDogY0wOdVW4",
        "outputId": "1594a496-cc76-4003-8692-a208b43694db"
      },
      "execution_count": 26,
      "outputs": [
        {
          "output_type": "stream",
          "name": "stdout",
          "text": [
            "String\n",
            "S\n",
            "t\n",
            "r\n",
            "i\n",
            "n\n",
            "g\n",
            "\n",
            "\n",
            "S\n",
            "t\n",
            "r\n",
            "i\n",
            "n\n",
            "g\n",
            "\n",
            "\n",
            "e\n",
            "g\n",
            "e\n",
            "l\n",
            "l\n",
            "o\n",
            "C\n",
            "\n",
            "\n",
            "C\n",
            "o\n",
            "l\n",
            "l\n",
            "e\n",
            "g\n",
            "e\n"
          ]
        }
      ]
    },
    {
      "cell_type": "markdown",
      "source": [
        "# **String Slicing**"
      ],
      "metadata": {
        "id": "MD6p4EpEoYCz"
      }
    },
    {
      "cell_type": "code",
      "source": [
        "a=\"Happy\"\n",
        "\n",
        "print(a[0:5])     #   a[m:n] print characters from  index m to n-1 index -> here m is 0 and n is 5 and here it prints characters from index 0 to index 4\n",
        "print(a[0:1])\n",
        "print(a[0:2])\n",
        "print(a[0:3])\n",
        "print(a[0:4])\n",
        "print(a[0:5])\n",
        "print(a[0:1])     #  a[m:n] -> a[0:1] print characters from index 0 to index n-1(1-1=0)  here it print character of index 0\n",
        "print(a[1:2])\n",
        "print(a[2:3])\n",
        "print(a[3:4])\n",
        "print(a[4:5])\n",
        "\n",
        "print(a[:])       #   a[:] -> By default it takes starting index(m) as 0 and n-1 as (length of string-1) i.e a[:] becomes a[0:(length of string-1)]\n",
        "\n",
        "print(a[0:])      #   a[0:]  it becomes a[0:(length of string-1)]\n",
        "\n",
        "print(a[:5])      #   a[:5]  it becomes a[0:5]\n",
        "\n",
        "print(a[0:-1])    #   a[0:-1] it prints characters from index 0 to index -2(last 2nd character)\n",
        "\n",
        "print(a[-3:-2])   #   a[-3:-2] it prints characters from index -3 to index -3 is it prints third character\n",
        "\n",
        "print(a[-4:-1])   #   print characters from index -4 to index -2"
      ],
      "metadata": {
        "colab": {
          "base_uri": "https://localhost:8080/"
        },
        "id": "ggFVRCINdVaU",
        "outputId": "1683043e-daff-440b-b019-2fa08ad0071f"
      },
      "execution_count": 41,
      "outputs": [
        {
          "output_type": "stream",
          "name": "stdout",
          "text": [
            "Happy\n",
            "H\n",
            "Ha\n",
            "Hap\n",
            "Happ\n",
            "Happy\n",
            "H\n",
            "a\n",
            "p\n",
            "p\n",
            "y\n",
            "Happy\n",
            "Happy\n",
            "Happy\n",
            "Happ\n",
            "p\n",
            "app\n"
          ]
        }
      ]
    },
    {
      "cell_type": "code",
      "source": [],
      "metadata": {
        "id": "-5HiUgYsdVgT"
      },
      "execution_count": null,
      "outputs": []
    },
    {
      "cell_type": "markdown",
      "source": [
        "# **Python String Methods**"
      ],
      "metadata": {
        "id": "4DH8hoxHxjGN"
      }
    },
    {
      "cell_type": "markdown",
      "source": [
        "* **len() -> Length of string**"
      ],
      "metadata": {
        "id": "oFbmRfs9x_4W"
      }
    },
    {
      "cell_type": "code",
      "source": [
        "a=input()\n",
        "print(len(a))\n",
        "b=\"Happy\"\n",
        "print(b)\n",
        "print(len(b))"
      ],
      "metadata": {
        "colab": {
          "base_uri": "https://localhost:8080/"
        },
        "id": "zShJ-JnIdVsi",
        "outputId": "b5b4a517-fa22-432e-b411-7ea1d10d01a4"
      },
      "execution_count": 44,
      "outputs": [
        {
          "output_type": "stream",
          "name": "stdout",
          "text": [
            "Good\n",
            "4\n",
            "Happy\n",
            "5\n"
          ]
        }
      ]
    },
    {
      "cell_type": "markdown",
      "source": [
        "* **upper() -> Convert string character into upper case**"
      ],
      "metadata": {
        "id": "x3CUAapOy3qL"
      }
    },
    {
      "cell_type": "code",
      "source": [
        "a=\"upper\"\n",
        "print(a)\n",
        "print(a.upper())\n",
        "b=input()\n",
        "print(b.upper())\n",
        "\n"
      ],
      "metadata": {
        "colab": {
          "base_uri": "https://localhost:8080/"
        },
        "id": "CWWvMgSEdV0V",
        "outputId": "557c7671-2320-4c72-b86e-772b906cd136"
      },
      "execution_count": 50,
      "outputs": [
        {
          "output_type": "stream",
          "name": "stdout",
          "text": [
            "upper\n",
            "UPPER\n",
            "upper case\n",
            "UPPER CASE\n"
          ]
        }
      ]
    },
    {
      "cell_type": "markdown",
      "source": [
        "* **lower() -> Convert string characters into lower case**"
      ],
      "metadata": {
        "id": "P1Ht01RG0BoT"
      }
    },
    {
      "cell_type": "code",
      "source": [
        "a=\"LOWER\"\n",
        "print(a)\n",
        "print(a.lower())\n",
        "b=input()\n",
        "print(b.lower())\n"
      ],
      "metadata": {
        "colab": {
          "base_uri": "https://localhost:8080/"
        },
        "id": "zJt0IYLVdV4B",
        "outputId": "a3535e24-92fe-4c04-e87d-d2282c5732d8"
      },
      "execution_count": 51,
      "outputs": [
        {
          "output_type": "stream",
          "name": "stdout",
          "text": [
            "LOWER\n",
            "lower\n",
            "LOWER CASE\n",
            "lower case\n"
          ]
        }
      ]
    },
    {
      "cell_type": "markdown",
      "source": [
        "* **rstrip() -> removes any trailing characters from end**"
      ],
      "metadata": {
        "id": "GQLj-yhR1sRj"
      }
    },
    {
      "cell_type": "code",
      "source": [
        "a=\"Hello!!!!!!!@@@!#!\"\n",
        "print(a)\n",
        "print(a.rstrip(\"!@#\"))\n",
        "b=input()\n",
        "print(b.rstrip(\"!@#$%^&*-+\"))"
      ],
      "metadata": {
        "colab": {
          "base_uri": "https://localhost:8080/"
        },
        "id": "kYKvONn2dV79",
        "outputId": "4141ef3f-492f-4028-ae4c-c5ca9591e499"
      },
      "execution_count": 58,
      "outputs": [
        {
          "output_type": "stream",
          "name": "stdout",
          "text": [
            "Hello!!!!!!!@@@!#!\n",
            "Hello\n",
            "Hello!#@$%&^*+-\n",
            "Hello\n"
          ]
        }
      ]
    },
    {
      "cell_type": "markdown",
      "source": [
        "* **lstrip() -> removes any trailing characters from begining**"
      ],
      "metadata": {
        "id": "6UWaXFdD2XNj"
      }
    },
    {
      "cell_type": "code",
      "source": [
        "a=\"!!!!Hello\"\n",
        "print(a)\n",
        "print(a.lstrip(\"!\"))\n",
        "b=\",,.!@Hello\"\n",
        "print(b)\n",
        "print(a.lstrip(\".,!@\"))"
      ],
      "metadata": {
        "colab": {
          "base_uri": "https://localhost:8080/"
        },
        "id": "zurmfT2WdV_S",
        "outputId": "f9fc9b72-a577-4487-d30b-372ac0eaba58"
      },
      "execution_count": 59,
      "outputs": [
        {
          "output_type": "stream",
          "name": "stdout",
          "text": [
            "!!!!Hello\n",
            "Hello\n",
            ",,.!@Hello\n",
            "Hello\n"
          ]
        }
      ]
    },
    {
      "cell_type": "markdown",
      "source": [
        "* **replace(\"Old string\",\"New string\") -> replaces the old string with new string**"
      ],
      "metadata": {
        "id": "93Wr8ZmR4TSf"
      }
    },
    {
      "cell_type": "code",
      "source": [
        "a=\"Bad boy\"\n",
        "print(a)\n",
        "print(a.replace(\"Bad\",\"Good\"))\n",
        "b=input()\n",
        "print(b.replace(\"Icecream\",\"Chocolates\"))"
      ],
      "metadata": {
        "colab": {
          "base_uri": "https://localhost:8080/"
        },
        "id": "5QOHXVrPdWDQ",
        "outputId": "55e00667-e888-4538-bcfe-62e910b76b2d"
      },
      "execution_count": 61,
      "outputs": [
        {
          "output_type": "stream",
          "name": "stdout",
          "text": [
            "Bad boy\n",
            "Good boy\n",
            "I like Icecream so much.once in a day i eat Icecream.It is my favourite.\n",
            "I like Chocolates so much.once in a day i eat Chocolates.It is my favourite.\n"
          ]
        }
      ]
    },
    {
      "cell_type": "markdown",
      "source": [
        "* **count() -> returns the number of times the given value occured with in the string**\n",
        "\n",
        "\n"
      ],
      "metadata": {
        "id": "GXWA23TN6gaQ"
      }
    },
    {
      "cell_type": "code",
      "source": [
        "a=\"Happiness\"\n",
        "print(a)\n",
        "print(a.count(\"p\"))\n",
        "b=\"My name is happy.iam happy and like happy happy biscuit and my happy birthday is today.\"\n",
        "print(b)\n",
        "print(b.count(\"happy\"))"
      ],
      "metadata": {
        "colab": {
          "base_uri": "https://localhost:8080/"
        },
        "id": "CqU5h3CDdWHC",
        "outputId": "95953eb4-2013-4c5c-87e1-9daaf961491f"
      },
      "execution_count": 65,
      "outputs": [
        {
          "output_type": "stream",
          "name": "stdout",
          "text": [
            "Happiness\n",
            "2\n",
            "My name is happy.iam happy and like happy happy biscuit and my happy birthday is today.\n",
            "5\n"
          ]
        }
      ]
    },
    {
      "cell_type": "markdown",
      "source": [
        "* **find() -> searches for the first occurence of the given value and returns the index where it is present.If the given value is absent from string return -1**"
      ],
      "metadata": {
        "id": "A4UWAxlOBQ_f"
      }
    },
    {
      "cell_type": "code",
      "source": [
        "a=\"Happy Birthday to you\"\n",
        "print(a)\n",
        "print(a.find(\"t\"))\n",
        "print(a.find(\"e\"))\n",
        "b=input()\n",
        "print(b.find(\"happy\"))"
      ],
      "metadata": {
        "colab": {
          "base_uri": "https://localhost:8080/"
        },
        "id": "g9jtIJUodWNE",
        "outputId": "36e0c8ab-0b94-4c3b-a0cc-1c86304faa65"
      },
      "execution_count": 68,
      "outputs": [
        {
          "output_type": "stream",
          "name": "stdout",
          "text": [
            "Happy Birthday to you\n",
            "9\n",
            "-1\n",
            "My name is happy and today is my happy birthday\n",
            "11\n"
          ]
        }
      ]
    },
    {
      "cell_type": "markdown",
      "source": [
        "* **index() -> similar to find() method  returns the index where it is present.If the given value is absent from string then throws error**"
      ],
      "metadata": {
        "id": "4CtFHgXmCEGg"
      }
    },
    {
      "cell_type": "code",
      "source": [
        "a=\"Happy Birthday to you\"\n",
        "print(a)\n",
        "print(a.index(\"t\"))\n",
        "# print(a.index(\"e\"))   # throws error because we are using index() method\n",
        "b=input()\n",
        "print(b.index(\"happy\"))"
      ],
      "metadata": {
        "colab": {
          "base_uri": "https://localhost:8080/"
        },
        "id": "pyi88rfEdWTE",
        "outputId": "41bf3a27-6bbb-4877-d240-d8eb49a3d09f"
      },
      "execution_count": 73,
      "outputs": [
        {
          "output_type": "stream",
          "name": "stdout",
          "text": [
            "Happy Birthday to you\n",
            "9\n",
            "happy is happy\n",
            "0\n"
          ]
        }
      ]
    },
    {
      "cell_type": "markdown",
      "source": [
        " * **swapcase() -> convert uppercase to lowercase or convert lowercase to upppercase**"
      ],
      "metadata": {
        "id": "MqhDwT2fDKwy"
      }
    },
    {
      "cell_type": "code",
      "source": [
        "a=\"good\"\n",
        "print(a)\n",
        "print(a.swapcase())\n",
        "b=\"BAD\"\n",
        "print(b)\n",
        "print(b.swapcase())"
      ],
      "metadata": {
        "colab": {
          "base_uri": "https://localhost:8080/"
        },
        "id": "rcC42FQrdWWY",
        "outputId": "00e971df-af7f-412c-9f7d-258ece49f927"
      },
      "execution_count": 75,
      "outputs": [
        {
          "output_type": "stream",
          "name": "stdout",
          "text": [
            "good\n",
            "GOOD\n",
            "BAD\n",
            "bad\n"
          ]
        }
      ]
    },
    {
      "cell_type": "markdown",
      "source": [
        "* **capitalize() -> turns only first character of the string to uppercase and rest other characters of the strings turned into lower case**"
      ],
      "metadata": {
        "id": "VxPpvfjnEMIu"
      }
    },
    {
      "cell_type": "code",
      "source": [
        "a=\"large\"\n",
        "print(a)\n",
        "print(a.capitalize())\n",
        "b=input()\n",
        "print(b.capitalize())\n"
      ],
      "metadata": {
        "colab": {
          "base_uri": "https://localhost:8080/"
        },
        "id": "jP7Q65EfdWZ9",
        "outputId": "93a0a5b3-a0bc-4439-c7e9-c217242ccfd1"
      },
      "execution_count": 78,
      "outputs": [
        {
          "output_type": "stream",
          "name": "stdout",
          "text": [
            "large\n",
            "Large\n",
            "happiNEss Is EVERything\n",
            "Happiness is everything\n"
          ]
        }
      ]
    },
    {
      "cell_type": "markdown",
      "source": [
        "* **title() -> capitalize each letter of the word within the string**"
      ],
      "metadata": {
        "id": "EFLKbWfUFOYQ"
      }
    },
    {
      "cell_type": "code",
      "source": [
        "a=\"good boy\"\n",
        "print(a)\n",
        "print(a.title())\n",
        "b=input()\n",
        "print(b.title())\n"
      ],
      "metadata": {
        "colab": {
          "base_uri": "https://localhost:8080/"
        },
        "id": "YFrOEVKmdWc_",
        "outputId": "53f662d3-0ed9-4794-b340-26c0493a7aba"
      },
      "execution_count": 79,
      "outputs": [
        {
          "output_type": "stream",
          "name": "stdout",
          "text": [
            "good boy\n",
            "Good Boy\n",
            "hapPIness is everyThing\n",
            "Happiness Is Everything\n"
          ]
        }
      ]
    },
    {
      "cell_type": "markdown",
      "source": [
        "* **startswith() -> checks if the string starts with a given value or not.if yes then return true else return false**"
      ],
      "metadata": {
        "id": "hs-I9MUyHC_C"
      }
    },
    {
      "cell_type": "code",
      "source": [
        "a=\"iam good boy\"\n",
        "print(a)\n",
        "print(a.startswith(\"i\"))\n",
        "print(a.startswith(\"iam\"))\n",
        "print(a.startswith(\"a\"))\n",
        "b=input()\n",
        "print(b.startswith(\"happiness\"))\n",
        "print(b.startswith(\"happy\"))"
      ],
      "metadata": {
        "colab": {
          "base_uri": "https://localhost:8080/"
        },
        "id": "OM1Cu90idWgD",
        "outputId": "51a28352-1818-40f4-dda7-98e3f339e9a1"
      },
      "execution_count": 86,
      "outputs": [
        {
          "output_type": "stream",
          "name": "stdout",
          "text": [
            "iam good boy\n",
            "True\n",
            "True\n",
            "False\n",
            "happiness is everything\n",
            "True\n",
            "False\n"
          ]
        }
      ]
    },
    {
      "cell_type": "markdown",
      "source": [
        "* **endswith() -> checks if the string ends with a given value or not.if yes then return true else return false**"
      ],
      "metadata": {
        "id": "7D0dI9guH4eo"
      }
    },
    {
      "cell_type": "code",
      "source": [
        "a=\"iam good boy\"\n",
        "print(a)\n",
        "print(a.endswith(\"y\"))\n",
        "print(a.endswith(\"oy\"))\n",
        "print(a.endswith(\"boy\"))\n",
        "b=input()\n",
        "print(b.endswith(\"thing\"))\n",
        "print(b.endswith(\"think\"))"
      ],
      "metadata": {
        "colab": {
          "base_uri": "https://localhost:8080/"
        },
        "outputId": "f1f96376-ea18-4896-d0ef-2fb6a1742aa1",
        "id": "QA7drkVSIGIs"
      },
      "execution_count": 88,
      "outputs": [
        {
          "output_type": "stream",
          "name": "stdout",
          "text": [
            "iam good boy\n",
            "True\n",
            "True\n",
            "True\n",
            "happiness is everything\n",
            "True\n",
            "False\n"
          ]
        }
      ]
    },
    {
      "cell_type": "markdown",
      "source": [
        "* **center() -> method aligns the string to the center per parameter given by the user**"
      ],
      "metadata": {
        "id": "zRUic1EEI1v6"
      }
    },
    {
      "cell_type": "code",
      "source": [
        "a=\"Happy Birthday\"\n",
        "print(a)\n",
        "print(a.center(120))\n",
        "print(a.center(200))\n",
        "\n"
      ],
      "metadata": {
        "colab": {
          "base_uri": "https://localhost:8080/"
        },
        "id": "lKnoYI0cdWnI",
        "outputId": "139d7cf2-5cac-4f59-b2b0-bb518d517382"
      },
      "execution_count": 95,
      "outputs": [
        {
          "output_type": "stream",
          "name": "stdout",
          "text": [
            "Happy Birthday\n",
            "                                                     Happy Birthday                                                     \n",
            "                                                                                             Happy Birthday                                                                                             \n"
          ]
        }
      ]
    },
    {
      "cell_type": "markdown",
      "source": [
        "\n",
        "* **isalnum()   ->\tReturns True if all characters in the string are alphanumeric(A-Z,a-z,0-9)**\n",
        "\n",
        "* **isalpha()  ->\tReturns True if all characters in the string are in the alphabet**\n",
        "* **isascii()\t  -> Returns True if all characters in the string are ascii characters**\n",
        "* **isdigit()\t -> Returns True if all characters in the string are digits**\n",
        "* **islower()\t -> Returns True if all characters in the string are lower case**\n",
        "* **isupper()\t -> Returns True if all characters in the string are upper case**\n",
        "* **istitle()\t -> Returns True if the string follows the rules of a title**"
      ],
      "metadata": {
        "id": "qtC0TYcoKdC6"
      }
    },
    {
      "cell_type": "code",
      "source": [
        "a=\"aqw23gA\"\n",
        "print(a)\n",
        "print(a.isalnum())\n",
        "b=\"Abcdeff\"\n",
        "print(b)\n",
        "print(b.isalpha())\n",
        "c=\"Abcdef#@\"\n",
        "print(c)\n",
        "print(c.isascii())\n",
        "d=\"3124\"\n",
        "print(d)\n",
        "print(d.isdigit())\n",
        "e=\"hii\"\n",
        "print(e)\n",
        "print(e.islower())\n",
        "f=\"HII\"\n",
        "print(f)\n",
        "print(f.isupper())\n",
        "g=\"Happiness Is Everything\"\n",
        "print(g)\n",
        "print(g.istitle())"
      ],
      "metadata": {
        "colab": {
          "base_uri": "https://localhost:8080/"
        },
        "id": "1gHyfwhvdWu0",
        "outputId": "6d3e1e84-1801-4f96-95ee-98ff4f1de537"
      },
      "execution_count": 111,
      "outputs": [
        {
          "output_type": "stream",
          "name": "stdout",
          "text": [
            "aqw23gA\n",
            "True\n",
            "Abcdeff\n",
            "True\n",
            "Abcdef#@\n",
            "True\n",
            "3124\n",
            "True\n",
            "hii\n",
            "True\n",
            "HII\n",
            "True\n",
            "Happiness Is Everything\n",
            "True\n"
          ]
        }
      ]
    },
    {
      "cell_type": "markdown",
      "source": [
        "**Reverse Of String**\n",
        "* **Here is no built-in function to reverse a String in Python.**\n",
        "\n",
        "* **The fastest (and easiest?) way is to use a slice that steps backwards, -1.**"
      ],
      "metadata": {
        "id": "mQeeNJVpVRQh"
      }
    },
    {
      "cell_type": "code",
      "source": [
        "a=\"String\"\n",
        "print(a[::-1])  # print reverse of string\n",
        "\n",
        "print(a[::1])\n",
        "print(a[::2])   # print alternate characters as it is 2\n",
        "print(a[::3])\n",
        "print(a[::-2])  # print alternate characters in reverse"
      ],
      "metadata": {
        "colab": {
          "base_uri": "https://localhost:8080/"
        },
        "id": "rmFdYq45dW0E",
        "outputId": "df873601-104f-4788-e827-d7577386c8d2"
      },
      "execution_count": 126,
      "outputs": [
        {
          "output_type": "stream",
          "name": "stdout",
          "text": [
            "gnirtS\n",
            "String\n",
            "Srn\n",
            "Si\n",
            "git\n"
          ]
        }
      ]
    },
    {
      "cell_type": "code",
      "source": [],
      "metadata": {
        "id": "ICIGnl5ldW3i"
      },
      "execution_count": null,
      "outputs": []
    },
    {
      "cell_type": "code",
      "source": [],
      "metadata": {
        "id": "Xt5gsk3PdW6Z"
      },
      "execution_count": null,
      "outputs": []
    },
    {
      "cell_type": "code",
      "source": [],
      "metadata": {
        "id": "bxmtG1UudW9E"
      },
      "execution_count": null,
      "outputs": []
    },
    {
      "cell_type": "code",
      "source": [],
      "metadata": {
        "id": "6KEPLk9VdXBO"
      },
      "execution_count": null,
      "outputs": []
    }
  ]
}