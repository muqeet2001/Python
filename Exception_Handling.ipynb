{
  "nbformat": 4,
  "nbformat_minor": 0,
  "metadata": {
    "colab": {
      "provenance": []
    },
    "kernelspec": {
      "name": "python3",
      "display_name": "Python 3"
    },
    "language_info": {
      "name": "python"
    }
  },
  "cells": [
    {
      "cell_type": "markdown",
      "source": [
        "#**Exception Handling in Python**"
      ],
      "metadata": {
        "id": "CmSciL6Ufv7K"
      }
    },
    {
      "cell_type": "markdown",
      "source": [
        "* An exception is an event, which occurs during the execution of a program that disrupts the normal flow of the program's instructions.\n",
        "\n",
        "*  An exception is a Python object that represents an error.\n",
        "\n",
        "* Exception Handling is the process of responding to unwanted or unexcepted events when a computer program runs.\n",
        "\n",
        "* Exception Handling deals with these events to avoid the program or system crashing and without this process,exceptions would disrupt the normal operation of program.\n",
        "\n",
        "\n",
        "* Python has many built in exceptions that are raised when your program encounters an error.\n",
        "\n"
      ],
      "metadata": {
        "id": "YlxPsz90y-aH"
      }
    },
    {
      "cell_type": "markdown",
      "source": [
        "#**Python try except**"
      ],
      "metadata": {
        "id": "TMBdK2_r1RbT"
      }
    },
    {
      "cell_type": "markdown",
      "source": [
        "* try except blocks are used in python to handle errors and exceptions.\n",
        "\n",
        "\n",
        "* The code in try block runs when there is no error.If the try block catches the error  then the except block is executed.\n",
        "\n",
        "\n",
        "* The else block will execute code when there is no error.\n",
        "\n",
        "\n",
        "* The finally block will execute code, irrespective of the result of the try- and except blocks."
      ],
      "metadata": {
        "id": "rUqaO7SO1o5z"
      }
    },
    {
      "cell_type": "code",
      "execution_count": null,
      "metadata": {
        "id": "2tl5QXHp6XTK",
        "colab": {
          "base_uri": "https://localhost:8080/"
        },
        "outputId": "d48cd912-706f-4d94-8d97-05ba6da85daf"
      },
      "outputs": [
        {
          "output_type": "stream",
          "name": "stdout",
          "text": [
            "Error\n"
          ]
        }
      ],
      "source": [
        "try:\n",
        "  print(a)\n",
        "except:\n",
        "  print(\"Error\")"
      ]
    },
    {
      "cell_type": "code",
      "source": [
        "x=10\n",
        "try:\n",
        "  print(x)\n",
        "except:\n",
        "  print(\"Error\")\n",
        "else:\n",
        "  print(\"no error\")"
      ],
      "metadata": {
        "id": "v7bxIg7SdDNz",
        "colab": {
          "base_uri": "https://localhost:8080/"
        },
        "outputId": "51b60394-58f7-47c3-b27f-76b66e2de5b0"
      },
      "execution_count": null,
      "outputs": [
        {
          "output_type": "stream",
          "name": "stdout",
          "text": [
            "10\n",
            "no error\n"
          ]
        }
      ]
    },
    {
      "cell_type": "code",
      "source": [
        "#y=10\n",
        "try:\n",
        "  print(y)\n",
        "except:\n",
        "  print(\"Error\")\n",
        "finally:\n",
        "  print(\"finally\")\n",
        "\n",
        "\n",
        "print(\"\\n\")\n",
        "\n",
        "\n",
        "y=10\n",
        "try:\n",
        "  print(y)\n",
        "except:\n",
        "  print(\"Error\")\n",
        "finally:\n",
        "  print(\"finally\")\n",
        "\n",
        "\n",
        "print(\"\\n\")\n"
      ],
      "metadata": {
        "id": "3SmAlg6ydDR6",
        "colab": {
          "base_uri": "https://localhost:8080/"
        },
        "outputId": "dde3d908-f44a-4f02-f0aa-357b53e111e8"
      },
      "execution_count": null,
      "outputs": [
        {
          "output_type": "stream",
          "name": "stdout",
          "text": [
            "Error\n",
            "finally\n",
            "\n",
            "\n",
            "10\n",
            "finally\n",
            "\n",
            "\n"
          ]
        }
      ]
    },
    {
      "cell_type": "code",
      "source": [
        "try:\n",
        "  print(a)\n",
        "except Exception as e:       #It directly prints the error.The error will be stored in e.\n",
        "  print(e)"
      ],
      "metadata": {
        "id": "oiJ1bTQCdDVi",
        "colab": {
          "base_uri": "https://localhost:8080/"
        },
        "outputId": "13020b1b-e785-4957-9338-2b4c67624086"
      },
      "execution_count": null,
      "outputs": [
        {
          "output_type": "stream",
          "name": "stdout",
          "text": [
            "name 'a' is not defined\n"
          ]
        }
      ]
    },
    {
      "cell_type": "code",
      "source": [
        "a=\"K\"\n",
        "try:\n",
        "  print(int(a))\n",
        "except Exception as e:\n",
        "  print(e)\n",
        "\n",
        "print(\"\\n\")\n"
      ],
      "metadata": {
        "id": "fwWM_dPmdDX4",
        "colab": {
          "base_uri": "https://localhost:8080/"
        },
        "outputId": "889c3f23-286c-44d6-87c6-4585e943d8d4"
      },
      "execution_count": null,
      "outputs": [
        {
          "output_type": "stream",
          "name": "stdout",
          "text": [
            "invalid literal for int() with base 10: 'K'\n",
            "\n",
            "\n"
          ]
        }
      ]
    },
    {
      "cell_type": "code",
      "source": [
        "# errors can be of any type so we can write many except with single try\n",
        "\n",
        "try:\n",
        "  a=int(input(\"Enter the Number \"))\n",
        "  li=[1,2,3]\n",
        "  print(li[a])\n",
        "  for i in range(1,11):\n",
        "    print(f\"{a} X {i} =\",(a*i))\n",
        "\n",
        "except IndexError:\n",
        "  print(f\"{a} Index not found\")\n",
        "\n",
        "except ValueError:\n",
        "  print(\"Invalid Input\")\n",
        "\n",
        "\n",
        "print(\"\\n\")\n",
        "\n",
        "\n",
        "try:\n",
        "  a=int(input(\"Enter the Number \"))\n",
        "  li=[1,2,3]\n",
        "  print(li[a])\n",
        "\n",
        "except IndexError:\n",
        "  print(f\"Index {a} not found\")\n",
        "\n",
        "\n",
        "print(\"\\n\")\n"
      ],
      "metadata": {
        "id": "cNHhNtNPdDbG",
        "colab": {
          "base_uri": "https://localhost:8080/"
        },
        "outputId": "bc049cc0-f042-4cf0-9999-774ddf3e108d"
      },
      "execution_count": null,
      "outputs": [
        {
          "output_type": "stream",
          "name": "stdout",
          "text": [
            "Enter the Number muqeet\n",
            "Invalid Input\n",
            "\n",
            "\n",
            "Enter the Number 5\n",
            "Index 5 not found\n",
            "\n",
            "\n"
          ]
        }
      ]
    },
    {
      "cell_type": "markdown",
      "source": [
        "**Finally Keyword in Python**"
      ],
      "metadata": {
        "id": "-mK75UnTEENC"
      }
    },
    {
      "cell_type": "markdown",
      "source": [
        "* The finally block is always executed, so it is generally used for doing the concluding tasks like closing file resources or closing database connection or may be ending the program execution with a delightful message.\n",
        "\n",
        "\n"
      ],
      "metadata": {
        "id": "q464TNHzFdii"
      }
    },
    {
      "cell_type": "code",
      "source": [
        "try:\n",
        "  l=[1,2,3,4]\n",
        "  i=int(input(\"Enter the number \"))\n",
        "  print(l[i])\n",
        "except ValueError:\n",
        "  print(\"Invalid input\")\n",
        "except IndexError:\n",
        "  print(f\"Index {i} not found\")\n",
        "finally:\n",
        "  print(\"Iam always executed\")\n"
      ],
      "metadata": {
        "id": "9MIsv4stdDdr",
        "colab": {
          "base_uri": "https://localhost:8080/"
        },
        "outputId": "80ae28ca-0c9f-4f41-e1c0-c6812a2c348d"
      },
      "execution_count": 7,
      "outputs": [
        {
          "output_type": "stream",
          "name": "stdout",
          "text": [
            "Enter the number 5\n",
            "Index 5 not found\n",
            "Iam always executed\n"
          ]
        }
      ]
    },
    {
      "cell_type": "markdown",
      "source": [
        "* If we want to print the statements that are compulsory after try except block then we can simply write  those\n",
        "statements outside of try except block. those statements will be\n",
        "executed always. Y to use finally here if u use finally also same thing happens."
      ],
      "metadata": {
        "id": "AUyF00SaKGp3"
      }
    },
    {
      "cell_type": "code",
      "source": [
        "try:\n",
        "  l=[1,2,3,4]\n",
        "  i=int(input(\"Enter the number \"))\n",
        "  print(l[i])\n",
        "except ValueError:\n",
        "  print(\"Invalid input\")\n",
        "except IndexError:\n",
        "  print(f\"Index {i} not found\")\n",
        "\n",
        "print(\"Iam always executed\")         #without using finally\n",
        "\n",
        "print(\"\\n\")\n",
        "\n",
        "\n",
        "try:\n",
        "  l=[1,2,3,4]\n",
        "  i=int(input(\"Enter the number \"))\n",
        "  print(l[i])\n",
        "except ValueError:\n",
        "  print(\"Invalid input\")\n",
        "except IndexError:\n",
        "  print(f\"Index {i} not found\")\n",
        "finally:                                      # using finally\n",
        "  print(\"Iam always executed\")\n",
        "\n",
        "print(\"\\n\")\n"
      ],
      "metadata": {
        "id": "oxFxbTxddDgW",
        "colab": {
          "base_uri": "https://localhost:8080/"
        },
        "outputId": "99d5afda-b85d-48f9-fe86-5df0ba33b0c6"
      },
      "execution_count": 10,
      "outputs": [
        {
          "output_type": "stream",
          "name": "stdout",
          "text": [
            "Enter the number 1\n",
            "2\n",
            "Iam always exceuted\n",
            "\n",
            "\n",
            "Enter the number 1\n",
            "2\n",
            "Iam always exceuted\n",
            "\n",
            "\n"
          ]
        }
      ]
    },
    {
      "cell_type": "markdown",
      "source": [
        "\n",
        "* The answer for the above question is when we use functions and the whole code is written in a function without using finally and using direct statements after try except block. If we return the result in try block or except block then without excecuting the statements outside of try except block the function will return the result.\n",
        "\n",
        "\n",
        "* The whole code is written in function and finally used here. when try or except block return result then it will compulsory execute statements which are in finally then it will return the result.\n",
        "\n",
        "\n",
        "\n",
        "* Normally in function what happen if there is a return statement it will direct return from that point. but in case of exception handling if there a function containing try except and finally block and try block and except block have return statement in it and after executing finally block statement then try or except return result.\n",
        "\n",
        "\n"
      ],
      "metadata": {
        "id": "InJ89MyMMttR"
      }
    },
    {
      "cell_type": "code",
      "source": [
        "def TryExceptFinally():\n",
        "  try:\n",
        "    l=[1,2,3,4]\n",
        "    i=int(input(\"Enter the number \"))\n",
        "    print(l[i])\n",
        "    return 1\n",
        "  except IndexError:\n",
        "    print(f\"Index {i} not found\")\n",
        "    return 0\n",
        "  print(\"Iam always executed\")\n",
        "\n",
        "a=TryExceptFinally()\n",
        "print(a)\n",
        "\n",
        "\n",
        "print(\"\\n\")\n",
        "\n",
        "\n",
        "\n",
        "def TryExceptFinally():\n",
        "  try:\n",
        "    l=[1,2,3,4]\n",
        "    i=int(input(\"Enter the number \"))\n",
        "    print(l[i])\n",
        "    return 1\n",
        "  except IndexError:\n",
        "    print(f\"Index {i} not found\")\n",
        "    return 0\n",
        "  finally:\n",
        "    print(\"Iam always executed\")\n",
        "\n",
        "a=TryExceptFinally()\n",
        "print(a)\n",
        "\n",
        "print(\"\\n\")\n",
        "\n"
      ],
      "metadata": {
        "colab": {
          "base_uri": "https://localhost:8080/"
        },
        "id": "isqIk8GLJ1Os",
        "outputId": "77c90ba8-5bcb-4169-941d-77998a98fba9"
      },
      "execution_count": 4,
      "outputs": [
        {
          "output_type": "stream",
          "name": "stdout",
          "text": [
            "3\n",
            "1\n",
            "\n",
            "\n",
            "Enter the number 2\n",
            "3\n",
            "Iam always executed\n",
            "1\n",
            "\n",
            "\n"
          ]
        }
      ]
    },
    {
      "cell_type": "code",
      "source": [],
      "metadata": {
        "id": "ZqPsL329dDjU"
      },
      "execution_count": null,
      "outputs": []
    },
    {
      "cell_type": "code",
      "source": [],
      "metadata": {
        "id": "T6aQG3ZBdDlx"
      },
      "execution_count": null,
      "outputs": []
    },
    {
      "cell_type": "code",
      "source": [
        ""
      ],
      "metadata": {
        "id": "BnS8r6ffNWmF"
      },
      "execution_count": null,
      "outputs": []
    },
    {
      "cell_type": "code",
      "source": [],
      "metadata": {
        "id": "nNQJetu6dDqi"
      },
      "execution_count": null,
      "outputs": []
    },
    {
      "cell_type": "code",
      "source": [],
      "metadata": {
        "id": "vQFZGRevdDuR"
      },
      "execution_count": null,
      "outputs": []
    },
    {
      "cell_type": "code",
      "source": [],
      "metadata": {
        "id": "PiTjeIXQdDwn"
      },
      "execution_count": null,
      "outputs": []
    },
    {
      "cell_type": "code",
      "source": [],
      "metadata": {
        "id": "NU6bf1cAdDzU"
      },
      "execution_count": null,
      "outputs": []
    },
    {
      "cell_type": "code",
      "source": [],
      "metadata": {
        "id": "-Lljg8WqdD2K"
      },
      "execution_count": null,
      "outputs": []
    },
    {
      "cell_type": "code",
      "source": [],
      "metadata": {
        "id": "4RhuU6JldD4w"
      },
      "execution_count": null,
      "outputs": []
    },
    {
      "cell_type": "code",
      "source": [],
      "metadata": {
        "id": "mF_oPITQdD7e"
      },
      "execution_count": null,
      "outputs": []
    },
    {
      "cell_type": "code",
      "source": [],
      "metadata": {
        "id": "BEE7s7BddD9z"
      },
      "execution_count": null,
      "outputs": []
    },
    {
      "cell_type": "code",
      "source": [],
      "metadata": {
        "id": "yDLNveLRdEC4"
      },
      "execution_count": null,
      "outputs": []
    },
    {
      "cell_type": "code",
      "source": [],
      "metadata": {
        "id": "KgzfWSiWEK1P"
      },
      "execution_count": null,
      "outputs": []
    },
    {
      "cell_type": "code",
      "source": [],
      "metadata": {
        "id": "MskIL72cEK4h"
      },
      "execution_count": null,
      "outputs": []
    },
    {
      "cell_type": "code",
      "source": [],
      "metadata": {
        "id": "hBqo5spyEK9-"
      },
      "execution_count": null,
      "outputs": []
    },
    {
      "cell_type": "code",
      "source": [],
      "metadata": {
        "id": "aPv7x_Q7ELAk"
      },
      "execution_count": null,
      "outputs": []
    },
    {
      "cell_type": "code",
      "source": [],
      "metadata": {
        "id": "iUJ4Nz32ELDI"
      },
      "execution_count": null,
      "outputs": []
    },
    {
      "cell_type": "code",
      "source": [],
      "metadata": {
        "id": "fpssJGo6ELFz"
      },
      "execution_count": null,
      "outputs": []
    },
    {
      "cell_type": "code",
      "source": [],
      "metadata": {
        "id": "ln1iFjFSELIg"
      },
      "execution_count": null,
      "outputs": []
    },
    {
      "cell_type": "code",
      "source": [],
      "metadata": {
        "id": "YVlrSrhTdEGF"
      },
      "execution_count": null,
      "outputs": []
    }
  ]
}