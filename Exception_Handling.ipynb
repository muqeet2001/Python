{
  "nbformat": 4,
  "nbformat_minor": 0,
  "metadata": {
    "colab": {
      "provenance": []
    },
    "kernelspec": {
      "name": "python3",
      "display_name": "Python 3"
    },
    "language_info": {
      "name": "python"
    }
  },
  "cells": [
    {
      "cell_type": "markdown",
      "source": [
        "#**Exception Handling in Python**"
      ],
      "metadata": {
        "id": "CmSciL6Ufv7K"
      }
    },
    {
      "cell_type": "markdown",
      "source": [
        "* An exception is an event, which occurs during the execution of a program that disrupts the normal flow of the program's instructions.\n",
        "\n",
        "*  An exception is a Python object that represents an error.\n",
        "\n",
        "* Exception Handling is the process of responding to unwanted or unexcepted events when a computer program runs.\n",
        "\n",
        "* Exception Handling deals with these events to avoid the program or system crashing and without this process,exceptions would disrupt the normal operation of program.\n",
        "\n",
        "\n",
        "* Python has many built in exceptions that are raised when your program encounters an error.\n",
        "\n"
      ],
      "metadata": {
        "id": "YlxPsz90y-aH"
      }
    },
    {
      "cell_type": "markdown",
      "source": [
        "#**Python try except**"
      ],
      "metadata": {
        "id": "TMBdK2_r1RbT"
      }
    },
    {
      "cell_type": "markdown",
      "source": [
        "* try except blocks are used in python to handle errors and exceptions.\n",
        "\n",
        "\n",
        "* The code in try block runs when there is no error.If the try block catches the error  then the except block is executed.\n",
        "\n",
        "\n",
        "* The else block will execute code when there is no error.\n",
        "\n",
        "\n",
        "* The finally block will execute code, regardless of the result of the try- and except blocks."
      ],
      "metadata": {
        "id": "rUqaO7SO1o5z"
      }
    },
    {
      "cell_type": "code",
      "execution_count": null,
      "metadata": {
        "id": "2tl5QXHp6XTK",
        "colab": {
          "base_uri": "https://localhost:8080/"
        },
        "outputId": "d48cd912-706f-4d94-8d97-05ba6da85daf"
      },
      "outputs": [
        {
          "output_type": "stream",
          "name": "stdout",
          "text": [
            "Error\n"
          ]
        }
      ],
      "source": [
        "try:\n",
        "  print(a)\n",
        "except:\n",
        "  print(\"Error\")"
      ]
    },
    {
      "cell_type": "code",
      "source": [
        "x=10\n",
        "try:\n",
        "  print(x)\n",
        "except:\n",
        "  print(\"Error\")\n",
        "else:\n",
        "  print(\"no error\")"
      ],
      "metadata": {
        "id": "v7bxIg7SdDNz",
        "colab": {
          "base_uri": "https://localhost:8080/"
        },
        "outputId": "51b60394-58f7-47c3-b27f-76b66e2de5b0"
      },
      "execution_count": null,
      "outputs": [
        {
          "output_type": "stream",
          "name": "stdout",
          "text": [
            "10\n",
            "no error\n"
          ]
        }
      ]
    },
    {
      "cell_type": "code",
      "source": [
        "#y=10\n",
        "try:\n",
        "  print(y)\n",
        "except:\n",
        "  print(\"Error\")\n",
        "finally:\n",
        "  print(\"finally\")\n",
        "\n",
        "\n",
        "print(\"\\n\")\n",
        "\n",
        "\n",
        "y=10\n",
        "try:\n",
        "  print(y)\n",
        "except:\n",
        "  print(\"Error\")\n",
        "finally:\n",
        "  print(\"finally\")\n",
        "\n",
        "\n",
        "print(\"\\n\")\n"
      ],
      "metadata": {
        "id": "3SmAlg6ydDR6",
        "colab": {
          "base_uri": "https://localhost:8080/"
        },
        "outputId": "dde3d908-f44a-4f02-f0aa-357b53e111e8"
      },
      "execution_count": null,
      "outputs": [
        {
          "output_type": "stream",
          "name": "stdout",
          "text": [
            "Error\n",
            "finally\n",
            "\n",
            "\n",
            "10\n",
            "finally\n",
            "\n",
            "\n"
          ]
        }
      ]
    },
    {
      "cell_type": "code",
      "source": [
        "try:\n",
        "  print(a)\n",
        "except Exception as e:       #It directly prints the error.The error will be stored in e.\n",
        "  print(e)"
      ],
      "metadata": {
        "id": "oiJ1bTQCdDVi",
        "colab": {
          "base_uri": "https://localhost:8080/"
        },
        "outputId": "13020b1b-e785-4957-9338-2b4c67624086"
      },
      "execution_count": null,
      "outputs": [
        {
          "output_type": "stream",
          "name": "stdout",
          "text": [
            "name 'a' is not defined\n"
          ]
        }
      ]
    },
    {
      "cell_type": "code",
      "source": [
        "a=\"K\"\n",
        "try:\n",
        "  print(int(a))\n",
        "except Exception as e:\n",
        "  print(e)\n",
        "\n",
        "print(\"\\n\")\n"
      ],
      "metadata": {
        "id": "fwWM_dPmdDX4",
        "colab": {
          "base_uri": "https://localhost:8080/"
        },
        "outputId": "889c3f23-286c-44d6-87c6-4585e943d8d4"
      },
      "execution_count": null,
      "outputs": [
        {
          "output_type": "stream",
          "name": "stdout",
          "text": [
            "invalid literal for int() with base 10: 'K'\n",
            "\n",
            "\n"
          ]
        }
      ]
    },
    {
      "cell_type": "code",
      "source": [
        "# errors can be of any type so we can write many except with single try\n",
        "\n",
        "try:\n",
        "  a=int(input(\"Enter the Number \"))\n",
        "  li=[1,2,3]\n",
        "  print(li[a])\n",
        "  for i in range(1,11):\n",
        "    print(f\"{a} X {i} =\",(a*i))\n",
        "\n",
        "except IndexError:\n",
        "  print(f\"{a} Index not found\")\n",
        "\n",
        "except ValueError:\n",
        "  print(\"Invalid Input\")\n",
        "\n",
        "\n",
        "print(\"\\n\")\n",
        "\n",
        "\n",
        "try:\n",
        "  a=int(input(\"Enter the Number \"))\n",
        "  li=[1,2,3]\n",
        "  print(li[a])\n",
        "\n",
        "except IndexError:\n",
        "  print(f\"Index {a} not found\")\n",
        "\n",
        "\n",
        "print(\"\\n\")\n"
      ],
      "metadata": {
        "id": "cNHhNtNPdDbG",
        "colab": {
          "base_uri": "https://localhost:8080/"
        },
        "outputId": "bc049cc0-f042-4cf0-9999-774ddf3e108d"
      },
      "execution_count": null,
      "outputs": [
        {
          "output_type": "stream",
          "name": "stdout",
          "text": [
            "Enter the Number muqeet\n",
            "Invalid Input\n",
            "\n",
            "\n",
            "Enter the Number 5\n",
            "Index 5 not found\n",
            "\n",
            "\n"
          ]
        }
      ]
    },
    {
      "cell_type": "markdown",
      "source": [
        "#**Finally**"
      ],
      "metadata": {
        "id": "ToKvKfapNbZd"
      }
    },
    {
      "cell_type": "code",
      "source": [],
      "metadata": {
        "id": "9MIsv4stdDdr"
      },
      "execution_count": null,
      "outputs": []
    },
    {
      "cell_type": "code",
      "source": [],
      "metadata": {
        "id": "oxFxbTxddDgW"
      },
      "execution_count": null,
      "outputs": []
    },
    {
      "cell_type": "code",
      "source": [],
      "metadata": {
        "id": "ZqPsL329dDjU"
      },
      "execution_count": null,
      "outputs": []
    },
    {
      "cell_type": "code",
      "source": [],
      "metadata": {
        "id": "T6aQG3ZBdDlx"
      },
      "execution_count": null,
      "outputs": []
    },
    {
      "cell_type": "code",
      "source": [],
      "metadata": {
        "id": "nNQJetu6dDqi"
      },
      "execution_count": null,
      "outputs": []
    },
    {
      "cell_type": "code",
      "source": [],
      "metadata": {
        "id": "vQFZGRevdDuR"
      },
      "execution_count": null,
      "outputs": []
    },
    {
      "cell_type": "code",
      "source": [],
      "metadata": {
        "id": "PiTjeIXQdDwn"
      },
      "execution_count": null,
      "outputs": []
    },
    {
      "cell_type": "code",
      "source": [],
      "metadata": {
        "id": "NU6bf1cAdDzU"
      },
      "execution_count": null,
      "outputs": []
    },
    {
      "cell_type": "code",
      "source": [],
      "metadata": {
        "id": "-Lljg8WqdD2K"
      },
      "execution_count": null,
      "outputs": []
    },
    {
      "cell_type": "code",
      "source": [],
      "metadata": {
        "id": "4RhuU6JldD4w"
      },
      "execution_count": null,
      "outputs": []
    },
    {
      "cell_type": "code",
      "source": [],
      "metadata": {
        "id": "mF_oPITQdD7e"
      },
      "execution_count": null,
      "outputs": []
    },
    {
      "cell_type": "code",
      "source": [],
      "metadata": {
        "id": "BEE7s7BddD9z"
      },
      "execution_count": null,
      "outputs": []
    },
    {
      "cell_type": "code",
      "source": [],
      "metadata": {
        "id": "yDLNveLRdEC4"
      },
      "execution_count": null,
      "outputs": []
    },
    {
      "cell_type": "code",
      "source": [],
      "metadata": {
        "id": "YVlrSrhTdEGF"
      },
      "execution_count": null,
      "outputs": []
    }
  ]
}