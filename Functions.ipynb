{
  "nbformat": 4,
  "nbformat_minor": 0,
  "metadata": {
    "colab": {
      "provenance": []
    },
    "kernelspec": {
      "name": "python3",
      "display_name": "Python 3"
    },
    "language_info": {
      "name": "python"
    }
  },
  "cells": [
    {
      "cell_type": "markdown",
      "source": [
        "#**Python Functions**\n",
        "\n"
      ],
      "metadata": {
        "id": "qc17uUh4pU3H"
      }
    },
    {
      "cell_type": "markdown",
      "source": [
        "* A function is a block of code which only runs when it is called.\n",
        "\n",
        "* You can pass data, known as parameters, into a function.\n",
        "\n",
        "* A function can return data as a result.\n",
        "\n",
        "**Some Benefits of Using Functions**\n",
        "\n",
        "* Increase Code Readability\n",
        "* Increase Code Reusability\n",
        "\n",
        "Syntax:\n",
        "\n",
        "def function_name(parameters):\n",
        "  \n",
        "  \n",
        "     #statements\n",
        "  \n",
        "   return result\n",
        "\n",
        "* Parameters are the variables that appear between the brackets in the “def” line of a Python function definition. Arguments are the actual objects or values you pass to a function or method when calling it."
      ],
      "metadata": {
        "id": "-tyTHKeEpxqB"
      }
    },
    {
      "cell_type": "code",
      "execution_count": null,
      "metadata": {
        "colab": {
          "base_uri": "https://localhost:8080/"
        },
        "id": "SIXjrbzboIay",
        "outputId": "bcb2e4cd-a501-4f18-be54-8a2600db13b4"
      },
      "outputs": [
        {
          "output_type": "stream",
          "name": "stdout",
          "text": [
            "Good\n",
            "Good\n",
            "Good\n"
          ]
        }
      ],
      "source": [
        "def abc():\n",
        "  print(\"Good\")\n",
        "\n",
        "abc()\n",
        "abc()\n",
        "abc()"
      ]
    },
    {
      "cell_type": "markdown",
      "source": [
        "#**Types of Functions in Python**"
      ],
      "metadata": {
        "id": "s0nOPmq-vtpp"
      }
    },
    {
      "cell_type": "markdown",
      "source": [
        "* **Buit-in functions**\n",
        "* **User-defined functions**"
      ],
      "metadata": {
        "id": "qRTgfolgvw5X"
      }
    },
    {
      "cell_type": "markdown",
      "source": [
        "* Built-in function: These are Standard functions in Python that are available to use.Some examples are as follows:\n",
        "\n",
        "  min(), max(), len(), type(), list(), set(), print() etc.\n",
        "\n",
        "* User-defined function: We can create our own functions based on our requirements."
      ],
      "metadata": {
        "id": "ysAVu81-wCAS"
      }
    },
    {
      "cell_type": "code",
      "source": [
        "def greater(a,b,c):\n",
        "  \"\"\" The greater method will take three inputs and among three numbers it checks\n",
        "  which number is greater number and print the result\"\"\"\n",
        "  if(a>b and a>c):\n",
        "    print(f\"{a} is greater number\")\n",
        "  elif(b>c):\n",
        "    print(f\"{b} is greater number\")\n",
        "  else:\n",
        "    print(f\"{c} is greater number\")\n",
        "\n",
        "\n",
        "greater(20,30,5)\n",
        "\n",
        "print(\"docstring : \",greater.__doc__)\n",
        "\n",
        "print(\"\\n\")\n"
      ],
      "metadata": {
        "colab": {
          "base_uri": "https://localhost:8080/"
        },
        "id": "Jh3YW71nvnBM",
        "outputId": "92728264-5c12-4d8a-eae3-c527d53ee142"
      },
      "execution_count": null,
      "outputs": [
        {
          "output_type": "stream",
          "name": "stdout",
          "text": [
            "30 is greater number\n",
            "docstring :   The greater method will take three inputs and among three numbers it checks\n",
            "  which number is greater number and print the result\n",
            "\n",
            "\n"
          ]
        }
      ]
    },
    {
      "cell_type": "code",
      "source": [
        "def add(a,b):\n",
        "  \"\"\"The add method will take two inputs a,b and\n",
        "  make addition of two numbers and print the result\"\"\"\n",
        "  c=(a+b)\n",
        "  print(\"The result is \" ,c)\n",
        "\n",
        "a=int(input())\n",
        "b=int(input())\n",
        "add(a,b)\n",
        "\n",
        "print(\"\\n\")\n",
        "\n",
        "add(78,54)\n",
        "\n",
        "print(\"\\n\")\n",
        "\n",
        "\n",
        "print(\"docstring :\",add.__doc__)\n"
      ],
      "metadata": {
        "colab": {
          "base_uri": "https://localhost:8080/"
        },
        "id": "16FAOg47oLWE",
        "outputId": "54852cc7-c90b-4669-b75c-b32dd58639e2"
      },
      "execution_count": null,
      "outputs": [
        {
          "output_type": "stream",
          "name": "stdout",
          "text": [
            "45\n",
            "5\n",
            "The result is  50\n",
            "\n",
            "\n",
            "The result is  132\n",
            "\n",
            "\n",
            "docstring : The add method will take two inputs a,b and\n",
            "  make addition of two numbers and print the result\n"
          ]
        }
      ]
    },
    {
      "cell_type": "code",
      "source": [
        "def multiply():\n",
        "  pass          #if you define only function and doesnot write any logic in it and u want to write logic after sometime.\n",
        "print(\"\\n\")     # you cannot leave the function by only defining it. it may throw error so write pass in the function so it may not throw error"
      ],
      "metadata": {
        "id": "GBPqj22boLZb",
        "colab": {
          "base_uri": "https://localhost:8080/"
        },
        "outputId": "ff800212-094c-41cb-ab04-e571b88e9535"
      },
      "execution_count": null,
      "outputs": [
        {
          "output_type": "stream",
          "name": "stdout",
          "text": [
            "\n",
            "\n"
          ]
        }
      ]
    },
    {
      "cell_type": "markdown",
      "source": [
        "#**Functon Arguments in Python**"
      ],
      "metadata": {
        "id": "EINxuHzj7dLx"
      }
    },
    {
      "cell_type": "markdown",
      "source": [
        " There are four types of arguments that we provide in function:\n",
        "* Default Arguments\n",
        "* Keyword Arguments\n",
        "* Variable length Arguments\n",
        "* Required Arguments"
      ],
      "metadata": {
        "id": "9jyPOdqB7nyi"
      }
    },
    {
      "cell_type": "markdown",
      "source": [
        "**Default Argument**\n",
        "* we can provide a default value while creating a function.This way the function assumes a default value even if a value is not provided in the function call for that argument."
      ],
      "metadata": {
        "id": "17y7SILC8b35"
      }
    },
    {
      "cell_type": "code",
      "source": [
        "def sum(a=3,b=2):                          # default arguments\n",
        "  c=a+b\n",
        "  print(\"sum is \",c)\n",
        "\n",
        "sum()\n",
        "sum(4)\n",
        "\n",
        "print(\"\\n\")\n",
        "\n",
        "def name(fname, mname=\"Muqeet\",lname=\"Ahmed\"):    # default argument\n",
        "  print(f\"My name is {fname} {mname} {lname} \")\n",
        "\n",
        "name(\"Mohammed\")\n",
        "\n",
        "\n",
        "print(\"\\n\")\n"
      ],
      "metadata": {
        "colab": {
          "base_uri": "https://localhost:8080/"
        },
        "id": "V_d5y6LN7cwv",
        "outputId": "cac9715e-b746-4fad-ed73-c1899ab5c741"
      },
      "execution_count": 2,
      "outputs": [
        {
          "output_type": "stream",
          "name": "stdout",
          "text": [
            "sum is  5\n",
            "sum is  6\n",
            "\n",
            "\n",
            "My name is Mohammed Muqeet Ahmed \n",
            "\n",
            "\n"
          ]
        }
      ]
    },
    {
      "cell_type": "markdown",
      "source": [
        "**Keyword Argument**\n"
      ],
      "metadata": {
        "id": "-pkEj5gw-zh9"
      }
    },
    {
      "cell_type": "markdown",
      "source": [
        "* We can provide arguments with key=value, this way the interpreter recognize the arguments by the parameter name. Hence the order in which the arguments are passed doesnot matter."
      ],
      "metadata": {
        "id": "ItQiFGptAg_t"
      }
    },
    {
      "cell_type": "code",
      "source": [
        "def sum(a,b):\n",
        "  c=a+b\n",
        "  print(\"sum is \",c)\n",
        "\n",
        "\n",
        "sum(a=3,b=7)\n",
        "sum(b=5,a=15)\n",
        "sum(a=10,b=20)\n",
        "\n",
        "print('\\n')\n",
        "\n",
        "def name(fname,lname):\n",
        "  print(f\"My name is {fname} {lname}\")\n",
        "\n",
        "name(fname=\"Mohammed\",lname=\"Muqeet\")\n",
        "name(lname=\"Muqeet\",fname=\"Mohammed\")\n",
        "\n",
        "\n",
        "\n",
        "print(\"\\n\")\n",
        "\n"
      ],
      "metadata": {
        "id": "GPNNGRGXoLnl",
        "colab": {
          "base_uri": "https://localhost:8080/"
        },
        "outputId": "725d5f53-2408-4aca-c9ae-2fa3132635cb"
      },
      "execution_count": 11,
      "outputs": [
        {
          "output_type": "stream",
          "name": "stdout",
          "text": [
            "sum is  10\n",
            "sum is  20\n",
            "sum is  30\n",
            "\n",
            "\n",
            "My name is Mohammed Muqeet\n",
            "My name is Mohammed Muqeet\n",
            "\n",
            "\n"
          ]
        }
      ]
    },
    {
      "cell_type": "markdown",
      "source": [
        "**Required Arguments**"
      ],
      "metadata": {
        "id": "Bs6K5hnXGx4V"
      }
    },
    {
      "cell_type": "markdown",
      "source": [
        "* In case we dont pass the arguments with key=value syntax, then it is neccessary to pass the argument in the correct positional order and the number of arguments passed should match with actual function definition."
      ],
      "metadata": {
        "id": "_KuL81vHG-ot"
      }
    },
    {
      "cell_type": "code",
      "source": [
        "def sum(a,b):\n",
        "  c=a+b\n",
        "  print(\"sum is \",c)\n",
        "\n",
        "sum(20,30)\n",
        "sum(25,75)\n",
        "\n",
        "print(\"\\n\")\n",
        "\n",
        "\n",
        "def name(fname,lname):\n",
        "  print(f\"My name is {fname} {lname}\")\n",
        "\n",
        "name(\"Mohammed\",\"Muqeet\")\n",
        "\n",
        "print('\\n')\n",
        "\n"
      ],
      "metadata": {
        "id": "rMXLLavuoLrY",
        "colab": {
          "base_uri": "https://localhost:8080/"
        },
        "outputId": "30542902-473d-48d7-abaa-ca1c5ed22499"
      },
      "execution_count": 10,
      "outputs": [
        {
          "output_type": "stream",
          "name": "stdout",
          "text": [
            "sum is  50\n",
            "sum is  100\n",
            "\n",
            "\n",
            "My name is Mohammed Muqeet\n",
            "\n",
            "\n"
          ]
        }
      ]
    },
    {
      "cell_type": "markdown",
      "source": [
        "**Arbitrary Arguments**"
      ],
      "metadata": {
        "id": "YXCcJdOrNbYd"
      }
    },
    {
      "cell_type": "markdown",
      "source": [
        "* While creating a function, pass a * before the parameter name while defining function.The function accesses the arguments by processing them in the form of tuple."
      ],
      "metadata": {
        "id": "pyqeyOpmP3c3"
      }
    },
    {
      "cell_type": "code",
      "source": [
        "def Sum(*num):\n",
        "  print(type(num))\n",
        "  sum=0\n",
        "  for i in num:\n",
        "    sum=sum+i\n",
        "  print(\"sum is \" , sum)\n",
        "\n",
        "Sum(2,3,4)\n",
        "Sum(3,4,5,6,8,6,4)\n",
        "\n",
        "print(\"\\n\")\n",
        "\n",
        "def name(*name):\n",
        "  print(\"Hello, My Name is\", name[0], name[1] ,name[2])\n",
        "\n",
        "name(\"Mohammed\",\"Muqeet\",\"Ahmed\")"
      ],
      "metadata": {
        "id": "bxQPQrIeoLu_",
        "colab": {
          "base_uri": "https://localhost:8080/"
        },
        "outputId": "6fc1dcf2-0e4e-49f3-8053-24429313ae11"
      },
      "execution_count": 24,
      "outputs": [
        {
          "output_type": "stream",
          "name": "stdout",
          "text": [
            "<class 'tuple'>\n",
            "sum is  9\n",
            "<class 'tuple'>\n",
            "sum is  36\n",
            "\n",
            "\n",
            "Hello, My Name is Mohammed Muqeet Ahmed\n"
          ]
        }
      ]
    },
    {
      "cell_type": "code",
      "source": [],
      "metadata": {
        "id": "YwvDxeKxoLyh"
      },
      "execution_count": null,
      "outputs": []
    },
    {
      "cell_type": "code",
      "source": [],
      "metadata": {
        "id": "rY8Zww_ooL2K"
      },
      "execution_count": null,
      "outputs": []
    },
    {
      "cell_type": "code",
      "source": [],
      "metadata": {
        "id": "D5U62BpCoRUZ"
      },
      "execution_count": null,
      "outputs": []
    },
    {
      "cell_type": "code",
      "source": [],
      "metadata": {
        "id": "SjsRtaGQoRYB"
      },
      "execution_count": null,
      "outputs": []
    },
    {
      "cell_type": "code",
      "source": [],
      "metadata": {
        "id": "rD9z5XWSoRhZ"
      },
      "execution_count": null,
      "outputs": []
    },
    {
      "cell_type": "code",
      "source": [],
      "metadata": {
        "id": "PkcVGrIkoRlZ"
      },
      "execution_count": null,
      "outputs": []
    },
    {
      "cell_type": "code",
      "source": [],
      "metadata": {
        "id": "hBOQFJUooRpm"
      },
      "execution_count": null,
      "outputs": []
    },
    {
      "cell_type": "code",
      "source": [],
      "metadata": {
        "id": "2I-GhZPAoRuA"
      },
      "execution_count": null,
      "outputs": []
    },
    {
      "cell_type": "code",
      "source": [],
      "metadata": {
        "id": "5yEfcSZyoRzg"
      },
      "execution_count": null,
      "outputs": []
    },
    {
      "cell_type": "code",
      "source": [],
      "metadata": {
        "id": "CtzCeGA6oR2m"
      },
      "execution_count": null,
      "outputs": []
    },
    {
      "cell_type": "code",
      "source": [],
      "metadata": {
        "id": "0z1BSdmboR52"
      },
      "execution_count": null,
      "outputs": []
    },
    {
      "cell_type": "code",
      "source": [],
      "metadata": {
        "id": "l6tV90q0oR9L"
      },
      "execution_count": null,
      "outputs": []
    },
    {
      "cell_type": "markdown",
      "source": [],
      "metadata": {
        "id": "bFHoi06opTpD"
      }
    }
  ]
}