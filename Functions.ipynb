{
  "nbformat": 4,
  "nbformat_minor": 0,
  "metadata": {
    "colab": {
      "provenance": []
    },
    "kernelspec": {
      "name": "python3",
      "display_name": "Python 3"
    },
    "language_info": {
      "name": "python"
    }
  },
  "cells": [
    {
      "cell_type": "markdown",
      "source": [
        "#**Python Functions**\n",
        "\n"
      ],
      "metadata": {
        "id": "qc17uUh4pU3H"
      }
    },
    {
      "cell_type": "markdown",
      "source": [
        "* A function is a block of code which only runs when it is called.\n",
        "\n",
        "* You can pass data, known as parameters, into a function.\n",
        "\n",
        "* A function can return data as a result.\n",
        "\n",
        "**Some Benefits of Using Functions**\n",
        "\n",
        "* Increase Code Readability\n",
        "* Increase Code Reusability\n",
        "\n",
        "Syntax:\n",
        "\n",
        "def function_name(parameters):\n",
        "  \n",
        "  \n",
        "     #statements\n",
        "  \n",
        "   return result"
      ],
      "metadata": {
        "id": "-tyTHKeEpxqB"
      }
    },
    {
      "cell_type": "code",
      "execution_count": null,
      "metadata": {
        "colab": {
          "base_uri": "https://localhost:8080/"
        },
        "id": "SIXjrbzboIay",
        "outputId": "bcb2e4cd-a501-4f18-be54-8a2600db13b4"
      },
      "outputs": [
        {
          "output_type": "stream",
          "name": "stdout",
          "text": [
            "Good\n",
            "Good\n",
            "Good\n"
          ]
        }
      ],
      "source": [
        "def abc():\n",
        "  print(\"Good\")\n",
        "\n",
        "abc()\n",
        "abc()\n",
        "abc()"
      ]
    },
    {
      "cell_type": "markdown",
      "source": [
        "#**Types of Functions in Python**"
      ],
      "metadata": {
        "id": "s0nOPmq-vtpp"
      }
    },
    {
      "cell_type": "markdown",
      "source": [
        "* **Buit-in functions**\n",
        "* **User-defined functions**"
      ],
      "metadata": {
        "id": "qRTgfolgvw5X"
      }
    },
    {
      "cell_type": "markdown",
      "source": [
        "* Built-in function: These are Standard functions in Python that are available to use.Some examples are as follows:\n",
        "\n",
        "  min(), max(), len(), type(), list(), set(), print() etc.\n",
        "\n",
        "* User-defined function: We can create our own functions based on our requirements."
      ],
      "metadata": {
        "id": "ysAVu81-wCAS"
      }
    },
    {
      "cell_type": "code",
      "source": [
        "def greater(a,b,c):\n",
        "  \"\"\" The greater method will take three inputs and among three numbers it checks\n",
        "  which number is greater number and print the result\"\"\"\n",
        "  if(a>b and a>c):\n",
        "    print(f\"{a} is greater number\")\n",
        "  elif(b>c):\n",
        "    print(f\"{b} is greater number\")\n",
        "  else:\n",
        "    print(f\"{c} is greater number\")\n",
        "\n",
        "\n",
        "greater(20,30,5)\n",
        "print(\"docstring : \",greater.__doc__)\n",
        "\n",
        "print(\"\\n\")\n"
      ],
      "metadata": {
        "colab": {
          "base_uri": "https://localhost:8080/"
        },
        "id": "Jh3YW71nvnBM",
        "outputId": "92728264-5c12-4d8a-eae3-c527d53ee142"
      },
      "execution_count": null,
      "outputs": [
        {
          "output_type": "stream",
          "name": "stdout",
          "text": [
            "30 is greater number\n",
            "docstring :   The greater method will take three inputs and among three numbers it checks\n",
            "  which number is greater number and print the result\n",
            "\n",
            "\n"
          ]
        }
      ]
    },
    {
      "cell_type": "code",
      "source": [
        "def add(a,b):\n",
        "  \"\"\"The add method will take two inputs a,b and\n",
        "  make addition of two numbers and print the result\"\"\"\n",
        "  c=(a+b)\n",
        "  print(c)\n",
        "\n",
        "a=int(input())\n",
        "b=int(input())\n",
        "add(a,b)\n",
        "\n",
        "print(\"docstring :\",add.__doc__)\n",
        "\n",
        "print(\"\\n\")\n",
        "\n",
        "add(78,54)"
      ],
      "metadata": {
        "colab": {
          "base_uri": "https://localhost:8080/"
        },
        "id": "16FAOg47oLWE",
        "outputId": "145534ef-7c3a-4c68-8d17-3259a58d1e28"
      },
      "execution_count": null,
      "outputs": [
        {
          "output_type": "stream",
          "name": "stdout",
          "text": [
            "10\n",
            "53\n",
            "63\n",
            "docstring : The add method will take two inputs a,b and\n",
            "  make addition of two numbers and print the result\n",
            "\n",
            "\n",
            "132\n"
          ]
        }
      ]
    },
    {
      "cell_type": "code",
      "source": [],
      "metadata": {
        "id": "GBPqj22boLZb"
      },
      "execution_count": null,
      "outputs": []
    },
    {
      "cell_type": "code",
      "source": [],
      "metadata": {
        "id": "JmjWgptgoLjP"
      },
      "execution_count": null,
      "outputs": []
    },
    {
      "cell_type": "code",
      "source": [],
      "metadata": {
        "id": "GPNNGRGXoLnl"
      },
      "execution_count": null,
      "outputs": []
    },
    {
      "cell_type": "code",
      "source": [],
      "metadata": {
        "id": "rMXLLavuoLrY"
      },
      "execution_count": null,
      "outputs": []
    },
    {
      "cell_type": "code",
      "source": [],
      "metadata": {
        "id": "bxQPQrIeoLu_"
      },
      "execution_count": null,
      "outputs": []
    },
    {
      "cell_type": "code",
      "source": [],
      "metadata": {
        "id": "YwvDxeKxoLyh"
      },
      "execution_count": null,
      "outputs": []
    },
    {
      "cell_type": "code",
      "source": [],
      "metadata": {
        "id": "rY8Zww_ooL2K"
      },
      "execution_count": null,
      "outputs": []
    },
    {
      "cell_type": "code",
      "source": [],
      "metadata": {
        "id": "D5U62BpCoRUZ"
      },
      "execution_count": null,
      "outputs": []
    },
    {
      "cell_type": "code",
      "source": [],
      "metadata": {
        "id": "SjsRtaGQoRYB"
      },
      "execution_count": null,
      "outputs": []
    },
    {
      "cell_type": "code",
      "source": [],
      "metadata": {
        "id": "rD9z5XWSoRhZ"
      },
      "execution_count": null,
      "outputs": []
    },
    {
      "cell_type": "code",
      "source": [],
      "metadata": {
        "id": "PkcVGrIkoRlZ"
      },
      "execution_count": null,
      "outputs": []
    },
    {
      "cell_type": "code",
      "source": [],
      "metadata": {
        "id": "hBOQFJUooRpm"
      },
      "execution_count": null,
      "outputs": []
    },
    {
      "cell_type": "code",
      "source": [],
      "metadata": {
        "id": "2I-GhZPAoRuA"
      },
      "execution_count": null,
      "outputs": []
    },
    {
      "cell_type": "code",
      "source": [],
      "metadata": {
        "id": "5yEfcSZyoRzg"
      },
      "execution_count": null,
      "outputs": []
    },
    {
      "cell_type": "code",
      "source": [],
      "metadata": {
        "id": "CtzCeGA6oR2m"
      },
      "execution_count": null,
      "outputs": []
    },
    {
      "cell_type": "code",
      "source": [],
      "metadata": {
        "id": "0z1BSdmboR52"
      },
      "execution_count": null,
      "outputs": []
    },
    {
      "cell_type": "code",
      "source": [],
      "metadata": {
        "id": "l6tV90q0oR9L"
      },
      "execution_count": null,
      "outputs": []
    },
    {
      "cell_type": "markdown",
      "source": [],
      "metadata": {
        "id": "bFHoi06opTpD"
      }
    }
  ]
}