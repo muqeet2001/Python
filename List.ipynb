{
  "nbformat": 4,
  "nbformat_minor": 0,
  "metadata": {
    "colab": {
      "provenance": []
    },
    "kernelspec": {
      "name": "python3",
      "display_name": "Python 3"
    },
    "language_info": {
      "name": "python"
    }
  },
  "cells": [
    {
      "cell_type": "markdown",
      "source": [
        "# **Python Lists**"
      ],
      "metadata": {
        "id": "GytqpV5J7IVm"
      }
    },
    {
      "cell_type": "markdown",
      "source": [
        "* **List is a sequence datatype in python.**\n",
        "* **List is a  ordered collection of items of different datatypes.**\n",
        "* **List is enclosed within [] square brackets.**\n",
        "* **lists are mutable This means we can change an item in a list by accessing it directly as part of the assignment statement. Using the indexing operator (square brackets) on the left side of an assignment, we can update one of the list items.**"
      ],
      "metadata": {
        "id": "TI86B1Mz7RA_"
      }
    },
    {
      "cell_type": "code",
      "execution_count": null,
      "metadata": {
        "colab": {
          "base_uri": "https://localhost:8080/"
        },
        "id": "pVtZoWrp6eln",
        "outputId": "3573ee7b-5ef3-430f-edc2-f322d05e6c97"
      },
      "outputs": [
        {
          "output_type": "stream",
          "name": "stdout",
          "text": [
            "[10, 20, 30, 4.5, 'happy', [60, 70, 80, 'good']]\n",
            "<class 'list'>\n",
            "[10, 20, 30, 40, 'happy', [60, 70, 80, 'good']]\n",
            "length of list is 6\n"
          ]
        }
      ],
      "source": [
        "li=[10,20,30,4.5,\"happy\",[60,70,80,\"good\"]]\n",
        "print(li)\n",
        "print(type(li))\n",
        "li[3]=40   # list are mutable we can change the elements of the list\n",
        "print(li)\n",
        "print(\"length of list is\" ,len(li))\n",
        "\n"
      ]
    },
    {
      "cell_type": "markdown",
      "source": [
        "#**Accessing List items**"
      ],
      "metadata": {
        "id": "_I0enjSGNY6S"
      }
    },
    {
      "cell_type": "code",
      "source": [
        "li=[10,20,30,40,\"happy\",3.4,5.2,[\"good\",'bad',4,2,6,9.8]]\n",
        "print(li)\n",
        "\n",
        "print('\\n')\n",
        "\n",
        "#Accessing list item using index number.index number starts from zero\n",
        "\n",
        "print(li[0]) # print first element of the list\n",
        "print(li[1])\n",
        "print(li[2])\n",
        "print(li[3])\n",
        "print(li[4])\n",
        "print(li[5])\n",
        "print(li[6])\n",
        "print(li[7])  # print last element of the list\n",
        "\n",
        "print(li[7][0])\n",
        "print(li[7][1])\n",
        "print(li[7][2])\n",
        "print(li[7][3])\n",
        "print(li[7][4])\n",
        "print(li[7][5])\n",
        "\n",
        "print(\"\\n\")\n",
        "#Accessing elements using for loop\n",
        "\n",
        "for i in li:\n",
        "  print(i)\n",
        "\n"
      ],
      "metadata": {
        "colab": {
          "base_uri": "https://localhost:8080/"
        },
        "id": "j9t1W-zzNz5u",
        "outputId": "f99e8540-bac2-4835-9fa4-2e6fe054d590"
      },
      "execution_count": null,
      "outputs": [
        {
          "output_type": "stream",
          "name": "stdout",
          "text": [
            "[10, 20, 30, 40, 'happy', 3.4, 5.2, ['good', 'bad', 4, 2, 6, 9.8]]\n",
            "\n",
            "\n",
            "10\n",
            "20\n",
            "30\n",
            "40\n",
            "happy\n",
            "3.4\n",
            "5.2\n",
            "['good', 'bad', 4, 2, 6, 9.8]\n",
            "good\n",
            "bad\n",
            "4\n",
            "2\n",
            "6\n",
            "9.8\n",
            "\n",
            "\n",
            "10\n",
            "20\n",
            "30\n",
            "40\n",
            "happy\n",
            "3.4\n",
            "5.2\n",
            "['good', 'bad', 4, 2, 6, 9.8]\n"
          ]
        }
      ]
    },
    {
      "cell_type": "code",
      "source": [
        "li=[10,20,30,40,\"happy\",3.4,5.2,[\"good\",'bad',4,2,6,7.3]]\n",
        "print(li)\n",
        "\n",
        "print('\\n')\n",
        "\n",
        "#Accessing list items using negative index and index start with -1 from last element\n",
        "\n",
        "print(li[-1]) # print last element of list (or) li[len of list-1] = li[8-1] = li[7]\n",
        "print(li[-2])\n",
        "print(li[-3])\n",
        "print(li[-4])\n",
        "print(li[-5])\n",
        "print(li[-6])\n",
        "print(li[-7])\n",
        "print(li[-8]) # print first element of the list\n",
        "\n",
        "print('\\n')\n",
        "\n",
        "print(li[-1][-6]) # print last element i.e new list in that it prints the first element\n",
        "print(li[-1][-5])\n",
        "print(li[-1][-4])\n",
        "print(li[-1][-3])\n",
        "print(li[-1][-2])\n",
        "print(li[-1][-1]) # print last element i.e new list in that it prints the last element\n",
        "\n",
        "\n"
      ],
      "metadata": {
        "colab": {
          "base_uri": "https://localhost:8080/"
        },
        "id": "ZVgI3hLhNz9D",
        "outputId": "f270dcee-e663-4c77-e8f6-1785de7f11d9"
      },
      "execution_count": null,
      "outputs": [
        {
          "output_type": "stream",
          "name": "stdout",
          "text": [
            "[10, 20, 30, 40, 'happy', 3.4, 5.2, ['good', 'bad', 4, 2, 6, 7.3]]\n",
            "\n",
            "\n",
            "['good', 'bad', 4, 2, 6, 7.3]\n",
            "5.2\n",
            "3.4\n",
            "happy\n",
            "40\n",
            "30\n",
            "20\n",
            "10\n",
            "\n",
            "\n",
            "good\n",
            "bad\n",
            "4\n",
            "2\n",
            "6\n",
            "7.3\n"
          ]
        }
      ]
    },
    {
      "cell_type": "markdown",
      "source": [
        "# **List Slicing**"
      ],
      "metadata": {
        "id": "DKA2bv9Zb4WY"
      }
    },
    {
      "cell_type": "code",
      "source": [
        "li=[10,20,30,40,\"happy\",3.4,5.2,[\"good\",'bad',4,2,6,9.8]]\n",
        "print(li)\n",
        "print(li[0:8])  # li[m:n] -> print items from index m to index n-1 here it is m=0,n=8 so it prints items from index 0 to index 7\n",
        "print('\\n')\n",
        "\n",
        "print(li[0:1])\n",
        "print(li[1:2])\n",
        "print(li[2:3])\n",
        "print(li[3:4])\n",
        "print(li[4:5])\n",
        "print(li[5:6])\n",
        "print(li[6:7])\n",
        "print(li[7:8])\n",
        "\n",
        "print('\\n')\n",
        "\n",
        "print(li[:])   # by default it takes starting index as 0 and ending index as length of the list it becomes li[0:length of list] and print items from index 0 to length of list -1\n",
        "print(li[0:])\n",
        "print(li[:8])\n",
        "\n",
        "print('\\n')\n",
        "\n",
        "print(li[-3:-1])\n",
        "print(li[-1:])\n",
        "print(li[-2:-1])\n",
        "\n"
      ],
      "metadata": {
        "colab": {
          "base_uri": "https://localhost:8080/"
        },
        "id": "3ifArHLKTAwt",
        "outputId": "6d5e2729-87d0-41b9-9cdf-49fda64e4d8c"
      },
      "execution_count": null,
      "outputs": [
        {
          "output_type": "stream",
          "name": "stdout",
          "text": [
            "[10, 20, 30, 40, 'happy', 3.4, 5.2, ['good', 'bad', 4, 2, 6, 9.8]]\n",
            "[10, 20, 30, 40, 'happy', 3.4, 5.2, ['good', 'bad', 4, 2, 6, 9.8]]\n",
            "\n",
            "\n",
            "[10]\n",
            "[20]\n",
            "[30]\n",
            "[40]\n",
            "['happy']\n",
            "[3.4]\n",
            "[5.2]\n",
            "[['good', 'bad', 4, 2, 6, 9.8]]\n",
            "\n",
            "\n",
            "[10, 20, 30, 40, 'happy', 3.4, 5.2, ['good', 'bad', 4, 2, 6, 9.8]]\n",
            "[10, 20, 30, 40, 'happy', 3.4, 5.2, ['good', 'bad', 4, 2, 6, 9.8]]\n",
            "[10, 20, 30, 40, 'happy', 3.4, 5.2, ['good', 'bad', 4, 2, 6, 9.8]]\n",
            "\n",
            "\n",
            "[3.4, 5.2]\n",
            "[['good', 'bad', 4, 2, 6, 9.8]]\n",
            "[5.2]\n"
          ]
        }
      ]
    },
    {
      "cell_type": "markdown",
      "source": [
        "* **Reverse of list**"
      ],
      "metadata": {
        "id": "yD9kvvcbdsZC"
      }
    },
    {
      "cell_type": "code",
      "source": [
        "print(li[::-1])   # reverse of list\n",
        "\n",
        "print(\"\\n\")\n",
        "\n",
        "print(li[::2])    #  print alternate items of list  #jumpindex\n",
        "\n",
        "print(\"\\n\")\n",
        "\n",
        "print(li[::3])    #  print every 3rd consecutive values  #jumpindex\n",
        "\n",
        "print(\"\\n\")\n",
        "\n",
        "print(li[::-2])   #  print alternate items of reverse list"
      ],
      "metadata": {
        "colab": {
          "base_uri": "https://localhost:8080/"
        },
        "id": "HZAVTmvmYUoJ",
        "outputId": "d8216eb5-1ad7-4fd6-cca8-9befb2e06043"
      },
      "execution_count": null,
      "outputs": [
        {
          "output_type": "stream",
          "name": "stdout",
          "text": [
            "[[1, 2, 3, 4], 2.3, 'good', 'happy', 30, 20, 10]\n",
            "\n",
            "\n",
            "[10, 30, 'good', [1, 2, 3, 4]]\n",
            "\n",
            "\n",
            "[10, 'happy', [1, 2, 3, 4]]\n",
            "\n",
            "\n",
            "[[1, 2, 3, 4], 'good', 30, 10]\n"
          ]
        }
      ]
    },
    {
      "cell_type": "markdown",
      "source": [
        "* **Reverse of list using reverse()**"
      ],
      "metadata": {
        "id": "0sLFURnFhKGU"
      }
    },
    {
      "cell_type": "code",
      "source": [
        "li=[10,20,30]\n",
        "li.reverse()   #it will make the list reverse and store the result in it only so here we cannot access our previous not reversed list.for getting our previous list back we need to reverse the list again\n",
        "print(li)\n",
        "print(li[0])\n",
        "li.reverse()\n",
        "print(li)\n",
        "print(li[0])"
      ],
      "metadata": {
        "colab": {
          "base_uri": "https://localhost:8080/"
        },
        "id": "BCLlaZNeYUrs",
        "outputId": "8c88fdf9-09ba-41be-c611-1a6d9663c263"
      },
      "execution_count": null,
      "outputs": [
        {
          "output_type": "stream",
          "name": "stdout",
          "text": [
            "[30, 20, 10]\n",
            "30\n",
            "[10, 20, 30]\n",
            "10\n"
          ]
        }
      ]
    },
    {
      "cell_type": "markdown",
      "source": [
        "* **Check whether an item is present in the list?**"
      ],
      "metadata": {
        "id": "gWUfjZiWHSp8"
      }
    },
    {
      "cell_type": "code",
      "source": [
        "li=[10,20,30,\"happy\",\"good\",2.3,[1,2,3,4]]\n",
        "print(li)\n",
        "\n",
        "print('\\n')\n",
        "\n",
        "\n",
        "# 1. We can directly pass value in if statement\n",
        "\n",
        "\n",
        "if 10 in li:                 # check whether 10 is present in list or not\n",
        "  print(\"yes\")\n",
        "else:\n",
        "  print(\"no\")\n",
        "\n",
        "\n",
        "print('\\n')\n",
        "\n",
        "\n",
        "\n",
        "#2. We can modify above code by giving value through user input so that we can check any value.\n",
        "\n",
        "\n",
        "#a=input()                   # its only work with strings to work with other datatype we need to typecast\n",
        "\n",
        "\n",
        "a=int(input())               # It works with integer values\n",
        "if a in li:                  # check whether the value of a is present in list or not\n",
        "  print(\"yes\")\n",
        "else:\n",
        "  print(\"no\")\n",
        "\n",
        "\n",
        "print(\"\\n\")\n",
        "\n",
        "\n",
        "\n",
        "#3. We can use this code when we know the value\n",
        "\n",
        "\n",
        "a=30                      # we can directly pass the value to a it works in the case when you know the value\n",
        "if a in li:               # check whether a value is present in list or not\n",
        "  print(\"yes\")\n",
        "else:\n",
        "  print(\"no\")\n",
        "\n",
        "\n",
        "print(\"\\n\")\n",
        "\n",
        "\n",
        "#4. We can modify above code by making a function of if and else code so that whenever we want to check any value we just need to call that function\n",
        "\n",
        "\n",
        "def check(a):             # Whenever we want to check the item present in list or not then simply  call this function\n",
        "  if a in li:\n",
        "    print(\"yes\")\n",
        "  else:\n",
        "    print(\"no\")\n",
        "  return\n",
        "\n",
        "\n",
        "a=[1,2,3,4]\n",
        "check(a)\n",
        "\n",
        "\n",
        "a=\"good\"\n",
        "check(a)\n",
        "\n",
        "a=20\n",
        "check(a)"
      ],
      "metadata": {
        "id": "ML0vvcqUYU4O",
        "colab": {
          "base_uri": "https://localhost:8080/"
        },
        "outputId": "8bb3cde5-07e2-4621-8aae-963d63355571"
      },
      "execution_count": null,
      "outputs": [
        {
          "output_type": "stream",
          "name": "stdout",
          "text": [
            "[10, 20, 30, 'happy', 'good', 2.3, [1, 2, 3, 4]]\n",
            "\n",
            "\n",
            "yes\n",
            "\n",
            "\n",
            "10\n",
            "yes\n",
            "\n",
            "\n",
            "yes\n",
            "\n",
            "\n",
            "yes\n",
            "yes\n",
            "yes\n"
          ]
        }
      ]
    },
    {
      "cell_type": "markdown",
      "source": [
        "**List Comprehension**"
      ],
      "metadata": {
        "id": "wBsua17vVIjA"
      }
    },
    {
      "cell_type": "markdown",
      "source": [
        "* List Comprehension provide a concise way to create lists\n",
        "* List Comprehensions are used for creating new lists from iterables like lists,tuple,dictionaries,sets and even in strings\n",
        "* Syntax is : List = [Expression(item) for item in iterable if Condition]"
      ],
      "metadata": {
        "id": "NF4pAgbjV95c"
      }
    },
    {
      "cell_type": "code",
      "source": [
        "li=[i for i in range(10)]\n",
        "print(li)\n",
        "\n",
        "\n",
        "li=[i for i in range(10) if (i%2==0)]\n",
        "print(li)\n",
        "\n",
        "\n",
        "li=[i for i in range(11) if i%2==0]\n",
        "print(li)\n",
        "\n",
        "print('\\n')\n",
        "\n",
        "\n",
        "li=['good','bad','happy','sad']\n",
        "print(li)\n",
        "li1=[i for i in li if 'a' in i]\n",
        "print(li1)\n",
        "li2=[i for i in li if len(i)<4]\n",
        "print(li2)\n",
        "\n",
        "\n"
      ],
      "metadata": {
        "colab": {
          "base_uri": "https://localhost:8080/"
        },
        "id": "d3bp4YPnT2nf",
        "outputId": "60178c7d-fbbe-4008-bdf7-73766a2444f8"
      },
      "execution_count": null,
      "outputs": [
        {
          "output_type": "stream",
          "name": "stdout",
          "text": [
            "[0, 1, 2, 3, 4, 5, 6, 7, 8, 9]\n",
            "[0, 2, 4, 6, 8]\n",
            "[0, 2, 4, 6, 8, 10]\n",
            "\n",
            "\n",
            "['good', 'bad', 'happy', 'sad']\n",
            "['bad', 'happy', 'sad']\n",
            "['bad', 'sad']\n"
          ]
        }
      ]
    },
    {
      "cell_type": "markdown",
      "source": [
        "#**List Method**"
      ],
      "metadata": {
        "id": "Iq1vZ9R0jxsJ"
      }
    },
    {
      "cell_type": "markdown",
      "source": [
        "* **append() -> append() method appends an element to the end of the list.**\n",
        "\n",
        "\n"
      ],
      "metadata": {
        "id": "oLFX1U_mu1tU"
      }
    },
    {
      "cell_type": "code",
      "source": [
        "li=[10,20,30,40]\n",
        "print(li)\n",
        "li.append(50)\n",
        "print(li)\n",
        "li.append(60)\n",
        "print(li)\n",
        "\n",
        "print('\\n')\n",
        "\n",
        "li=['apple','ball','cat']\n",
        "print(li)\n",
        "li.append('dog')\n",
        "print(li)\n",
        "li.append('egg')\n",
        "print(li)"
      ],
      "metadata": {
        "id": "hQdbe5-cT2ue",
        "colab": {
          "base_uri": "https://localhost:8080/"
        },
        "outputId": "c7571355-9e53-4130-92b2-524f92a8b77c"
      },
      "execution_count": 94,
      "outputs": [
        {
          "output_type": "stream",
          "name": "stdout",
          "text": [
            "[10, 20, 30, 40]\n",
            "[10, 20, 30, 40, 50]\n",
            "[10, 20, 30, 40, 50, 60]\n",
            "\n",
            "\n",
            "['apple', 'ball', 'cat']\n",
            "['apple', 'ball', 'cat', 'dog']\n",
            "['apple', 'ball', 'cat', 'dog', 'egg']\n"
          ]
        }
      ]
    },
    {
      "cell_type": "markdown",
      "source": [
        "* **sort() -> The sort() method sorts the list ascending by default.**\n",
        "* **list.sort(reverse=True) will sort the list descending. Default is reverse=False.**\n",
        "\n"
      ],
      "metadata": {
        "id": "4zsOWoPhwQAm"
      }
    },
    {
      "cell_type": "code",
      "source": [
        "li=[20,30,10,90,60,75,64,36]\n",
        "print(li)\n",
        "li.sort()\n",
        "print(li)\n",
        "li.sort(reverse=True)\n",
        "print(li)\n",
        "\n",
        "print(\"\\n\")\n",
        "\n",
        "li=['banana','apple','mango','orange','watermelon','gauva','custardapple','papaya']\n",
        "print(li)\n",
        "li.sort()\n",
        "print(li)\n",
        "li.sort(reverse=True)\n",
        "print(li)"
      ],
      "metadata": {
        "id": "L4ihT4z0T2-F",
        "colab": {
          "base_uri": "https://localhost:8080/"
        },
        "outputId": "2ed674cd-5a3d-4586-d339-e01808bb6ba0"
      },
      "execution_count": 99,
      "outputs": [
        {
          "output_type": "stream",
          "name": "stdout",
          "text": [
            "[20, 30, 10, 90, 60, 75, 64, 36]\n",
            "[10, 20, 30, 36, 60, 64, 75, 90]\n",
            "[90, 75, 64, 60, 36, 30, 20, 10]\n",
            "\n",
            "\n",
            "['banana', 'apple', 'mango', 'orange', 'watermelon', 'gauva', 'custardapple', 'papaya']\n",
            "['apple', 'banana', 'custardapple', 'gauva', 'mango', 'orange', 'papaya', 'watermelon']\n",
            "['watermelon', 'papaya', 'orange', 'mango', 'gauva', 'custardapple', 'banana', 'apple']\n"
          ]
        }
      ]
    },
    {
      "cell_type": "markdown",
      "source": [
        "* **reverse() -> This method reverse the order of list.**"
      ],
      "metadata": {
        "id": "zdORlPOwymNI"
      }
    },
    {
      "cell_type": "code",
      "source": [
        "li=[10,20,30,\"hi\",\"bye\"]\n",
        "print(li)\n",
        "li.reverse()\n",
        "print(li)\n",
        "li.reverse()\n",
        "print(li)\n",
        "\n"
      ],
      "metadata": {
        "id": "covHV50oT3K0",
        "colab": {
          "base_uri": "https://localhost:8080/"
        },
        "outputId": "f9dd509f-5c57-4449-996a-38d71e6500a0"
      },
      "execution_count": 103,
      "outputs": [
        {
          "output_type": "stream",
          "name": "stdout",
          "text": [
            "[10, 20, 30, 'hi', 'bye']\n",
            "['bye', 'hi', 30, 20, 10]\n",
            "[10, 20, 30, 'hi', 'bye']\n"
          ]
        }
      ]
    },
    {
      "cell_type": "markdown",
      "source": [
        "* **index() -> This method returns the index of the first occurence of the list item.**"
      ],
      "metadata": {
        "id": "UeYveT3P0Eid"
      }
    },
    {
      "cell_type": "code",
      "source": [
        "li=[10,20,30,40,\"hii\",\"bye\",[1,2,3]]\n",
        "print(li.index(20))\n",
        "print(li.index(\"bye\"))\n",
        "print(li.index([1,2,3]))\n",
        "print(li.index(40))\n",
        "#print(li.index(50))         # throws error\n",
        "\n"
      ],
      "metadata": {
        "id": "tGp6VLUvYVBj",
        "colab": {
          "base_uri": "https://localhost:8080/"
        },
        "outputId": "a7421c68-6fe9-438d-a075-e9a764645d78"
      },
      "execution_count": 111,
      "outputs": [
        {
          "output_type": "stream",
          "name": "stdout",
          "text": [
            "1\n",
            "5\n",
            "6\n",
            "3\n"
          ]
        }
      ]
    },
    {
      "cell_type": "markdown",
      "source": [
        "* **count() -> Returns the count of the numbers of items with the given value.**"
      ],
      "metadata": {
        "id": "wiIkqhdl1NcM"
      }
    },
    {
      "cell_type": "code",
      "source": [
        "li=[1,2,1,4,1,5,3,6,5,2,3,6,1,5,6,3,2,5,7,9,7,5,8,3,1]\n",
        "print(li)\n",
        "print(li.count(1))\n",
        "print(li.count(2))\n",
        "print(li.count(3))\n",
        "print(li.count(4))\n",
        "print(li.count(5))\n",
        "print(li.count(6))\n",
        "print(li.count(7))\n",
        "print(li.count(8))\n",
        "print(li.count(9))\n",
        "\n",
        "print('\\n')\n",
        "\n",
        "li=['apple','mango','orange','banana','papaya','apple','banana']\n",
        "print(li)\n",
        "print(li.count('apple'))\n",
        "print(li.count('banana'))\n",
        "print(li.count('mango'))\n",
        "print(li.count('orange'))\n",
        "print(li.count('papaya'))"
      ],
      "metadata": {
        "id": "hzuAS6H9YVJY",
        "colab": {
          "base_uri": "https://localhost:8080/"
        },
        "outputId": "00bf46a1-7ade-4ce8-98e7-7557d1e9b175"
      },
      "execution_count": 118,
      "outputs": [
        {
          "output_type": "stream",
          "name": "stdout",
          "text": [
            "[1, 2, 1, 4, 1, 5, 3, 6, 5, 2, 3, 6, 1, 5, 6, 3, 2, 5, 7, 9, 7, 5, 8, 3, 1]\n",
            "5\n",
            "3\n",
            "4\n",
            "1\n",
            "5\n",
            "3\n",
            "2\n",
            "1\n",
            "1\n",
            "\n",
            "\n",
            "['apple', 'mango', 'orange', 'banana', 'papaya', 'apple', 'banana']\n",
            "2\n",
            "2\n",
            "1\n",
            "1\n",
            "1\n"
          ]
        }
      ]
    },
    {
      "cell_type": "markdown",
      "source": [
        "*  **copy() -> Returns copy of the list.This can be done to perform operations on the list without modifying the orginal list.**"
      ],
      "metadata": {
        "id": "YtRwT4oNCzdQ"
      }
    },
    {
      "cell_type": "code",
      "source": [
        "li=[10,20,30,40,50]\n",
        "print(li)\n",
        "copy=li.copy()\n",
        "copy[0]=5\n",
        "print(copy)\n",
        "print(li)\n",
        "\n",
        "print('\\n')\n",
        "\n",
        "li=['apple','bat','cat','dog']\n",
        "print(li)\n",
        "copy=li.copy()\n",
        "copy[1]='ball'\n",
        "print(copy)\n",
        "print(li)"
      ],
      "metadata": {
        "id": "mLlB5TXwYVnA",
        "colab": {
          "base_uri": "https://localhost:8080/"
        },
        "outputId": "73a2667c-ff8f-4f69-8cdc-66d27a8ec947"
      },
      "execution_count": 120,
      "outputs": [
        {
          "output_type": "stream",
          "name": "stdout",
          "text": [
            "[10, 20, 30, 40, 50]\n",
            "[5, 20, 30, 40, 50]\n",
            "[10, 20, 30, 40, 50]\n",
            "\n",
            "\n",
            "['apple', 'bat', 'cat', 'dog']\n",
            "['apple', 'ball', 'cat', 'dog']\n",
            "['apple', 'bat', 'cat', 'dog']\n"
          ]
        }
      ]
    },
    {
      "cell_type": "markdown",
      "source": [
        "* **insert() -> This method inserts the item at the given index.User has to specify index and item to be inserted within the insert method.**"
      ],
      "metadata": {
        "id": "0TcLwHFTEsIW"
      }
    },
    {
      "cell_type": "code",
      "source": [
        "li=[10,30,40,50]\n",
        "print(li)\n",
        "li.insert(1,20)\n",
        "print(li)\n",
        "\n",
        "print(\"\\n\")\n",
        "\n",
        "li=['apple','ball','cat','egg','fan']\n",
        "print(li)\n",
        "li.insert(3,'dog')\n",
        "print(li)\n",
        "li.insert(6,'goat')\n",
        "print(li)"
      ],
      "metadata": {
        "id": "7fioG6q0YVqf",
        "colab": {
          "base_uri": "https://localhost:8080/"
        },
        "outputId": "591899b6-c882-4952-9fc0-24690968fa61"
      },
      "execution_count": 124,
      "outputs": [
        {
          "output_type": "stream",
          "name": "stdout",
          "text": [
            "[10, 30, 40, 50]\n",
            "[10, 20, 30, 40, 50]\n",
            "\n",
            "\n",
            "['apple', 'ball', 'cat', 'egg', 'fan']\n",
            "['apple', 'ball', 'cat', 'dog', 'egg', 'fan']\n",
            "['apple', 'ball', 'cat', 'dog', 'egg', 'fan', 'goat']\n"
          ]
        }
      ]
    },
    {
      "cell_type": "markdown",
      "source": [
        "* **extend() -> This method adds an entire list or any other collection datatype(set,tuple,dictionary) to the existing list.**"
      ],
      "metadata": {
        "id": "aIlDq6EKGF0V"
      }
    },
    {
      "cell_type": "code",
      "source": [
        "li=[10,20,30,\"Hi\",\"Bye\",[1,2,3,4]]\n",
        "print(li)\n",
        "li1=[40,50,60,\"Good\",\"Bad\"]\n",
        "print(li1)\n",
        "li.extend(li1)\n",
        "print(li)\n",
        "li1.extend(li)\n",
        "print(li1)"
      ],
      "metadata": {
        "colab": {
          "base_uri": "https://localhost:8080/"
        },
        "id": "BL5Hv8ItF_cm",
        "outputId": "8cfb422f-0755-4d5c-957a-38b3078dca56"
      },
      "execution_count": 128,
      "outputs": [
        {
          "output_type": "stream",
          "name": "stdout",
          "text": [
            "[10, 20, 30, 'Hi', 'Bye', [1, 2, 3, 4]]\n",
            "[40, 50, 60, 'Good', 'Bad']\n",
            "[10, 20, 30, 'Hi', 'Bye', [1, 2, 3, 4], 40, 50, 60, 'Good', 'Bad']\n",
            "[40, 50, 60, 'Good', 'Bad', 10, 20, 30, 'Hi', 'Bye', [1, 2, 3, 4], 40, 50, 60, 'Good', 'Bad']\n"
          ]
        }
      ]
    },
    {
      "cell_type": "markdown",
      "source": [
        "* **pop() -> The pop() method removes the element at the specified position.**\n",
        "\n"
      ],
      "metadata": {
        "id": "eahKCiPKHY-B"
      }
    },
    {
      "cell_type": "code",
      "source": [
        "li=[10,20,30,\"hi\",\"bye\"]\n",
        "print(li)\n",
        "li.pop(2)\n",
        "print(li)\n",
        "li.pop(3)\n",
        "print(li)\n"
      ],
      "metadata": {
        "colab": {
          "base_uri": "https://localhost:8080/"
        },
        "id": "Fdqqy4mJF_rl",
        "outputId": "228714de-a10f-4a6a-8746-51c4b95157ca"
      },
      "execution_count": 130,
      "outputs": [
        {
          "output_type": "stream",
          "name": "stdout",
          "text": [
            "[10, 20, 30, 'hi', 'bye']\n",
            "[10, 20, 'hi', 'bye']\n",
            "[10, 20, 'hi']\n"
          ]
        }
      ]
    },
    {
      "cell_type": "markdown",
      "source": [
        "* **remove -> The remove() method removes the first occurrence of the element with the specified value.**\n",
        "\n"
      ],
      "metadata": {
        "id": "UvmBFn-1Ienm"
      }
    },
    {
      "cell_type": "code",
      "source": [
        "li=[10,20,30,20,'hi','bye','hi',20,10]\n",
        "print(li)\n",
        "li.remove(20)\n",
        "print(li)\n",
        "li.remove('hi')\n",
        "print(li)\n",
        "li.remove(10)\n",
        "print(li)"
      ],
      "metadata": {
        "colab": {
          "base_uri": "https://localhost:8080/"
        },
        "id": "uCGm9PxiF_vH",
        "outputId": "c3552d34-e25c-4abf-9f6e-0a89086b5312"
      },
      "execution_count": 134,
      "outputs": [
        {
          "output_type": "stream",
          "name": "stdout",
          "text": [
            "[10, 20, 30, 20, 'hi', 'bye', 'hi', 20, 10]\n",
            "[10, 30, 20, 'hi', 'bye', 'hi', 20, 10]\n",
            "[10, 30, 20, 'bye', 'hi', 20, 10]\n",
            "[30, 20, 'bye', 'hi', 20, 10]\n"
          ]
        }
      ]
    },
    {
      "cell_type": "markdown",
      "source": [
        "* **clear() -> The clear() method removes all the elements from a list.**\n",
        "\n"
      ],
      "metadata": {
        "id": "abfvPmadJSU_"
      }
    },
    {
      "cell_type": "code",
      "source": [
        "li=[10,20,30,4.5,'hi','bye']\n",
        "print(li)\n",
        "li.clear()\n",
        "print(li)"
      ],
      "metadata": {
        "colab": {
          "base_uri": "https://localhost:8080/"
        },
        "id": "JfqAlOs2F_2I",
        "outputId": "69844818-febc-4912-b59f-c4ef15aca754"
      },
      "execution_count": 135,
      "outputs": [
        {
          "output_type": "stream",
          "name": "stdout",
          "text": [
            "[10, 20, 30, 4.5, 'hi', 'bye']\n",
            "[]\n"
          ]
        }
      ]
    },
    {
      "cell_type": "markdown",
      "source": [
        "* **Concatenating two lists -> You can simply concatenate two lists using \"+\"**"
      ],
      "metadata": {
        "id": "dmViL6l1JtIE"
      }
    },
    {
      "cell_type": "code",
      "source": [
        "li=[1,2,3,4]\n",
        "print(li)\n",
        "li1=[5,6,7]\n",
        "print(li1)\n",
        "print(li+li1)\n",
        "li2=[8,9]\n",
        "print(li+li1+li2)\n",
        "\n",
        "\n",
        "\n"
      ],
      "metadata": {
        "colab": {
          "base_uri": "https://localhost:8080/"
        },
        "id": "P1VZkNk1F_5R",
        "outputId": "e7bb73fc-3f65-4bad-c4cb-c5a322ca2348"
      },
      "execution_count": 141,
      "outputs": [
        {
          "output_type": "stream",
          "name": "stdout",
          "text": [
            "[1, 2, 3, 4]\n",
            "[5, 6, 7]\n",
            "[1, 2, 3, 4, 5, 6, 7]\n",
            "[1, 2, 3, 4, 5, 6, 7, 8, 9]\n"
          ]
        }
      ]
    },
    {
      "cell_type": "code",
      "source": [],
      "metadata": {
        "id": "dvKW-ebAF_8l"
      },
      "execution_count": null,
      "outputs": []
    },
    {
      "cell_type": "code",
      "source": [],
      "metadata": {
        "id": "9LNVULSDF___"
      },
      "execution_count": null,
      "outputs": []
    },
    {
      "cell_type": "code",
      "source": [],
      "metadata": {
        "id": "mryfzyjcYV07"
      },
      "execution_count": null,
      "outputs": []
    },
    {
      "cell_type": "code",
      "source": [],
      "metadata": {
        "id": "mnU4JQqLYWBD"
      },
      "execution_count": null,
      "outputs": []
    },
    {
      "cell_type": "code",
      "source": [],
      "metadata": {
        "id": "KNbQb_3BYWIf"
      },
      "execution_count": null,
      "outputs": []
    },
    {
      "cell_type": "code",
      "source": [],
      "metadata": {
        "id": "zN3EUNBIYWOv"
      },
      "execution_count": null,
      "outputs": []
    },
    {
      "cell_type": "code",
      "source": [],
      "metadata": {
        "id": "Z005hhg5YWXC"
      },
      "execution_count": null,
      "outputs": []
    },
    {
      "cell_type": "code",
      "source": [],
      "metadata": {
        "id": "q3QfuOKjYWeW"
      },
      "execution_count": null,
      "outputs": []
    },
    {
      "cell_type": "code",
      "source": [],
      "metadata": {
        "id": "6GCb-7SWYWk3"
      },
      "execution_count": null,
      "outputs": []
    },
    {
      "cell_type": "code",
      "source": [],
      "metadata": {
        "id": "RYp56KL0YWoP"
      },
      "execution_count": null,
      "outputs": []
    }
  ]
}