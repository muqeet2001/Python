{
  "nbformat": 4,
  "nbformat_minor": 0,
  "metadata": {
    "colab": {
      "provenance": []
    },
    "kernelspec": {
      "name": "python3",
      "display_name": "Python 3"
    },
    "language_info": {
      "name": "python"
    }
  },
  "cells": [
    {
      "cell_type": "markdown",
      "source": [
        "# **Tuples in Python**"
      ],
      "metadata": {
        "id": "yomuLH4TDQX_"
      }
    },
    {
      "cell_type": "markdown",
      "source": [
        "* Tuples are used to store multiple items in a single variable.\n",
        "\n",
        "* Tuple is one of 4 built-in data types in Python used to store collections of data, the other 3 are List, Set, and Dictionary, all with different qualities and usage.\n",
        "\n",
        "* Tuple items are ordered, unchangeable (immutable), and allow duplicate values.\n",
        "* Tuples are written with round brackets."
      ],
      "metadata": {
        "id": "Ss1DLWjODY10"
      }
    },
    {
      "cell_type": "code",
      "source": [
        "tu=(10,20,30)\n",
        "print(tu)\n",
        "\n",
        "print('\\n')\n",
        "\n",
        "tu=(\"apple\",\"mango\",\"orange\")\n",
        "print(tu)\n",
        "\n",
        "print(\"\\n\")\n",
        "\n",
        "tu=([1,2,3],[4,5,6],{1:\"good\"})\n",
        "print(tu)\n",
        "\n",
        "print(\"\\n\")\n"
      ],
      "metadata": {
        "colab": {
          "base_uri": "https://localhost:8080/"
        },
        "id": "LS1s954fN--a",
        "outputId": "4b9b492b-ecf1-4dff-84e7-bd71da199b47"
      },
      "execution_count": 93,
      "outputs": [
        {
          "output_type": "stream",
          "name": "stdout",
          "text": [
            "(10, 20, 30)\n",
            "\n",
            "\n",
            "('apple', 'mango', 'orange')\n",
            "\n",
            "\n",
            "([1, 2, 3], [4, 5, 6], {1: 'good'})\n",
            "\n",
            "\n"
          ]
        }
      ]
    },
    {
      "cell_type": "code",
      "execution_count": 102,
      "metadata": {
        "colab": {
          "base_uri": "https://localhost:8080/"
        },
        "id": "cVm0WM9sjUwk",
        "outputId": "8b7bfa62-c6ca-4fca-d3c5-4cdd8af8d957"
      },
      "outputs": [
        {
          "output_type": "stream",
          "name": "stdout",
          "text": [
            "(10, 20, 30, 'Good', [1, 2, 3], {1: 'Happy', 2: 'Sad'}, (1, 2, 3))\n",
            "<class 'tuple'> (10, 20, 30, 'Good', [1, 2, 3], {1: 'Happy', 2: 'Sad'}, (1, 2, 3))\n",
            "Length of tuple is : 7\n",
            "\n",
            "\n",
            "1\n",
            "<class 'int'> 1\n",
            "\n",
            "\n",
            "(1,)\n",
            "<class 'tuple'> (1,)\n",
            "\n",
            "\n",
            "('hello',)\n",
            "<class 'tuple'> ('hello',)\n",
            "\n",
            "\n"
          ]
        }
      ],
      "source": [
        "tu=(10,20,30,\"Good\",[1,2,3],{1:\"Happy\",2:\"Sad\"},(1,2,3))\n",
        "print(tu)\n",
        "print(type(tu),tu)\n",
        "print(\"Length of tuple is :\",len(tu))\n",
        "\n",
        "print(\"\\n\")\n",
        "\n",
        "tu=(1)\n",
        "print(tu)                        # If we give only one tuple item as (1) it recognize it as int type\n",
        "print(type(tu),tu)\n",
        "\n",
        "print('\\n')\n",
        "\n",
        "tu=(1,)                          # If you are giving only one item in tuple so always use , after the item is (1,)\n",
        "print(tu)\n",
        "print(type(tu),tu)\n",
        "\n",
        "print(\"\\n\")\n",
        "\n",
        "tu=(\"hello\",)                    # If you are giving only one item in tuple so always use , after the item is (\"hello\",)\n",
        "print(tu)\n",
        "print(type(tu),tu)\n",
        "\n",
        "\n",
        "print('\\n')\n"
      ]
    },
    {
      "cell_type": "markdown",
      "source": [
        "**Tuples are immutable(unchangeable)**"
      ],
      "metadata": {
        "id": "VGfxC0-CTwT8"
      }
    },
    {
      "cell_type": "code",
      "source": [
        "tu=(1,2,3,\"good\",[10,20],{1:\"happy\",2:\"sad\"},(5,6))\n",
        "print(tu)\n",
        "# tu[0]=10                # we cannot change tuple items\n",
        "\n",
        "print('\\n')\n"
      ],
      "metadata": {
        "colab": {
          "base_uri": "https://localhost:8080/"
        },
        "id": "l7lwzrXME5xF",
        "outputId": "8804cf42-00c8-4d94-e9b0-4ca1e42b62b7"
      },
      "execution_count": 91,
      "outputs": [
        {
          "output_type": "stream",
          "name": "stdout",
          "text": [
            "(1, 2, 3, 'good', [10, 20], {1: 'happy', 2: 'sad'}, (5, 6))\n",
            "\n",
            "\n"
          ]
        }
      ]
    },
    {
      "cell_type": "markdown",
      "source": [
        "**Tuples allow duplicate values**"
      ],
      "metadata": {
        "id": "-BWPIryDUoyF"
      }
    },
    {
      "cell_type": "code",
      "source": [
        "tu=(1,2,3,\"good\",4,2,1,\"good\",[10,20],(1,5),[10,20])\n",
        "print(tu)\n",
        "\n",
        "print(\"\\n\")\n"
      ],
      "metadata": {
        "colab": {
          "base_uri": "https://localhost:8080/"
        },
        "id": "KSgEtH8wE50Q",
        "outputId": "7b26aff2-b58b-46cb-93e5-3f8d69a35460"
      },
      "execution_count": 90,
      "outputs": [
        {
          "output_type": "stream",
          "name": "stdout",
          "text": [
            "(1, 2, 3, 'good', 4, 2, 1, 'good', [10, 20], (1, 5), [10, 20])\n",
            "\n",
            "\n"
          ]
        }
      ]
    },
    {
      "cell_type": "markdown",
      "source": [
        "# **Accessing Values in Python Tuples**\n"
      ],
      "metadata": {
        "id": "3HfOxKiqVcFd"
      }
    },
    {
      "cell_type": "code",
      "source": [
        "tu=(1,2,3,\"good\",4,5,[10,20],(1,5),{1:\"happy\",2:\"sad\"},True)\n",
        "print(tu)\n",
        "\n",
        "print(\"\\n\")\n",
        "\n",
        "print(tu[0])\n",
        "print(tu[1])\n",
        "print(tu[2])\n",
        "print(tu[3])\n",
        "print(tu[4])\n",
        "print(tu[5])\n",
        "print(tu[6])\n",
        "print(tu[6][0])\n",
        "print(tu[6][1])\n",
        "print(tu[7])\n",
        "print(tu[7][0])\n",
        "print(tu[7][1])\n",
        "print(tu[8])\n",
        "print(tu[8][1])\n",
        "print(tu[8][2])\n",
        "print(tu[9])\n",
        "\n",
        "print(\"\\n\")\n",
        "\n",
        "for i in tu:\n",
        "  print(i)\n",
        "\n",
        "\n",
        "print(\"\\n\")\n",
        "\n",
        "# Accessing tuple items using negative index\n",
        "\n",
        "\n",
        "print(tu[-10])\n",
        "print(tu[-9])                      # print last item of tuple\n",
        "print(tu[-8])\n",
        "print(tu[-7])\n",
        "print(tu[-6])\n",
        "print(tu[-5])\n",
        "print(tu[-4])\n",
        "print(tu[-3])\n",
        "print(tu[-2])\n",
        "print(tu[-1])                      # print first time of tuple\n",
        "\n",
        "\n",
        "print(\"\\n\")\n"
      ],
      "metadata": {
        "colab": {
          "base_uri": "https://localhost:8080/"
        },
        "id": "lg6fFSnsE57B",
        "outputId": "b4f0e41f-582f-456c-c118-2bde54c1ce56"
      },
      "execution_count": 89,
      "outputs": [
        {
          "output_type": "stream",
          "name": "stdout",
          "text": [
            "(1, 2, 3, 'good', 4, 5, [10, 20], (1, 5), {1: 'happy', 2: 'sad'}, True)\n",
            "\n",
            "\n",
            "1\n",
            "2\n",
            "3\n",
            "good\n",
            "4\n",
            "5\n",
            "[10, 20]\n",
            "10\n",
            "20\n",
            "(1, 5)\n",
            "1\n",
            "5\n",
            "{1: 'happy', 2: 'sad'}\n",
            "happy\n",
            "sad\n",
            "True\n",
            "\n",
            "\n",
            "1\n",
            "2\n",
            "3\n",
            "good\n",
            "4\n",
            "5\n",
            "[10, 20]\n",
            "(1, 5)\n",
            "{1: 'happy', 2: 'sad'}\n",
            "True\n",
            "\n",
            "\n",
            "1\n",
            "2\n",
            "3\n",
            "good\n",
            "4\n",
            "5\n",
            "[10, 20]\n",
            "(1, 5)\n",
            "{1: 'happy', 2: 'sad'}\n",
            "True\n",
            "\n",
            "\n"
          ]
        }
      ]
    },
    {
      "cell_type": "markdown",
      "source": [
        "* **Check whether an item is present in the list?**\n"
      ],
      "metadata": {
        "id": "ILdPnbdR0qr1"
      }
    },
    {
      "cell_type": "code",
      "source": [
        "tu=(1,2,3,\"good\",4,5,[10,20],(1,5),{1:\"happy\",2:\"sad\"},True)\n",
        "print(tu)\n",
        "\n",
        "print(\"\\n\")\n",
        "\n",
        "if 4 in tu:\n",
        "  print(\"Yes\")\n",
        "else:\n",
        "  print(\"No\")\n",
        "\n",
        "\n",
        "print(\"\\n\")\n",
        "\n",
        "\n",
        "a=True\n",
        "if a in tu:\n",
        "  print(\"Yes\")\n",
        "else:\n",
        "  print(\"No\")\n",
        "\n",
        "print(\"\\n\")\n",
        "\n",
        "\n",
        "def present(a):\n",
        "  if a in tu:\n",
        "    print(f\"Yes {a} is present\")\n",
        "  else:\n",
        "    print(f\"No {a} is not present\")\n",
        "\n",
        "a=1\n",
        "present(a)\n",
        "\n",
        "a=3\n",
        "present(a)\n",
        "\n",
        "a=6\n",
        "present(a)\n",
        "\n",
        "print('\\n')\n"
      ],
      "metadata": {
        "colab": {
          "base_uri": "https://localhost:8080/"
        },
        "id": "XBuRNQ8gE59x",
        "outputId": "f0e9f100-e61f-4d37-e547-914f5c4fb89d"
      },
      "execution_count": 88,
      "outputs": [
        {
          "output_type": "stream",
          "name": "stdout",
          "text": [
            "(1, 2, 3, 'good', 4, 5, [10, 20], (1, 5), {1: 'happy', 2: 'sad'}, True)\n",
            "\n",
            "\n",
            "Yes\n",
            "\n",
            "\n",
            "Yes\n",
            "\n",
            "\n",
            "Yes 1 is present\n",
            "Yes 3 is present\n",
            "No 6 is not present\n",
            "\n",
            "\n"
          ]
        }
      ]
    },
    {
      "cell_type": "markdown",
      "source": [
        "# **Slicing Tuples in Python**\n",
        "\n",
        "\n"
      ],
      "metadata": {
        "id": "Rvyp5LSqvAxP"
      }
    },
    {
      "cell_type": "code",
      "source": [
        "tu=(1,2,3,\"good\",4,5,[10,20],(1,5),{1:\"happy\",2:\"sad\"},True)\n",
        "print(tu)\n",
        "\n",
        "print(\"\\n\")\n",
        "\n",
        "print(\"Tuple Slicing\")\n",
        "print(tu[:])\n",
        "print(tu[0:])\n",
        "print(tu[:11])\n",
        "print(tu[0:1])\n",
        "print(tu[1:5])\n",
        "print(tu[6:11])\n",
        "\n",
        "print(\"\\n\")\n",
        "\n",
        "print(\"Tuple Slicing using Negative Index\")\n",
        "print(tu[-9:-4])\n",
        "print(tu[-3:-1])\n",
        "\n",
        "\n",
        "print(\"\\n\")\n",
        "\n",
        "print(\"Jump Index\")\n",
        "\n",
        "print(\"\\n\")\n",
        "\n",
        "print(tu[::])\n",
        "\n",
        "print(\"\\n\")\n",
        "\n",
        "print(tu[::-1])       # reverse of the tuple\n",
        "\n",
        "print(\"\\n\")\n",
        "\n",
        "print(tu[::-2])        # print alternate items of reverse tuple\n",
        "\n",
        "print(\"\\n\")\n",
        "\n",
        "print(tu[::2])        # print alternate items of tuple #jumpindex\n",
        "\n",
        "print(\"\\n\")\n",
        "\n",
        "print(tu[::3])        # print every 3rd consecutive value #jumpindex\n",
        "\n",
        "print('\\n')\n",
        "\n"
      ],
      "metadata": {
        "colab": {
          "base_uri": "https://localhost:8080/"
        },
        "id": "K8vu3hA7E6Ax",
        "outputId": "8d783d1c-8267-478f-8efc-d7f4ce6524a6"
      },
      "execution_count": 87,
      "outputs": [
        {
          "output_type": "stream",
          "name": "stdout",
          "text": [
            "(1, 2, 3, 'good', 4, 5, [10, 20], (1, 5), {1: 'happy', 2: 'sad'}, True)\n",
            "\n",
            "\n",
            "Tuple Slicing\n",
            "(1, 2, 3, 'good', 4, 5, [10, 20], (1, 5), {1: 'happy', 2: 'sad'}, True)\n",
            "(1, 2, 3, 'good', 4, 5, [10, 20], (1, 5), {1: 'happy', 2: 'sad'}, True)\n",
            "(1, 2, 3, 'good', 4, 5, [10, 20], (1, 5), {1: 'happy', 2: 'sad'}, True)\n",
            "(1,)\n",
            "(2, 3, 'good', 4)\n",
            "([10, 20], (1, 5), {1: 'happy', 2: 'sad'}, True)\n",
            "\n",
            "\n",
            "Tuple Slicing using Negative Index\n",
            "(2, 3, 'good', 4, 5)\n",
            "((1, 5), {1: 'happy', 2: 'sad'})\n",
            "\n",
            "\n",
            "Jump Index\n",
            "\n",
            "\n",
            "(1, 2, 3, 'good', 4, 5, [10, 20], (1, 5), {1: 'happy', 2: 'sad'}, True)\n",
            "\n",
            "\n",
            "(True, {1: 'happy', 2: 'sad'}, (1, 5), [10, 20], 5, 4, 'good', 3, 2, 1)\n",
            "\n",
            "\n",
            "(True, (1, 5), 5, 'good', 2)\n",
            "\n",
            "\n",
            "(1, 3, 4, [10, 20], {1: 'happy', 2: 'sad'})\n",
            "\n",
            "\n",
            "(1, 'good', [10, 20], True)\n",
            "\n",
            "\n"
          ]
        }
      ]
    },
    {
      "cell_type": "markdown",
      "source": [
        "* **Converting a List to a Tuple and viceversa**\n",
        "\n",
        "\n",
        "\n",
        "\n"
      ],
      "metadata": {
        "id": "qMcrpE-d8VXT"
      }
    },
    {
      "cell_type": "code",
      "source": [
        "li=[10,20,30,\"hii\",True,(2,4,6),[1,3,5]]\n",
        "print(\"List:\")\n",
        "print(li)\n",
        "print(type(li))\n",
        "\n",
        "print(\"\\n\")\n",
        "\n",
        "print(\"Tuple:\")\n",
        "tu=(tuple(li))              #  converting list datatype into tuple datatype\n",
        "print(tu)\n",
        "print(type(tu))\n",
        "\n",
        "\n",
        "print(\"\\n\")\n",
        "\n",
        "\n",
        "tu=(1,2,3,5,[10,20],(3,6,9))\n",
        "print(\"Tuple:\")\n",
        "print(tu)\n",
        "print(type(tu))\n",
        "\n",
        "print(\"\\n\")\n",
        "\n",
        "print(\"List:\")\n",
        "li=list(tu)                  # converting tuple datatype into list datatype\n",
        "print(li)\n",
        "print(type(li))\n"
      ],
      "metadata": {
        "colab": {
          "base_uri": "https://localhost:8080/"
        },
        "id": "-jM_BUvKE6Dj",
        "outputId": "262edce8-405e-4948-e53e-e9eaa6020189"
      },
      "execution_count": 58,
      "outputs": [
        {
          "output_type": "stream",
          "name": "stdout",
          "text": [
            "List:\n",
            "[10, 20, 30, 'hii', True, (2, 4, 6), [1, 3, 5]]\n",
            "<class 'list'>\n",
            "\n",
            "\n",
            "Tuple:\n",
            "(10, 20, 30, 'hii', True, (2, 4, 6), [1, 3, 5])\n",
            "<class 'tuple'>\n",
            "\n",
            "\n",
            "Tuple:\n",
            "(1, 2, 3, 5, [10, 20], (3, 6, 9))\n",
            "<class 'tuple'>\n",
            "\n",
            "\n",
            "List:\n",
            "[1, 2, 3, 5, [10, 20], (3, 6, 9)]\n",
            "<class 'list'>\n"
          ]
        }
      ]
    },
    {
      "cell_type": "markdown",
      "source": [
        "#**Python Tuple Methods**"
      ],
      "metadata": {
        "id": "gVF001SLXZnn"
      }
    },
    {
      "cell_type": "markdown",
      "source": [
        "* As tuple is immutable so we cannot make any changes in tuple directly.\n",
        "* We need to convert tuple into list using list() method and make changes in list(the changes which you want in tuple). after making changes in list again  the list into tuple using tuple() method."
      ],
      "metadata": {
        "id": "mbs0iLOpYokp"
      }
    },
    {
      "cell_type": "code",
      "source": [
        "tu=(1,2,3,5,6,7,[10,20],(1,2),\"hi\")\n",
        "print(\"Tuple:\")\n",
        "print(tu)\n",
        "print(type(tu))\n",
        "\n",
        "\n",
        "print(\"\\n\")\n",
        "\n",
        "print(\"List:\")\n",
        "li=list(tu)\n",
        "print(li)\n",
        "print(type(li))\n",
        "\n",
        "print(\"\\n\")\n",
        "print(\"Making Changes in list:\")\n",
        "li.pop(8)\n",
        "li.insert(3,4)\n",
        "li.remove([10,20])\n",
        "li.append(\"Happy\")\n",
        "\n",
        "\n",
        "print(\"\\n\")\n",
        "print(\"After Making Changes in List:\")\n",
        "print(li)\n",
        "\n",
        "print(\"\\n\")\n",
        "print(\" Modified Tuple:\")\n",
        "tu=tuple(li)\n",
        "print(tu)\n",
        "\n",
        "print(\"\\n\")\n"
      ],
      "metadata": {
        "colab": {
          "base_uri": "https://localhost:8080/"
        },
        "id": "B8rnngxAZ7gQ",
        "outputId": "f37d5936-e273-45da-ab7c-ec4c84b929b0"
      },
      "execution_count": 64,
      "outputs": [
        {
          "output_type": "stream",
          "name": "stdout",
          "text": [
            "Tuple:\n",
            "(1, 2, 3, 5, 6, 7, [10, 20], (1, 2), 'hi')\n",
            "<class 'tuple'>\n",
            "\n",
            "\n",
            "List:\n",
            "[1, 2, 3, 5, 6, 7, [10, 20], (1, 2), 'hi']\n",
            "<class 'list'>\n",
            "\n",
            "\n",
            "Making Changes in list:\n",
            "\n",
            "\n",
            "After Making Changes in List:\n",
            "[1, 2, 3, 4, 5, 6, 7, (1, 2), 'Happy']\n",
            "\n",
            "\n",
            " Modified Tuple:\n",
            "(1, 2, 3, 4, 5, 6, 7, (1, 2), 'Happy')\n",
            "\n",
            "\n"
          ]
        }
      ]
    },
    {
      "cell_type": "markdown",
      "source": [
        "* **Concatenating Of Tuple**"
      ],
      "metadata": {
        "id": "kBWSvr5EiBNs"
      }
    },
    {
      "cell_type": "markdown",
      "source": [
        "* Concatenation of tuple is the process of joining two or more Tuples.\n",
        "* Concatenation is done by the use of ‘+’ operator.\n",
        "\n"
      ],
      "metadata": {
        "id": "LEMleeZBjMI2"
      }
    },
    {
      "cell_type": "code",
      "source": [
        "tu1=(1,2,3,4,\"Happy\",[1,2],(5,6))\n",
        "print('tuple 1 :')\n",
        "print(tu1)\n",
        "\n",
        "print(\"\\n\")\n",
        "\n",
        "tu2=(5,6,7,8,\"Good\",[3,4])\n",
        "print('tuple 2:')\n",
        "print(tu2)\n",
        "\n",
        "print(\"\\n\")\n",
        "\n",
        "tu3=tu1+tu2                       # Concatenating two tuples and storing result in new tuple\n",
        "print(\"New tuple 3:\")\n",
        "print(tu3)\n",
        "\n",
        "print(\"\\n\")\n",
        "\n",
        "tu4=(9,10)\n",
        "print(\"tuple 4: \")\n",
        "print(tu4)\n",
        "\n",
        "print('\\n')\n",
        "\n",
        "tup=tu3+tu4                       # Cocatenating two tuples and storing result in new tuple\n",
        "print(\"Resultant tuple:\")\n",
        "print(tup)\n",
        "\n",
        "print(\"\\n\")\n",
        "\n"
      ],
      "metadata": {
        "colab": {
          "base_uri": "https://localhost:8080/"
        },
        "id": "47V1cbX_E6GF",
        "outputId": "1dd4b82a-b605-4e64-fa85-eddd3ea2df02"
      },
      "execution_count": 86,
      "outputs": [
        {
          "output_type": "stream",
          "name": "stdout",
          "text": [
            "tuple 1 :\n",
            "(1, 2, 3, 4, 'Happy', [1, 2], (5, 6))\n",
            "\n",
            "\n",
            "tuple 2:\n",
            "(5, 6, 7, 8, 'Good', [3, 4])\n",
            "\n",
            "\n",
            "New tuple 3:\n",
            "(1, 2, 3, 4, 'Happy', [1, 2], (5, 6), 5, 6, 7, 8, 'Good', [3, 4])\n",
            "\n",
            "\n",
            "tuple 4: \n",
            "(9, 10)\n",
            "\n",
            "\n",
            "Resultant tuple:\n",
            "(1, 2, 3, 4, 'Happy', [1, 2], (5, 6), 5, 6, 7, 8, 'Good', [3, 4], 9, 10)\n",
            "\n",
            "\n"
          ]
        }
      ]
    },
    {
      "cell_type": "markdown",
      "source": [
        "* **count() -> The count() method of tuple returns the number of times the given element appears in the tuple**"
      ],
      "metadata": {
        "id": "ugVnUcfpncFu"
      }
    },
    {
      "cell_type": "code",
      "source": [
        "tu=(1,2,3,5,[10,20],(3,6,9),2,[10,20],1,1,2,1)\n",
        "print(tu)\n",
        "print(\"Count of 2 is :\",tu.count(2))\n",
        "print(\"Count of 1 is :\",tu.count(1))\n",
        "print(\"Count of [10,20] is :\",tu.count([10,20]))\n",
        "print(\"Count of 5 is :\",tu.count(5))\n",
        "\n",
        "print(\"\\n\")\n"
      ],
      "metadata": {
        "colab": {
          "base_uri": "https://localhost:8080/"
        },
        "id": "HtroMn3TXrhE",
        "outputId": "b2b78d08-cfb4-4a2d-a3c2-b36c9976c1ed"
      },
      "execution_count": 96,
      "outputs": [
        {
          "output_type": "stream",
          "name": "stdout",
          "text": [
            "(1, 2, 3, 5, [10, 20], (3, 6, 9), 2, [10, 20], 1, 1, 2, 1)\n",
            "Count of 2 is : 3\n",
            "Count of 1 is : 4\n",
            "Count of [10,20] is : 2\n",
            "Count of 5 is : 1\n",
            "\n",
            "\n"
          ]
        }
      ]
    },
    {
      "cell_type": "markdown",
      "source": [
        "* **index() -> The index() method returns the first occurence of the given element from the tuple and this method raises a ValueError if the element not found in the tuple.**"
      ],
      "metadata": {
        "id": "7UzMsNO7pecy"
      }
    },
    {
      "cell_type": "code",
      "source": [
        "tu=(1,2,3,5,[10,20],(3,6,9),6,7,\"happy\",5,3,1,9)\n",
        "print(tu)\n",
        "\n",
        "print(\"The Element 5 is present at index:\",tu.index(5))\n",
        "\n",
        "a=9\n",
        "print(f\"The Element {a} is present at index :\",tu.index(a))\n",
        "\n",
        "#print(tu.index(10))   # Error because element 10 is not present in the tuple\n"
      ],
      "metadata": {
        "colab": {
          "base_uri": "https://localhost:8080/"
        },
        "id": "xaKq8p9HXrlI",
        "outputId": "95a579ed-c453-40d0-90e3-db65fc654c63"
      },
      "execution_count": 101,
      "outputs": [
        {
          "output_type": "stream",
          "name": "stdout",
          "text": [
            "(1, 2, 3, 5, [10, 20], (3, 6, 9), 6, 7, 'happy', 5, 3, 1, 9)\n",
            "The Element 5 is present at index: 3\n",
            "The Element 9 is present at index : 12\n"
          ]
        }
      ]
    },
    {
      "cell_type": "code",
      "source": [],
      "metadata": {
        "id": "0L8oNLlVXrsg"
      },
      "execution_count": null,
      "outputs": []
    },
    {
      "cell_type": "code",
      "source": [],
      "metadata": {
        "id": "2SsYQbtoXrxu"
      },
      "execution_count": null,
      "outputs": []
    },
    {
      "cell_type": "code",
      "source": [],
      "metadata": {
        "id": "5M1szvKzE6I-"
      },
      "execution_count": null,
      "outputs": []
    },
    {
      "cell_type": "code",
      "source": [],
      "metadata": {
        "id": "_3mXO1g6E6NH"
      },
      "execution_count": null,
      "outputs": []
    },
    {
      "cell_type": "code",
      "source": [],
      "metadata": {
        "id": "iFHlttKME6Sw"
      },
      "execution_count": null,
      "outputs": []
    }
  ]
}