{
  "nbformat": 4,
  "nbformat_minor": 0,
  "metadata": {
    "colab": {
      "provenance": []
    },
    "kernelspec": {
      "name": "python3",
      "display_name": "Python 3"
    },
    "language_info": {
      "name": "python"
    }
  },
  "cells": [
    {
      "cell_type": "markdown",
      "source": [
        "#**Enumerate Function in Python**"
      ],
      "metadata": {
        "id": "-xczsWgUrzBR"
      }
    },
    {
      "cell_type": "markdown",
      "source": [
        "* The enumerate function is a built-in function in Python that allows you to loop over a sequence (such as a list,tuple,or string) and get the index and value of each element in sequence at the same time.\n",
        "\n",
        "\n"
      ],
      "metadata": {
        "id": "WyGvyD5KuKWJ"
      }
    },
    {
      "cell_type": "code",
      "execution_count": null,
      "metadata": {
        "id": "2Yo_h2c6hIRf",
        "colab": {
          "base_uri": "https://localhost:8080/"
        },
        "outputId": "c7b1540f-e412-4cbd-8a08-0a3053782be2"
      },
      "outputs": [
        {
          "output_type": "stream",
          "name": "stdout",
          "text": [
            "0 67\n",
            "1 48\n",
            "2 54\n",
            "3 67\n",
            "4 99\n",
            "5 26\n",
            "6 35\n"
          ]
        }
      ],
      "source": [
        "li=[67,48,54,67,99,26,35]\n",
        "for index,value in enumerate(li):\n",
        "  print(f\"{index} {value}\")\n"
      ]
    },
    {
      "cell_type": "code",
      "source": [
        "li=[67,48,54,67,99,26,35]\n",
        "for index,value in enumerate(li):\n",
        "  print(value)\n",
        "  if(index==4):\n",
        "    print(\"Muqeet Awesome\")"
      ],
      "metadata": {
        "id": "Sb6jAZCVhJqm",
        "colab": {
          "base_uri": "https://localhost:8080/"
        },
        "outputId": "1fead58c-e297-400f-f7df-0d9acc40a970"
      },
      "execution_count": null,
      "outputs": [
        {
          "output_type": "stream",
          "name": "stdout",
          "text": [
            "67\n",
            "48\n",
            "54\n",
            "67\n",
            "99\n",
            "Muqeet Awesome\n",
            "26\n",
            "35\n"
          ]
        }
      ]
    },
    {
      "cell_type": "code",
      "source": [
        "li=[\"apple\",\"mango\",\"orange\",\"banana\"]\n",
        "for index,value in enumerate(li,start=1):  #by default index start from 0 here we have specified that starting index is 1\n",
        "  print(f\"{index} {value}\")"
      ],
      "metadata": {
        "id": "3SxZ4t0jhJtL",
        "colab": {
          "base_uri": "https://localhost:8080/"
        },
        "outputId": "f6f7acd8-81ba-4e09-9385-593f28899a8c"
      },
      "execution_count": null,
      "outputs": [
        {
          "output_type": "stream",
          "name": "stdout",
          "text": [
            "1 apple\n",
            "2 mango\n",
            "3 orange\n",
            "4 banana\n"
          ]
        }
      ]
    },
    {
      "cell_type": "code",
      "source": [
        "s=\"muqeet\"\n",
        "for i,v in enumerate(s,start=1):\n",
        "  print(f\" {i} {v}\")"
      ],
      "metadata": {
        "id": "UKovj0uShJvZ",
        "colab": {
          "base_uri": "https://localhost:8080/"
        },
        "outputId": "720be201-cd35-4ef1-9a14-7c951bae847e"
      },
      "execution_count": null,
      "outputs": [
        {
          "output_type": "stream",
          "name": "stdout",
          "text": [
            " 1 m\n",
            " 2 u\n",
            " 3 q\n",
            " 4 e\n",
            " 5 e\n",
            " 6 t\n"
          ]
        }
      ]
    },
    {
      "cell_type": "code",
      "source": [
        "tu=(10,20,30,40,60,80)\n",
        "for i,v in enumerate(tu,start=1):\n",
        "  print(f\"{i} {v}\")"
      ],
      "metadata": {
        "id": "szt2QJRHhJzl",
        "colab": {
          "base_uri": "https://localhost:8080/"
        },
        "outputId": "75561231-b582-428a-aa7b-db53b2555133"
      },
      "execution_count": null,
      "outputs": [
        {
          "output_type": "stream",
          "name": "stdout",
          "text": [
            "1 10\n",
            "2 20\n",
            "3 30\n",
            "4 40\n",
            "5 60\n",
            "6 80\n"
          ]
        }
      ]
    }
  ]
}