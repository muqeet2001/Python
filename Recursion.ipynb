{
  "nbformat": 4,
  "nbformat_minor": 0,
  "metadata": {
    "colab": {
      "provenance": []
    },
    "kernelspec": {
      "name": "python3",
      "display_name": "Python 3"
    },
    "language_info": {
      "name": "python"
    }
  },
  "cells": [
    {
      "cell_type": "markdown",
      "source": [
        "#**Recursion in Python**"
      ],
      "metadata": {
        "id": "NywWrkMoJNtY"
      }
    },
    {
      "cell_type": "markdown",
      "source": [
        "* The process of function calling itself."
      ],
      "metadata": {
        "id": "CX08UUAtKe8k"
      }
    },
    {
      "cell_type": "markdown",
      "source": [
        "**Factorial**"
      ],
      "metadata": {
        "id": "CNN3oB0Im9Hr"
      }
    },
    {
      "cell_type": "code",
      "execution_count": null,
      "metadata": {
        "id": "EV9WPxeEIAK7",
        "colab": {
          "base_uri": "https://localhost:8080/"
        },
        "outputId": "d182c52c-f3d3-4ff4-d91a-32c03d1aea91"
      },
      "outputs": [
        {
          "output_type": "stream",
          "name": "stdout",
          "text": [
            "Enter the Number 5\n",
            "factorial of 5 is  120\n",
            "\n",
            "\n"
          ]
        }
      ],
      "source": [
        "def factorial(n):\n",
        "  if(n==0 or n==1):\n",
        "    return 1\n",
        "  else:\n",
        "    return n*factorial(n-1)\n",
        "\n",
        "\n",
        "n=int(input(\"Enter the Number \"))\n",
        "fact=factorial(n)\n",
        "print(f\"factorial of {n} is \",fact)\n",
        "\n",
        "print(\"\\n\")\n"
      ]
    },
    {
      "cell_type": "markdown",
      "source": [
        "**Fibonacci**"
      ],
      "metadata": {
        "id": "2h4MWHiVnAoi"
      }
    },
    {
      "cell_type": "code",
      "source": [
        "def fibonaci(n):\n",
        "  if n==0 or n==1:\n",
        "    return n\n",
        "  else:\n",
        "    return fibonaci(n-1)+fibonaci(n-2)\n",
        "\n",
        "print(\"Fibonacci series : \")\n",
        "for i in range(0,11):\n",
        "  res=fibonaci(i)\n",
        "  print(res)\n"
      ],
      "metadata": {
        "colab": {
          "base_uri": "https://localhost:8080/"
        },
        "id": "VYVlQUtLJKSi",
        "outputId": "137a0383-fced-4a3d-dfc0-97f6c61d26bb"
      },
      "execution_count": null,
      "outputs": [
        {
          "output_type": "stream",
          "name": "stdout",
          "text": [
            "Fibonacci series : \n",
            "0\n",
            "1\n",
            "1\n",
            "2\n",
            "3\n",
            "5\n",
            "8\n",
            "13\n",
            "21\n",
            "34\n",
            "55\n"
          ]
        }
      ]
    },
    {
      "cell_type": "markdown",
      "source": [
        "**Normal Example of Recursion**"
      ],
      "metadata": {
        "id": "tm0629cFndpX"
      }
    },
    {
      "cell_type": "code",
      "source": [
        "def fun(n):\n",
        "  if(n<=3):\n",
        "   print(\"Hello\")\n",
        "   p=n+1\n",
        "   fun(p)\n",
        "\n",
        "fun(1)"
      ],
      "metadata": {
        "colab": {
          "base_uri": "https://localhost:8080/"
        },
        "id": "EXyHEi7nJKbN",
        "outputId": "ba247b46-ca26-4582-e286-95a4b529f29b"
      },
      "execution_count": null,
      "outputs": [
        {
          "output_type": "stream",
          "name": "stdout",
          "text": [
            "Hello\n",
            "Hello\n",
            "Hello\n"
          ]
        }
      ]
    },
    {
      "cell_type": "markdown",
      "source": [
        "**Fibonacci series without using Recursion**"
      ],
      "metadata": {
        "id": "Z7Mu3XoCnXMp"
      }
    },
    {
      "cell_type": "code",
      "source": [
        "a=0\n",
        "b=1\n",
        "for i in range(0,11):\n",
        "  print(a)\n",
        "  c=a+b\n",
        "  a=b\n",
        "  b=c\n"
      ],
      "metadata": {
        "colab": {
          "base_uri": "https://localhost:8080/"
        },
        "id": "mZh0SGlXJYr_",
        "outputId": "c3793270-4ecb-4114-e00c-850d7905f6ca"
      },
      "execution_count": null,
      "outputs": [
        {
          "output_type": "stream",
          "name": "stdout",
          "text": [
            "0\n",
            "1\n",
            "1\n",
            "2\n",
            "3\n",
            "5\n",
            "8\n",
            "13\n",
            "21\n",
            "34\n",
            "55\n"
          ]
        }
      ]
    },
    {
      "cell_type": "code",
      "source": [],
      "metadata": {
        "id": "_2AOFZSqJKgD"
      },
      "execution_count": null,
      "outputs": []
    },
    {
      "cell_type": "code",
      "source": [],
      "metadata": {
        "id": "n2LjgvF_JKkN"
      },
      "execution_count": null,
      "outputs": []
    },
    {
      "cell_type": "code",
      "source": [],
      "metadata": {
        "id": "gMpqG6CpJKol"
      },
      "execution_count": null,
      "outputs": []
    },
    {
      "cell_type": "code",
      "source": [],
      "metadata": {
        "id": "Vasyy7sXJKtq"
      },
      "execution_count": null,
      "outputs": []
    },
    {
      "cell_type": "code",
      "source": [],
      "metadata": {
        "id": "K92jKrsAJKym"
      },
      "execution_count": null,
      "outputs": []
    },
    {
      "cell_type": "code",
      "source": [],
      "metadata": {
        "id": "hlN2mjNnJK3r"
      },
      "execution_count": null,
      "outputs": []
    },
    {
      "cell_type": "code",
      "source": [],
      "metadata": {
        "id": "N5b5egVZJK_C"
      },
      "execution_count": null,
      "outputs": []
    },
    {
      "cell_type": "code",
      "source": [],
      "metadata": {
        "id": "vZy-htLqJLPk"
      },
      "execution_count": null,
      "outputs": []
    },
    {
      "cell_type": "code",
      "source": [],
      "metadata": {
        "id": "WV_lP2WZJMHW"
      },
      "execution_count": null,
      "outputs": []
    },
    {
      "cell_type": "code",
      "source": [],
      "metadata": {
        "id": "48wpz3DqJMMR"
      },
      "execution_count": null,
      "outputs": []
    },
    {
      "cell_type": "code",
      "source": [],
      "metadata": {
        "id": "DAfiDYkCJMRY"
      },
      "execution_count": null,
      "outputs": []
    },
    {
      "cell_type": "code",
      "source": [],
      "metadata": {
        "id": "cHIynEIhJMW7"
      },
      "execution_count": null,
      "outputs": []
    },
    {
      "cell_type": "code",
      "source": [],
      "metadata": {
        "id": "AQPIzQ6jIE4F"
      },
      "execution_count": null,
      "outputs": []
    },
    {
      "cell_type": "code",
      "source": [],
      "metadata": {
        "id": "lKW5d9GUIE6s"
      },
      "execution_count": null,
      "outputs": []
    },
    {
      "cell_type": "code",
      "source": [],
      "metadata": {
        "id": "0ZghLMNvIE9C"
      },
      "execution_count": null,
      "outputs": []
    },
    {
      "cell_type": "code",
      "source": [],
      "metadata": {
        "id": "UVTd7zgQIE_b"
      },
      "execution_count": null,
      "outputs": []
    },
    {
      "cell_type": "code",
      "source": [],
      "metadata": {
        "id": "gtWpl2q3IFCC"
      },
      "execution_count": null,
      "outputs": []
    }
  ]
}