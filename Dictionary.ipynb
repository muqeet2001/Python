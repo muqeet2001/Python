{
  "nbformat": 4,
  "nbformat_minor": 0,
  "metadata": {
    "colab": {
      "provenance": []
    },
    "kernelspec": {
      "name": "python3",
      "display_name": "Python 3"
    },
    "language_info": {
      "name": "python"
    }
  },
  "cells": [
    {
      "cell_type": "markdown",
      "source": [
        "#**Python Dictionaries**"
      ],
      "metadata": {
        "id": "N_P-BmqWkFqk"
      }
    },
    {
      "cell_type": "markdown",
      "source": [
        "* Dictionaries are used to store data values in key:value pairs.\n",
        "\n",
        "* A dictionary is a collection which is ordered, changeable and do not allow duplicates.\n",
        "\n",
        "* As of Python version 3.7, dictionaries are ordered. In Python 3.6 and earlier, dictionaries are unordered.\n",
        "\n",
        "* Dictionaries are written with curly brackets, and have keys and values.\n"
      ],
      "metadata": {
        "id": "ZgJSlGGJkfck"
      }
    },
    {
      "cell_type": "code",
      "execution_count": 15,
      "metadata": {
        "colab": {
          "base_uri": "https://localhost:8080/"
        },
        "id": "fC9kTe8bhQPQ",
        "outputId": "c099e37b-336b-4fe3-9b2c-dd849aa3d701"
      },
      "outputs": [
        {
          "output_type": "stream",
          "name": "stdout",
          "text": [
            "{'name': 'happy', 'age': 22, 'phno': 9876054321}\n",
            "<class 'dict'>\n",
            "3\n",
            "\n",
            "\n",
            "{1: 'hii', 2: 'hello', 3: 'bye'}\n",
            "<class 'dict'>\n",
            "3\n",
            "\n",
            "\n",
            "{}\n"
          ]
        }
      ],
      "source": [
        "dict={'name':'happy','age': 22,'phno':9876054321}\n",
        "print(dict)\n",
        "print(type(dict))\n",
        "print(len(dict))\n",
        "\n",
        "print('\\n')\n",
        "\n",
        "dict={1:\"hii\",2:\"hello\",3:\"bye\"}\n",
        "print(dict)\n",
        "print(type(dict))\n",
        "print(len(dict))\n",
        "\n",
        "print('\\n')\n",
        "\n",
        "dict={}       # Empty dictionary\n",
        "print(dict)\n"
      ]
    },
    {
      "cell_type": "markdown",
      "source": [
        "* **Duplicates Not Allowed**\n"
      ],
      "metadata": {
        "id": "74OG2XaMsLIX"
      }
    },
    {
      "cell_type": "code",
      "source": [
        "dict={'name':'happy','age': 22,'phno':9876054321,'age':23}  #Dictionaries cannot have two items with the same key\n",
        "print(dict)                                                 #Duplicate values will overwrite existing values\n",
        "\n",
        "dict={1:\"hii\",2:\"hello\",2:\"bye\"}\n",
        "print(dict)"
      ],
      "metadata": {
        "colab": {
          "base_uri": "https://localhost:8080/"
        },
        "id": "C1w4hvEZhU47",
        "outputId": "3c9aab77-36ef-44c4-f8bf-d41c21c5eb27"
      },
      "execution_count": 8,
      "outputs": [
        {
          "output_type": "stream",
          "name": "stdout",
          "text": [
            "{'name': 'happy', 'age': 23, 'phno': 9876054321}\n",
            "{1: 'hii', 2: 'bye'}\n"
          ]
        }
      ]
    },
    {
      "cell_type": "markdown",
      "source": [
        "#**Accessing Dictionary items**"
      ],
      "metadata": {
        "id": "mft6E6BrfwGA"
      }
    },
    {
      "cell_type": "code",
      "source": [
        "di={1:\"apple\",2:\"banana\",3:\"cherry\",4:\"date\",\"name\":\"Happy\"}\n",
        "print(di)\n",
        "\n",
        "# Accessing single values\n",
        "\n",
        "print(di[1])\n",
        "print(di[2])\n",
        "print(di[3])\n",
        "print(di[4])\n",
        "print(di[\"name\"])\n",
        "# print(di[5])               # If the key doesn't exist then it will throw an error\n",
        "\n",
        "print('\\n')\n",
        "\n",
        "print(di.get(1))             # we can also use get() method for accessing the values.\n",
        "print(di.get(2))\n",
        "print(di.get(3))\n",
        "print(di.get(4))\n",
        "print(di.get(\"name\"))\n",
        "print(di.get(5))              # If the key doesn't exist in dictionary than it gives none as output\n",
        "\n",
        "print('\\n')\n",
        "\n",
        "# Accessing mutiple values\n",
        "\n",
        "\n",
        "print(di.keys())              # we can print all the keys in the dictionary using keys() method\n",
        "print(di.values())            # we can print all the values in the dictionary using values() method\n",
        "\n",
        "print('\\n')\n",
        "\n",
        "\n",
        "for i in di:                    # we can only print keys by using this for loop\n",
        "  print(i)\n",
        "\n",
        "for key in di.keys():           # we can only print keys by using this for loop\n",
        "  print(key)\n",
        "\n",
        "\n",
        "print('\\n')\n",
        "\n",
        "\n",
        "for key in di.keys():            # we can print values by using this for loop\n",
        "  print(di[key])\n",
        "\n",
        "\n",
        "print(\"\\n\")\n",
        "\n",
        "\n",
        "for i in di.keys():\n",
        "  print(f\"the value corresponding to the key {key} is {di[key]}\")\n",
        "\n",
        "\n",
        "print(\"\\n\")\n",
        "\n",
        "\n",
        "# Accessing key -value pairs\n",
        "\n",
        "\n",
        "print(di.items())               # we can print key value pairs in the dictionary using items() method\n",
        "\n",
        "for key,value in di.items():\n",
        "  print(f\"The value corresponding to the key {key} is {value}\")\n",
        "\n",
        "\n",
        "\n",
        "\n",
        "\n",
        "\n"
      ],
      "metadata": {
        "colab": {
          "base_uri": "https://localhost:8080/"
        },
        "id": "U4MfQFpTaZgw",
        "outputId": "2db9036f-0718-44bc-975a-728287703288"
      },
      "execution_count": 21,
      "outputs": [
        {
          "output_type": "stream",
          "name": "stdout",
          "text": [
            "{1: 'apple', 2: 'banana', 3: 'cherry', 4: 'date', 'name': 'Happy'}\n",
            "apple\n",
            "banana\n",
            "cherry\n",
            "date\n",
            "Happy\n",
            "\n",
            "\n",
            "apple\n",
            "banana\n",
            "cherry\n",
            "date\n",
            "Happy\n",
            "None\n",
            "\n",
            "\n",
            "dict_keys([1, 2, 3, 4, 'name'])\n",
            "dict_values(['apple', 'banana', 'cherry', 'date', 'Happy'])\n",
            "\n",
            "\n",
            "1\n",
            "2\n",
            "3\n",
            "4\n",
            "name\n",
            "1\n",
            "2\n",
            "3\n",
            "4\n",
            "name\n",
            "\n",
            "\n",
            "apple\n",
            "banana\n",
            "cherry\n",
            "date\n",
            "Happy\n",
            "\n",
            "\n",
            "the value corresponding to the key name is Happy\n",
            "the value corresponding to the key name is Happy\n",
            "the value corresponding to the key name is Happy\n",
            "the value corresponding to the key name is Happy\n",
            "the value corresponding to the key name is Happy\n",
            "\n",
            "\n",
            "dict_items([(1, 'apple'), (2, 'banana'), (3, 'cherry'), (4, 'date'), ('name', 'Happy')])\n",
            "The value corresponding to the key 1 is apple\n",
            "The value corresponding to the key 2 is banana\n",
            "The value corresponding to the key 3 is cherry\n",
            "The value corresponding to the key 4 is date\n",
            "The value corresponding to the key name is Happy\n"
          ]
        }
      ]
    },
    {
      "cell_type": "markdown",
      "source": [
        "# **Python Dictionary Methods**"
      ],
      "metadata": {
        "id": "BD8fnI9gQGVQ"
      }
    },
    {
      "cell_type": "markdown",
      "source": [
        "* **update() -> Updates the dictionary with the specified key-value pairs.**"
      ],
      "metadata": {
        "id": "eg9lAaBZYOF-"
      }
    },
    {
      "cell_type": "code",
      "source": [
        "di={\"name\":\"Happy\",\"age\":22,\"city\":\"Hyderabad\"}\n",
        "print(di)\n",
        "\n",
        "print(\"\\n\")\n",
        "\n",
        "di.update({\"rollno\":30})           # adding new entry into dictionary\n",
        "print(di)\n",
        "\n",
        "print(\"\\n\")\n",
        "\n",
        "di.update({1:\"Good\"})               # adding new entry into dictionary\n",
        "print(di)\n",
        "\n",
        "print(\"\\n\")\n",
        "\n",
        "di.update({1:\"Bad\"})                # updating new value to the existing key into dictionary\n",
        "print(di)\n",
        "\n",
        "print('\\n')\n",
        "\n",
        "di.update({'age':21})                # updating new value to the existing key into dictionary\n",
        "print(di)\n",
        "\n",
        "print(\"\\n\")\n",
        "\n",
        "di1={1:\"Good\",2:\"Excellent\"}\n",
        "print(di1)\n",
        "di.update(di1)                        # adding new key value pairs from other dictionary to existing dictionary\n",
        "print(di)\n"
      ],
      "metadata": {
        "colab": {
          "base_uri": "https://localhost:8080/"
        },
        "id": "DDite52ZaZox",
        "outputId": "0ea65204-143c-4c0e-b961-1f2d125af43d"
      },
      "execution_count": 53,
      "outputs": [
        {
          "output_type": "stream",
          "name": "stdout",
          "text": [
            "{'name': 'Happy', 'age': 22, 'city': 'Hyderabad'}\n",
            "\n",
            "\n",
            "{'name': 'Happy', 'age': 22, 'city': 'Hyderabad', 'rollno': 30}\n",
            "\n",
            "\n",
            "{'name': 'Happy', 'age': 22, 'city': 'Hyderabad', 'rollno': 30, 1: 'Good'}\n",
            "\n",
            "\n",
            "{'name': 'Happy', 'age': 22, 'city': 'Hyderabad', 'rollno': 30, 1: 'Bad'}\n",
            "\n",
            "\n",
            "{'name': 'Happy', 'age': 21, 'city': 'Hyderabad', 'rollno': 30, 1: 'Bad'}\n",
            "\n",
            "\n",
            "{1: 'Good', 2: 'Excellent'}\n",
            "{'name': 'Happy', 'age': 21, 'city': 'Hyderabad', 'rollno': 30, 1: 'Good', 2: 'Excellent'}\n"
          ]
        }
      ]
    },
    {
      "cell_type": "markdown",
      "source": [
        "* **clear() -> The clear() method removes all the items from dictionary.**"
      ],
      "metadata": {
        "id": "1whhM2qrXcL3"
      }
    },
    {
      "cell_type": "code",
      "source": [
        "di={\"name\":\"Happy\",\"age\":22,\"city\":\"Hyderabad\"}\n",
        "print(di)\n",
        "di.clear()\n",
        "print(di)"
      ],
      "metadata": {
        "colab": {
          "base_uri": "https://localhost:8080/"
        },
        "id": "vaccm4wRaZsq",
        "outputId": "c9cc3717-0a7e-4725-ecdf-8603b48d8d17"
      },
      "execution_count": 54,
      "outputs": [
        {
          "output_type": "stream",
          "name": "stdout",
          "text": [
            "{'name': 'Happy', 'age': 22, 'city': 'Hyderabad'}\n",
            "{}\n"
          ]
        }
      ]
    },
    {
      "cell_type": "markdown",
      "source": [
        "* **pop() -> The pop() method removes the key=value pair whose key is passed as parameter.**"
      ],
      "metadata": {
        "id": "ZXfEQQISZmIj"
      }
    },
    {
      "cell_type": "code",
      "source": [
        "di={\"name\":\"Happy\",\"age\":22,\"city\":\"Hyderabad\",1:\"Good\"}\n",
        "print(di)\n",
        "\n",
        "print('\\n')\n",
        "\n",
        "di.pop(\"age\")\n",
        "print(di)\n",
        "\n",
        "print('\\n')\n",
        "\n",
        "di.pop(1)\n",
        "print(di)"
      ],
      "metadata": {
        "colab": {
          "base_uri": "https://localhost:8080/"
        },
        "id": "vrc3S438aZwq",
        "outputId": "d09256d3-9660-487c-fd86-7dc8c74d5786"
      },
      "execution_count": 60,
      "outputs": [
        {
          "output_type": "stream",
          "name": "stdout",
          "text": [
            "{'name': 'Happy', 'age': 22, 'city': 'Hyderabad', 1: 'Good'}\n",
            "\n",
            "\n",
            "{'name': 'Happy', 'city': 'Hyderabad', 1: 'Good'}\n",
            "\n",
            "\n",
            "{'name': 'Happy', 'city': 'Hyderabad'}\n"
          ]
        }
      ]
    },
    {
      "cell_type": "markdown",
      "source": [
        "* **popitem() -> The popitem() method removes the last key-value pair from the dictionary.**"
      ],
      "metadata": {
        "id": "ldWzRNn-ajJd"
      }
    },
    {
      "cell_type": "code",
      "source": [
        "di={\"name\":\"Happy\",\"age\":22,\"city\":\"Hyderabad\",1:\"Good\"}\n",
        "print(di)\n",
        "\n",
        "print(\"\\n\")\n",
        "\n",
        "di.popitem()\n",
        "print(di)\n",
        "\n",
        "print(\"\\n\")\n",
        "\n",
        "di.popitem()\n",
        "print(di)"
      ],
      "metadata": {
        "colab": {
          "base_uri": "https://localhost:8080/"
        },
        "id": "qdAr3D7-aZ0D",
        "outputId": "a8df5275-7975-4c5e-c6d4-66fefa8e77f3"
      },
      "execution_count": 61,
      "outputs": [
        {
          "output_type": "stream",
          "name": "stdout",
          "text": [
            "{'name': 'Happy', 'age': 22, 'city': 'Hyderabad', 1: 'Good'}\n",
            "\n",
            "\n",
            "{'name': 'Happy', 'age': 22, 'city': 'Hyderabad'}\n",
            "\n",
            "\n",
            "{'name': 'Happy', 'age': 22}\n"
          ]
        }
      ]
    },
    {
      "cell_type": "markdown",
      "source": [
        "* **del -> We can also use del keyword to remove a dictionary item.**\n",
        "* **If key is not provided, then the del keyword will delete the dictionary entirely.**"
      ],
      "metadata": {
        "id": "DxqISySOcJg4"
      }
    },
    {
      "cell_type": "code",
      "source": [
        "di={\"name\":\"Happy\",\"age\":22,\"city\":\"Hyderabad\",1:\"Good\"}\n",
        "print(di)\n",
        "\n",
        "print('\\n')\n",
        "\n",
        "del di[1]\n",
        "print(di)\n",
        "\n",
        "print(\"\\n\")\n",
        "\n",
        "# del di                         # delete the entire dictionary\n",
        "# print(di)"
      ],
      "metadata": {
        "colab": {
          "base_uri": "https://localhost:8080/"
        },
        "id": "pf3y4qy9aZ3k",
        "outputId": "6d4e1b32-ae31-4259-9171-cf2382d75e41"
      },
      "execution_count": 65,
      "outputs": [
        {
          "output_type": "stream",
          "name": "stdout",
          "text": [
            "{'name': 'Happy', 'age': 22, 'city': 'Hyderabad', 1: 'Good'}\n",
            "\n",
            "\n",
            "{'name': 'Happy', 'age': 22, 'city': 'Hyderabad'}\n",
            "\n",
            "\n"
          ]
        }
      ]
    },
    {
      "cell_type": "markdown",
      "source": [
        " **The below methods are discussed in Accessing Dictionary items section**\n",
        "\n",
        "* get()     -> \tReturns the value of the specified key.\n",
        "* keys()\t  ->  Returns a list containing the dictionary's keys.\n",
        "* values()  ->  Returns a list of all the values in the dictionary.\n",
        "* items() \t->  Returns a list containing a tuple for each key value pair.\n"
      ],
      "metadata": {
        "id": "mmDNeeHIeEI7"
      }
    },
    {
      "cell_type": "code",
      "source": [],
      "metadata": {
        "id": "Hth1SBmnaZ61"
      },
      "execution_count": null,
      "outputs": []
    },
    {
      "cell_type": "code",
      "source": [],
      "metadata": {
        "id": "mIbCqacjaZ-m"
      },
      "execution_count": null,
      "outputs": []
    },
    {
      "cell_type": "code",
      "source": [],
      "metadata": {
        "id": "AvG99o9saaDR"
      },
      "execution_count": null,
      "outputs": []
    },
    {
      "cell_type": "code",
      "source": [],
      "metadata": {
        "id": "j-eo2shKaaTI"
      },
      "execution_count": null,
      "outputs": []
    },
    {
      "cell_type": "code",
      "source": [],
      "metadata": {
        "id": "0vWaFCE2aaXc"
      },
      "execution_count": null,
      "outputs": []
    },
    {
      "cell_type": "code",
      "source": [],
      "metadata": {
        "id": "zhGVYSGhaadH"
      },
      "execution_count": null,
      "outputs": []
    },
    {
      "cell_type": "code",
      "source": [],
      "metadata": {
        "id": "K2M31_X1aakA"
      },
      "execution_count": null,
      "outputs": []
    },
    {
      "cell_type": "code",
      "source": [],
      "metadata": {
        "id": "4jUG0rmaaaom"
      },
      "execution_count": null,
      "outputs": []
    },
    {
      "cell_type": "code",
      "source": [],
      "metadata": {
        "id": "1UoKHqZ7aat4"
      },
      "execution_count": null,
      "outputs": []
    },
    {
      "cell_type": "code",
      "source": [],
      "metadata": {
        "id": "xgOWz1RJhU7j"
      },
      "execution_count": null,
      "outputs": []
    },
    {
      "cell_type": "code",
      "source": [],
      "metadata": {
        "id": "Uxqy7YWKhU-b"
      },
      "execution_count": null,
      "outputs": []
    },
    {
      "cell_type": "code",
      "source": [],
      "metadata": {
        "id": "lPiR9rfIhVBn"
      },
      "execution_count": null,
      "outputs": []
    },
    {
      "cell_type": "code",
      "source": [],
      "metadata": {
        "id": "a2Bg2Q5ehVEn"
      },
      "execution_count": null,
      "outputs": []
    },
    {
      "cell_type": "code",
      "source": [],
      "metadata": {
        "id": "iY6h-tWshVHB"
      },
      "execution_count": null,
      "outputs": []
    },
    {
      "cell_type": "code",
      "source": [],
      "metadata": {
        "id": "VATKlu_zhVJb"
      },
      "execution_count": null,
      "outputs": []
    },
    {
      "cell_type": "code",
      "source": [],
      "metadata": {
        "id": "y6tk7KEThVMR"
      },
      "execution_count": null,
      "outputs": []
    },
    {
      "cell_type": "code",
      "source": [],
      "metadata": {
        "id": "QhixxnLmhVOq"
      },
      "execution_count": null,
      "outputs": []
    },
    {
      "cell_type": "code",
      "source": [],
      "metadata": {
        "id": "tKdN3ioDhVR0"
      },
      "execution_count": null,
      "outputs": []
    },
    {
      "cell_type": "code",
      "source": [],
      "metadata": {
        "id": "aI9QhdVqhVYr"
      },
      "execution_count": null,
      "outputs": []
    }
  ]
}