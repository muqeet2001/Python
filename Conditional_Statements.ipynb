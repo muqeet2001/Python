{
  "nbformat": 4,
  "nbformat_minor": 0,
  "metadata": {
    "colab": {
      "provenance": []
    },
    "kernelspec": {
      "name": "python3",
      "display_name": "Python 3"
    },
    "language_info": {
      "name": "python"
    }
  },
  "cells": [
    {
      "cell_type": "markdown",
      "source": [
        "# **If Else Conditional Statements**"
      ],
      "metadata": {
        "id": "hcYH84Ojmbcj"
      }
    },
    {
      "cell_type": "code",
      "execution_count": null,
      "metadata": {
        "colab": {
          "base_uri": "https://localhost:8080/"
        },
        "id": "FrEHkVRWFMCg",
        "outputId": "1ef61bc8-816e-4cd0-c481-05d6afa659e6"
      },
      "outputs": [
        {
          "output_type": "stream",
          "name": "stdout",
          "text": [
            "10\n",
            "10\n",
            "30\n",
            "30\n",
            "10 is less than 30\n",
            "\n",
            "\n"
          ]
        }
      ],
      "source": [
        "a=int(input())\n",
        "print(a)\n",
        "b=int(input())\n",
        "print(b)\n",
        "if a>b:\n",
        "  print(f\"{a} is greater than {b}\")\n",
        "else:\n",
        "  print(f\"{a} is less than {b}\")\n",
        "\n",
        "print(\"\\n\")\n",
        "\n"
      ]
    },
    {
      "cell_type": "markdown",
      "source": [
        "**Indentation**\n",
        "* Python relies on indentation (whitespace at the beginning of a line) to define scope in the code. Other programming languages often use curly-brackets for this purpose."
      ],
      "metadata": {
        "id": "pr4kFE9hGBLA"
      }
    },
    {
      "cell_type": "code",
      "source": [
        "a = 33\n",
        "b = 200\n",
        "if b > a:\n",
        "#print(\"b is big\")  # gives indentation error\n",
        "  print(\"b is big\")"
      ],
      "metadata": {
        "colab": {
          "base_uri": "https://localhost:8080/"
        },
        "id": "jxEDW0htF0HR",
        "outputId": "03f5fdd7-9bd5-4a07-8137-0d5838ed65f0"
      },
      "execution_count": null,
      "outputs": [
        {
          "output_type": "stream",
          "name": "stdout",
          "text": [
            "b is big\n"
          ]
        }
      ]
    },
    {
      "cell_type": "markdown",
      "source": [
        "**Elif**"
      ],
      "metadata": {
        "id": "iRPQbcwLHfi9"
      }
    },
    {
      "cell_type": "code",
      "source": [
        "a=int(input())\n",
        "b=int(input())\n",
        "if a>b:\n",
        "  print(\"a is greater than b\")\n",
        "elif a==b:\n",
        "  print(\"a is equal to b\")\n",
        "else:\n",
        "  print(\"a is less than b\")\n",
        "\n",
        "print(\"\\n\")\n"
      ],
      "metadata": {
        "colab": {
          "base_uri": "https://localhost:8080/"
        },
        "id": "RunLfu0UF0LB",
        "outputId": "65dc73ed-fcc7-466b-b969-fb6144ebdcf0"
      },
      "execution_count": null,
      "outputs": [
        {
          "output_type": "stream",
          "name": "stdout",
          "text": [
            "30\n",
            "30\n",
            "a is equal to b\n",
            "\n",
            "\n"
          ]
        }
      ]
    },
    {
      "cell_type": "code",
      "source": [
        "a=int(input())\n",
        "b=int(input())\n",
        "c=int(input())\n",
        "if a>b and a>c:\n",
        "  print(\"a is big\")\n",
        "elif b>c:\n",
        "  print(\"b is  big\")\n",
        "else:\n",
        "  print(\"c is big\")\n",
        "\n",
        "print(\"\\n\")\n"
      ],
      "metadata": {
        "colab": {
          "base_uri": "https://localhost:8080/"
        },
        "id": "kyNGuoapF0Ul",
        "outputId": "8b8a79a4-94b6-4d9f-a400-6191ccfcbd3d"
      },
      "execution_count": null,
      "outputs": [
        {
          "output_type": "stream",
          "name": "stdout",
          "text": [
            "30\n",
            "50\n",
            "10\n",
            "b is  big\n",
            "\n",
            "\n"
          ]
        }
      ]
    },
    {
      "cell_type": "markdown",
      "source": [
        "**Ternary operator**"
      ],
      "metadata": {
        "id": "PjoTcHMquBv5"
      }
    },
    {
      "cell_type": "code",
      "source": [
        "print(\"a is big\") if a>b and a>c  else print(\"b is big\") if b>c else print(\"c is big\")"
      ],
      "metadata": {
        "colab": {
          "base_uri": "https://localhost:8080/"
        },
        "id": "hFIEKbFFrwTg",
        "outputId": "dacd3fd9-47b7-4c6e-b044-b8a783419200"
      },
      "execution_count": null,
      "outputs": [
        {
          "output_type": "stream",
          "name": "stdout",
          "text": [
            "b is big\n"
          ]
        }
      ]
    },
    {
      "cell_type": "markdown",
      "source": [
        "**Elif**"
      ],
      "metadata": {
        "id": "kMhESpd9uWD4"
      }
    },
    {
      "cell_type": "code",
      "source": [
        "a=int(input())\n",
        "if a<0:\n",
        "  print(\"number is negative\")\n",
        "elif a==0:\n",
        "  print(\"number is zero\")\n",
        "elif a==30:\n",
        "  print(\"My number\")\n",
        "else:\n",
        "  print(\"number is positive\")\n",
        "\n",
        "print(\"\\n\")\n"
      ],
      "metadata": {
        "colab": {
          "base_uri": "https://localhost:8080/"
        },
        "id": "_uiyU0UvF0bM",
        "outputId": "1e43ced3-959c-42c1-ca62-df0adc78269b"
      },
      "execution_count": null,
      "outputs": [
        {
          "output_type": "stream",
          "name": "stdout",
          "text": [
            "30\n",
            "My number\n",
            "\n",
            "\n"
          ]
        }
      ]
    },
    {
      "cell_type": "markdown",
      "source": [
        "**Short Hand If**\n",
        "* If you have only one statement to execute, you can put it on the same line as the if statement.\n",
        "\n"
      ],
      "metadata": {
        "id": "-7gj-95JqSvQ"
      }
    },
    {
      "cell_type": "code",
      "source": [
        "a=30\n",
        "b=20\n",
        "if a>b: print(\"a is big\")"
      ],
      "metadata": {
        "id": "zZmatmYZF0ef",
        "colab": {
          "base_uri": "https://localhost:8080/"
        },
        "outputId": "f0bae68d-33a6-4afc-cb07-41ccda4aa2c6"
      },
      "execution_count": null,
      "outputs": [
        {
          "output_type": "stream",
          "name": "stdout",
          "text": [
            "a is big\n"
          ]
        }
      ]
    },
    {
      "cell_type": "markdown",
      "source": [
        "**Short Hand If ... Else**\n",
        "* If you have only one statement to execute, one for if, and one for else, you can put it all on the same line:\n",
        "\n",
        "\n"
      ],
      "metadata": {
        "id": "4_IMD47Wq-HB"
      }
    },
    {
      "cell_type": "code",
      "source": [
        "a=20\n",
        "b=30\n",
        "print(\"a is big\") if a>b else print(\"b is big\")"
      ],
      "metadata": {
        "colab": {
          "base_uri": "https://localhost:8080/"
        },
        "id": "IhJME1NcqapM",
        "outputId": "064127ea-1696-4269-8956-a2dfba1b8cd0"
      },
      "execution_count": null,
      "outputs": [
        {
          "output_type": "stream",
          "name": "stdout",
          "text": [
            "b is big\n"
          ]
        }
      ]
    },
    {
      "cell_type": "markdown",
      "source": [
        "**Logical Operators**"
      ],
      "metadata": {
        "id": "Bd9wIeLlt03J"
      }
    },
    {
      "cell_type": "markdown",
      "source": [
        "**and**"
      ],
      "metadata": {
        "id": "-_NtGgitvtvY"
      }
    },
    {
      "cell_type": "code",
      "source": [
        "a=2\n",
        "if a>0 and a==1:                        # and logical operator both conditions should be true\n",
        "  print(\"hii\")\n",
        "else:\n",
        "  print(\"bye\")\n"
      ],
      "metadata": {
        "colab": {
          "base_uri": "https://localhost:8080/"
        },
        "id": "eWTDVDrNqatV",
        "outputId": "22c30236-dbc8-46ff-96af-76c2a5fb1bac"
      },
      "execution_count": null,
      "outputs": [
        {
          "output_type": "stream",
          "name": "stdout",
          "text": [
            "bye\n"
          ]
        }
      ]
    },
    {
      "cell_type": "markdown",
      "source": [
        "**or**"
      ],
      "metadata": {
        "id": "ccVWYLXbv2Vt"
      }
    },
    {
      "cell_type": "code",
      "source": [
        "a=2\n",
        "if a>0 or a==1:                         # or logical operator atleast one of the condition should be true\n",
        "  print(\"hii\")\n",
        "else:\n",
        "  print(\"bye\")\n",
        "\n"
      ],
      "metadata": {
        "colab": {
          "base_uri": "https://localhost:8080/"
        },
        "id": "9WBNEOb9qaym",
        "outputId": "393e30da-57d2-491d-d45a-1d91bdb1b811"
      },
      "execution_count": null,
      "outputs": [
        {
          "output_type": "stream",
          "name": "stdout",
          "text": [
            "hii\n"
          ]
        }
      ]
    },
    {
      "cell_type": "markdown",
      "source": [
        "**not**"
      ],
      "metadata": {
        "id": "jdm0RFkVv9mu"
      }
    },
    {
      "cell_type": "code",
      "source": [
        "a=2\n",
        "if(not a):                          # not logical operator will reverse the result of the conditional statements\n",
        "  print(f\"{not a}\")\n",
        "else:\n",
        "  print(f\"{not a}\")\n",
        "\n",
        "print(\"\\n\")\n",
        "\n",
        "\n",
        "a=0\n",
        "if(not a):\n",
        "  print(f\"{not a}\")\n",
        "else:\n",
        "  print(f\"{not a}\")\n",
        "\n"
      ],
      "metadata": {
        "colab": {
          "base_uri": "https://localhost:8080/"
        },
        "id": "6-GwJg5-qa1X",
        "outputId": "88375abf-8ae1-4e97-a775-f68bec46d8fd"
      },
      "execution_count": null,
      "outputs": [
        {
          "output_type": "stream",
          "name": "stdout",
          "text": [
            "False\n",
            "\n",
            "\n",
            "True\n"
          ]
        }
      ]
    },
    {
      "cell_type": "markdown",
      "source": [
        "**Nested If**\n",
        "* You can have if statements inside if statements, this is called nested if statements.\n",
        "\n"
      ],
      "metadata": {
        "id": "Wh0xUJM9xME-"
      }
    },
    {
      "cell_type": "code",
      "source": [
        "a=100\n",
        "if a>0:\n",
        "  print(f\"number {a} is greater than 0\")\n",
        "  if a==30:\n",
        "    print(f\"number {a} is equal than 30\")\n",
        "  elif a==50:\n",
        "      print(f\"number {a} is equal to 50\")\n",
        "  else:\n",
        "      print(f\"number {a} is greater than 50\")\n",
        "else:\n",
        "  print(f\"number {a} is less than 0\")"
      ],
      "metadata": {
        "colab": {
          "base_uri": "https://localhost:8080/"
        },
        "id": "TLIxsNlJqa37",
        "outputId": "990461e3-66d5-4c2d-fcc0-0973b1f01650"
      },
      "execution_count": null,
      "outputs": [
        {
          "output_type": "stream",
          "name": "stdout",
          "text": [
            "number 100 is greater than 0\n",
            "number 100 is greater than 50\n"
          ]
        }
      ]
    },
    {
      "cell_type": "markdown",
      "source": [
        "**The pass Statement**\n",
        "* if statements cannot be empty, but if you for some reason have an if statement with no content, put in the pass statement to avoid getting an error.\n",
        "\n",
        "\n"
      ],
      "metadata": {
        "id": "QpmytSFL0JZj"
      }
    },
    {
      "cell_type": "code",
      "source": [
        "a=20\n",
        "if a==20:\n",
        "  pass\n",
        "print(\"Pass Statement\")\n",
        "\n",
        "print(\"\\n\")\n"
      ],
      "metadata": {
        "colab": {
          "base_uri": "https://localhost:8080/"
        },
        "id": "YmB696ahqa6m",
        "outputId": "9816228b-621b-4df3-94af-38f1cf0dfb33"
      },
      "execution_count": 1,
      "outputs": [
        {
          "output_type": "stream",
          "name": "stdout",
          "text": [
            "Pass Statement\n",
            "\n",
            "\n"
          ]
        }
      ]
    },
    {
      "cell_type": "markdown",
      "source": [
        "#**Match Case Statement**"
      ],
      "metadata": {
        "id": "SggT7hw-SFQA"
      }
    },
    {
      "cell_type": "markdown",
      "source": [
        "*  Python match statements were introduced in python 3.10 and it is providing a great user experience, good readability, and cleanliness in the code\n",
        "\n",
        "* Match-Case is the Switch Case of Python which was introduced in Python 3.10. Here we have to first pass a parameter then try to check with which case the parameter is getting satisfied. If we find a match we will do something and if there is no match at all we will do something else.\n",
        "\n",
        "\n",
        "parameter = \"xxxxxxxxx\"\n",
        "\n",
        "match parameter:\n",
        "\n",
        "\tcase first :\n",
        "\t\tdo_something(first)\n",
        "\n",
        "\tcase second :\n",
        "\t\tdo_something(second)\n",
        "\n",
        "\tcase third :\n",
        "\t\tdo_something(third)\n",
        "\t\t.............\n",
        "\t\t............\n",
        "\tcase n :\n",
        "\t\tdo_something(n)\n",
        "\n",
        "\n",
        "\tcase _ :                           #default case\n",
        "\t\tnothing_matched_function()\n",
        "\n"
      ],
      "metadata": {
        "id": "WU7_0F-9W2Qq"
      }
    },
    {
      "cell_type": "code",
      "source": [
        "def add():\n",
        "  b=int(input())\n",
        "  c=int(input())\n",
        "  sum=b+c\n",
        "  print(sum)\n",
        "\n",
        "def sub():\n",
        "  b=int(input())\n",
        "  c=int(input())\n",
        "  s=b-c\n",
        "  print(abs(s))\n",
        "\n",
        "def mul():\n",
        "  b=int(input())\n",
        "  c=int(input())\n",
        "  s=b*c\n",
        "  print(s)\n",
        "\n",
        "\n",
        "\n",
        "a=int(input(\"Enter your choice : \\n 1.addition \\n 2.subtraction \\n 3.multiply\\n \"))\n",
        "match a :\n",
        "  case 1:\n",
        "    add()\n",
        "\n",
        "  case 2:\n",
        "    sub()\n",
        "\n",
        "  case 3:\n",
        "    mul()\n",
        "\n",
        "  case _:\n",
        "    print(\"Invalid input\")\n",
        "\n",
        "\n",
        "print(\"\\n\")\n",
        "\n"
      ],
      "metadata": {
        "id": "qzu4A0BW0qbu",
        "colab": {
          "base_uri": "https://localhost:8080/"
        },
        "outputId": "62e315f0-9322-4f99-a7f3-1b827d63946b"
      },
      "execution_count": 5,
      "outputs": [
        {
          "output_type": "stream",
          "name": "stdout",
          "text": [
            "Enter your choice : \n",
            " 1.addition \n",
            " 2.subtraction \n",
            " 3.multiply\n",
            " 2\n",
            "20\n",
            "90\n",
            "70\n",
            "\n",
            "\n"
          ]
        }
      ]
    },
    {
      "cell_type": "code",
      "source": [],
      "metadata": {
        "id": "5DKMvgkY0qgM"
      },
      "execution_count": 11,
      "outputs": []
    },
    {
      "cell_type": "code",
      "source": [],
      "metadata": {
        "id": "M--8J24lF0hm"
      },
      "execution_count": null,
      "outputs": []
    },
    {
      "cell_type": "code",
      "source": [],
      "metadata": {
        "id": "sp1cYbjyR9HP"
      },
      "execution_count": null,
      "outputs": []
    },
    {
      "cell_type": "code",
      "source": [],
      "metadata": {
        "id": "A-of6TJ3R9K9"
      },
      "execution_count": null,
      "outputs": []
    },
    {
      "cell_type": "code",
      "source": [],
      "metadata": {
        "id": "WPnhNYl6R9QW"
      },
      "execution_count": null,
      "outputs": []
    },
    {
      "cell_type": "code",
      "source": [],
      "metadata": {
        "id": "MLVzFOzbR9Ue"
      },
      "execution_count": null,
      "outputs": []
    }
  ]
}