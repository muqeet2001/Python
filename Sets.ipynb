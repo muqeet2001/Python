{
  "nbformat": 4,
  "nbformat_minor": 0,
  "metadata": {
    "colab": {
      "provenance": []
    },
    "kernelspec": {
      "name": "python3",
      "display_name": "Python 3"
    },
    "language_info": {
      "name": "python"
    }
  },
  "cells": [
    {
      "cell_type": "markdown",
      "source": [
        "# **Python Sets**\n"
      ],
      "metadata": {
        "id": "KPawnUl3fp9e"
      }
    },
    {
      "cell_type": "markdown",
      "source": [
        "* Sets are unordered collection of data items.\n",
        "* Sets are used to store multiple items in a single variable.\n",
        "* Sets are written with curly brackets.\n",
        "* Set items are unordered, unchangeable, and do not allow duplicate values.\n",
        "*  Sets are unordered, so you cannot be sure in which order the items will appear and cannot be referred to by index or key.\n",
        "* Once a set is created, you cannot change its items, but you can remove items and add new items.\n",
        "* In Sets Duplicate values will be ignored."
      ],
      "metadata": {
        "id": "hgzPDbJ2gvTU"
      }
    },
    {
      "cell_type": "code",
      "execution_count": 48,
      "metadata": {
        "colab": {
          "base_uri": "https://localhost:8080/"
        },
        "id": "YzkXQyOafgf-",
        "outputId": "e0f39d2d-9b1b-42a3-fa45-b7d18d4f01aa"
      },
      "outputs": [
        {
          "output_type": "stream",
          "name": "stdout",
          "text": [
            "{1, 2, 3, 4, 5, 6, 7, 8, 9}\n",
            "9\n",
            "<class 'set'>\n",
            "\n",
            "\n",
            "{'apple', 'mango', 'orange', 'banana'}\n",
            "4\n",
            "<class 'set'>\n",
            "\n",
            "\n"
          ]
        }
      ],
      "source": [
        "s={1,2,4,7,9,5,3,6,8}\n",
        "print(s)\n",
        "print(len(s))\n",
        "print(type(s))\n",
        "\n",
        "print('\\n')\n",
        "\n",
        "s={\"apple\",\"mango\",\"banana\",\"orange\"}\n",
        "print(s)\n",
        "print(len(s))\n",
        "print(type(s))\n",
        "print(\"\\n\")\n"
      ]
    },
    {
      "cell_type": "markdown",
      "source": [
        "* **Duplicates Not Allowed**\n"
      ],
      "metadata": {
        "id": "-_lT5AxTmSQL"
      }
    },
    {
      "cell_type": "code",
      "source": [
        "s={1,3,2,5,2,3,1,9,4,5,2,6,7,1,2,9,3,4,6}\n",
        "print(s)\n",
        "\n",
        "print(\"\\n\")\n",
        "\n",
        "s={\"ab\",\"xb\",\"ki\",\"ab\",\"pw\",\"rs\",\"za\"}\n",
        "print(s)\n",
        "\n",
        "print('\\n')\n",
        "\n",
        "s={\"Good\",True,False,2,5,\"Happy\",9.3,\"Happy\",3,2,5}\n",
        "print(s)\n",
        "\n",
        "print(\"\\n\")\n",
        "\n",
        "s={\"apple\", \"banana\", \"cherry\", True, 1, 2}   #True and 1 considered as same value\n",
        "print(s)\n",
        "\n",
        "print(\"\\n\")\n",
        ""
      ],
      "metadata": {
        "colab": {
          "base_uri": "https://localhost:8080/"
        },
        "id": "x3fgRyzBfmhV",
        "outputId": "29e9e3e9-dc8e-4b44-f4b8-51cd8228a4a4"
      },
      "execution_count": 46,
      "outputs": [
        {
          "output_type": "stream",
          "name": "stdout",
          "text": [
            "{1, 2, 3, 4, 5, 6, 7, 9}\n",
            "\n",
            "\n",
            "{'ki', 'ab', 'pw', 'za', 'rs', 'xb'}\n",
            "\n",
            "\n",
            "{'Good', True, 2, 3, False, 5, 9.3, 'Happy'}\n",
            "\n",
            "\n",
            "{True, 2, 'apple', 'cherry', 'banana'}\n",
            "\n",
            "\n"
          ]
        }
      ]
    },
    {
      "cell_type": "markdown",
      "source": [
        "* **Empty Set**"
      ],
      "metadata": {
        "id": "bQx-Jn48pjuD"
      }
    },
    {
      "cell_type": "code",
      "source": [
        "s={}                    # It is not Empty set.It is Empty dictionary.\n",
        "print(s)\n",
        "print(type(s))\n",
        "\n",
        "print(\"\\n\")\n",
        "\n",
        "s=set()                 # By using set() we can make Empty set\n",
        "print(s)\n",
        "print(type(s))\n",
        "\n",
        "print(\"\\n\")\n"
      ],
      "metadata": {
        "colab": {
          "base_uri": "https://localhost:8080/"
        },
        "id": "rGmbclYLfmmA",
        "outputId": "2035539c-fc84-46c7-bb48-a03393e83774"
      },
      "execution_count": 50,
      "outputs": [
        {
          "output_type": "stream",
          "name": "stdout",
          "text": [
            "{}\n",
            "<class 'dict'>\n",
            "\n",
            "\n",
            "set()\n",
            "<class 'set'>\n"
          ]
        }
      ]
    },
    {
      "cell_type": "markdown",
      "source": [
        "# **Accessing set items**"
      ],
      "metadata": {
        "id": "2eFXUj99rDL6"
      }
    },
    {
      "cell_type": "code",
      "source": [
        "s={\"Good\",10,True,6,3,7,9.5,\"Happy\"}\n",
        "# print(s)\n",
        "\n",
        "for item in s:\n",
        "  print(item)\n",
        "\n",
        "print(\"\\n\")\n"
      ],
      "metadata": {
        "colab": {
          "base_uri": "https://localhost:8080/"
        },
        "id": "2X4wSPLLfmph",
        "outputId": "82b27af5-0610-4a92-dfd8-fde8dd22c106"
      },
      "execution_count": 63,
      "outputs": [
        {
          "output_type": "stream",
          "name": "stdout",
          "text": [
            "Good\n",
            "True\n",
            "3\n",
            "6\n",
            "7\n",
            "9.5\n",
            "10\n",
            "Happy\n",
            "\n",
            "\n"
          ]
        }
      ]
    },
    {
      "cell_type": "code",
      "source": [],
      "metadata": {
        "id": "6JIlsooafmvA"
      },
      "execution_count": null,
      "outputs": []
    },
    {
      "cell_type": "code",
      "source": [],
      "metadata": {
        "id": "MXNOsqxafmyz"
      },
      "execution_count": null,
      "outputs": []
    },
    {
      "cell_type": "code",
      "source": [],
      "metadata": {
        "id": "OMs2D1NEfm3M"
      },
      "execution_count": null,
      "outputs": []
    },
    {
      "cell_type": "code",
      "source": [],
      "metadata": {
        "id": "vxNrSeXPfm6n"
      },
      "execution_count": null,
      "outputs": []
    },
    {
      "cell_type": "code",
      "source": [],
      "metadata": {
        "id": "yxRkNMy2fm-S"
      },
      "execution_count": null,
      "outputs": []
    },
    {
      "cell_type": "code",
      "source": [],
      "metadata": {
        "id": "wC1tMZkPfnCO"
      },
      "execution_count": null,
      "outputs": []
    },
    {
      "cell_type": "code",
      "source": [],
      "metadata": {
        "id": "wa6nAqb_fnGG"
      },
      "execution_count": null,
      "outputs": []
    },
    {
      "cell_type": "markdown",
      "source": [],
      "metadata": {
        "id": "TJFECfVXfovZ"
      }
    }
  ]
}