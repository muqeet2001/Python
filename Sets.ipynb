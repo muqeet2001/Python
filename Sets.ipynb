{
  "nbformat": 4,
  "nbformat_minor": 0,
  "metadata": {
    "colab": {
      "provenance": []
    },
    "kernelspec": {
      "name": "python3",
      "display_name": "Python 3"
    },
    "language_info": {
      "name": "python"
    }
  },
  "cells": [
    {
      "cell_type": "markdown",
      "source": [
        "# **Python Sets**\n"
      ],
      "metadata": {
        "id": "KPawnUl3fp9e"
      }
    },
    {
      "cell_type": "markdown",
      "source": [
        "* Sets are unordered collection of data items.\n",
        "* Sets are used to store multiple items in a single variable.\n",
        "* Sets are written with curly brackets.\n",
        "* Set items are unordered, unchangeable, and do not allow duplicate values.\n",
        "*  Sets are unordered, so you cannot be sure in which order the items will appear and cannot be referred to by index or key.\n",
        "* Once a set is created, you cannot change its items, but you can remove items and add new items.\n",
        "* In Sets Duplicate values will be ignored."
      ],
      "metadata": {
        "id": "hgzPDbJ2gvTU"
      }
    },
    {
      "cell_type": "code",
      "execution_count": null,
      "metadata": {
        "colab": {
          "base_uri": "https://localhost:8080/"
        },
        "id": "YzkXQyOafgf-",
        "outputId": "e0f39d2d-9b1b-42a3-fa45-b7d18d4f01aa"
      },
      "outputs": [
        {
          "output_type": "stream",
          "name": "stdout",
          "text": [
            "{1, 2, 3, 4, 5, 6, 7, 8, 9}\n",
            "9\n",
            "<class 'set'>\n",
            "\n",
            "\n",
            "{'apple', 'mango', 'orange', 'banana'}\n",
            "4\n",
            "<class 'set'>\n",
            "\n",
            "\n"
          ]
        }
      ],
      "source": [
        "s={1,2,4,7,9,5,3,6,8}\n",
        "print(s)\n",
        "print(len(s))\n",
        "print(type(s))\n",
        "\n",
        "print('\\n')\n",
        "\n",
        "s={\"apple\",\"mango\",\"banana\",\"orange\"}\n",
        "print(s)\n",
        "print(len(s))\n",
        "print(type(s))\n",
        "print(\"\\n\")\n"
      ]
    },
    {
      "cell_type": "markdown",
      "source": [
        "* **Duplicates Not Allowed**\n"
      ],
      "metadata": {
        "id": "-_lT5AxTmSQL"
      }
    },
    {
      "cell_type": "code",
      "source": [
        "s={1,3,2,5,2,3,1,9,4,5,2,6,7,1,2,9,3,4,6}\n",
        "print(s)\n",
        "\n",
        "print(\"\\n\")\n",
        "\n",
        "s={\"ab\",\"xb\",\"ki\",\"ab\",\"pw\",\"rs\",\"za\"}\n",
        "print(s)\n",
        "\n",
        "print('\\n')\n",
        "\n",
        "s={\"Good\",True,False,2,5,\"Happy\",9.3,\"Happy\",3,2,5}\n",
        "print(s)\n",
        "\n",
        "print(\"\\n\")\n",
        "\n",
        "s={\"apple\", \"banana\", \"cherry\", True, 1, 2}   #True and 1 considered as same value\n",
        "print(s)\n",
        "\n",
        "print(\"\\n\")\n"
      ],
      "metadata": {
        "colab": {
          "base_uri": "https://localhost:8080/"
        },
        "id": "x3fgRyzBfmhV",
        "outputId": "29e9e3e9-dc8e-4b44-f4b8-51cd8228a4a4"
      },
      "execution_count": null,
      "outputs": [
        {
          "output_type": "stream",
          "name": "stdout",
          "text": [
            "{1, 2, 3, 4, 5, 6, 7, 9}\n",
            "\n",
            "\n",
            "{'ki', 'ab', 'pw', 'za', 'rs', 'xb'}\n",
            "\n",
            "\n",
            "{'Good', True, 2, 3, False, 5, 9.3, 'Happy'}\n",
            "\n",
            "\n",
            "{True, 2, 'apple', 'cherry', 'banana'}\n",
            "\n",
            "\n"
          ]
        }
      ]
    },
    {
      "cell_type": "markdown",
      "source": [
        "* **Empty Set**"
      ],
      "metadata": {
        "id": "bQx-Jn48pjuD"
      }
    },
    {
      "cell_type": "code",
      "source": [
        "s={}                    # It is not Empty set.It is Empty dictionary.\n",
        "print(s)\n",
        "print(type(s))\n",
        "\n",
        "print(\"\\n\")\n",
        "\n",
        "s=set()                 # By using set() we can make Empty set\n",
        "print(s)\n",
        "print(type(s))\n",
        "\n",
        "print(\"\\n\")\n"
      ],
      "metadata": {
        "colab": {
          "base_uri": "https://localhost:8080/"
        },
        "id": "rGmbclYLfmmA",
        "outputId": "2035539c-fc84-46c7-bb48-a03393e83774"
      },
      "execution_count": null,
      "outputs": [
        {
          "output_type": "stream",
          "name": "stdout",
          "text": [
            "{}\n",
            "<class 'dict'>\n",
            "\n",
            "\n",
            "set()\n",
            "<class 'set'>\n"
          ]
        }
      ]
    },
    {
      "cell_type": "markdown",
      "source": [
        "# **Accessing set items**"
      ],
      "metadata": {
        "id": "2eFXUj99rDL6"
      }
    },
    {
      "cell_type": "code",
      "source": [
        "s={\"Good\",10,True,6,3,7,9.5,\"Happy\"}\n",
        "# print(s)\n",
        "\n",
        "for item in s:\n",
        "  print(item)\n",
        "\n",
        "print(\"\\n\")\n"
      ],
      "metadata": {
        "colab": {
          "base_uri": "https://localhost:8080/"
        },
        "id": "2X4wSPLLfmph",
        "outputId": "82b27af5-0610-4a92-dfd8-fde8dd22c106"
      },
      "execution_count": null,
      "outputs": [
        {
          "output_type": "stream",
          "name": "stdout",
          "text": [
            "Good\n",
            "True\n",
            "3\n",
            "6\n",
            "7\n",
            "9.5\n",
            "10\n",
            "Happy\n",
            "\n",
            "\n"
          ]
        }
      ]
    },
    {
      "cell_type": "markdown",
      "source": [
        "# **Set Methods in Python**"
      ],
      "metadata": {
        "id": "YyKUrWWnv30I"
      }
    },
    {
      "cell_type": "markdown",
      "source": [
        "**union() and update()**\n",
        "* The union() and update() methods print all items that are present in the two sets.\n",
        "* The union() method returns a new set whereas update() method adds item into the existing set from another set."
      ],
      "metadata": {
        "id": "OW86TqkpwrdW"
      }
    },
    {
      "cell_type": "code",
      "source": [
        "s1={1,3,5,7,9}\n",
        "s2={8,5,4,3,2,}\n",
        "print(s1.union(s2))\n",
        "\n",
        "print(\"\\n\")\n",
        "\n",
        "s1.update(s2)\n",
        "print(s1)\n",
        "\n",
        "\n",
        "print('\\n')\n",
        "\n",
        "\n",
        "s1={\"apple\",\"mango\"}\n",
        "s2={\"orange\",\"apple\"}\n",
        "print(s1.union(s2))\n",
        "\n",
        "print(\"\\n\")\n",
        "\n",
        "s1.update(s2)\n",
        "print(s1)\n",
        "\n",
        "print(\"\\n\")\n"
      ],
      "metadata": {
        "id": "6JIlsooafmvA",
        "colab": {
          "base_uri": "https://localhost:8080/"
        },
        "outputId": "4065d08d-1748-4bea-d674-4d0a56edcd32"
      },
      "execution_count": null,
      "outputs": [
        {
          "output_type": "stream",
          "name": "stdout",
          "text": [
            "{1, 2, 3, 4, 5, 7, 8, 9}\n",
            "\n",
            "\n",
            "{1, 2, 3, 4, 5, 7, 8, 9}\n",
            "\n",
            "\n",
            "{'orange', 'apple', 'mango'}\n",
            "\n",
            "\n",
            "{'orange', 'apple', 'mango'}\n",
            "\n",
            "\n"
          ]
        }
      ]
    },
    {
      "cell_type": "markdown",
      "source": [
        "**intersection() and intersection_update()**\n",
        "* intersection() and intersection_update() method prints only items that are similar to both the sets.\n",
        "* The intersection() method returns a new set whereas intersection_update method updates into the existing set from another set.\n"
      ],
      "metadata": {
        "id": "8s-N07lszlHa"
      }
    },
    {
      "cell_type": "code",
      "source": [
        "s1={1,4,5,6,3,9}\n",
        "s2={6,3,4,9,2,8}\n",
        "s3=s1.intersection(s2)\n",
        "print(s3)\n",
        "\n",
        "print(\"\\n\")\n",
        "\n",
        "s1.intersection_update(s2)\n",
        "print(s1)\n",
        "\n",
        "print(\"\\n\")\n",
        "\n",
        "s1={\"apple\",\"mango\"}\n",
        "s2={\"orange\",\"apple\"}\n",
        "s1.intersection_update(s2)\n",
        "print(s1)\n",
        "\n",
        "print(\"\\n\")\n"
      ],
      "metadata": {
        "id": "MXNOsqxafmyz",
        "colab": {
          "base_uri": "https://localhost:8080/"
        },
        "outputId": "71063cec-0b51-43c9-c1ea-7074d301f82c"
      },
      "execution_count": 9,
      "outputs": [
        {
          "output_type": "stream",
          "name": "stdout",
          "text": [
            "{9, 3, 4, 6}\n",
            "\n",
            "\n",
            "{9, 3, 4, 6}\n",
            "\n",
            "\n",
            "{'apple'}\n",
            "\n",
            "\n"
          ]
        }
      ]
    },
    {
      "cell_type": "markdown",
      "source": [
        "**symmetric_difference() and symmetric_difference_update()**\n",
        "* symmetric_difference() and symmetric_difference_update() prints only items that are not similar to both the sets.\n",
        "* The symmetric_difference() method returns a new set whereas symmetric_difference_update() method updates into the existing set from another set."
      ],
      "metadata": {
        "id": "KzCNjm8Vp0cm"
      }
    },
    {
      "cell_type": "code",
      "source": [
        "s1={1,4,5,6,3,9}\n",
        "s2={6,3,4,9,2,8}\n",
        "s3=s1.symmetric_difference(s2)\n",
        "print(s3)\n",
        "\n",
        "print(\"\\n\")\n",
        "\n",
        "s1.symmetric_difference_update(s2)\n",
        "print(s1)\n",
        "\n",
        "print(\"\\n\")\n",
        "\n",
        "s1={\"apple\",\"mango\"}\n",
        "s2={\"orange\",\"apple\"}\n",
        "s1.symmetric_difference_update(s2)\n",
        "print(s1)\n",
        "\n",
        "print(\"\\n\")\n"
      ],
      "metadata": {
        "id": "OMs2D1NEfm3M",
        "colab": {
          "base_uri": "https://localhost:8080/"
        },
        "outputId": "c4202c34-a7ec-4e21-caa0-c0acdb63b242"
      },
      "execution_count": 10,
      "outputs": [
        {
          "output_type": "stream",
          "name": "stdout",
          "text": [
            "{1, 2, 5, 8}\n",
            "\n",
            "\n",
            "{1, 2, 5, 8}\n",
            "\n",
            "\n",
            "{'orange', 'mango'}\n",
            "\n",
            "\n"
          ]
        }
      ]
    },
    {
      "cell_type": "markdown",
      "source": [
        "**difference() and difference_update()**\n",
        "* difference() and difference_update() methods print only items that are only present in the original set and not in both sets.\n",
        "* The difference() method returns a new set whereas difference_update() method updates into the existing set from another set."
      ],
      "metadata": {
        "id": "NoitKtXUt1FU"
      }
    },
    {
      "cell_type": "code",
      "source": [
        "s1={1,4,5,6,3,9}\n",
        "s2={6,3,4,9,2,8}\n",
        "s3=s1.difference(s2)\n",
        "print(s3)\n",
        "s4=s2.difference(s1)\n",
        "print(s4)\n",
        "\n",
        "print('\\n')\n",
        "\n",
        "s1={\"apple\",\"mango\"}\n",
        "s2={\"orange\",\"apple\"}\n",
        "s1.difference_update(s2)\n",
        "print(s1)\n",
        "s2.difference_update(s1)\n",
        "print(s2)"
      ],
      "metadata": {
        "id": "vxNrSeXPfm6n",
        "colab": {
          "base_uri": "https://localhost:8080/"
        },
        "outputId": "663b3fed-a5c6-4c32-89b9-f19fbee215a0"
      },
      "execution_count": 14,
      "outputs": [
        {
          "output_type": "stream",
          "name": "stdout",
          "text": [
            "{1, 5}\n",
            "{8, 2}\n",
            "\n",
            "\n",
            "{'mango'}\n",
            "{'orange', 'apple'}\n"
          ]
        }
      ]
    },
    {
      "cell_type": "markdown",
      "source": [
        "**isdisjoint()**\n",
        "* The isdisjoint() methods check if items of given set are present in another set.\n",
        "* This method returns False if items are present,else it returns True."
      ],
      "metadata": {
        "id": "A0esD_udTSzV"
      }
    },
    {
      "cell_type": "code",
      "source": [
        "s1={2,4,8,6}\n",
        "s2={1,5,3,7,6}\n",
        "print(s1.isdisjoint(s2))\n",
        "\n",
        "\n",
        "print(\"\\n\")\n",
        "\n",
        "\n",
        "s1={2,4,8,6}\n",
        "s2={1,5,3,7}\n",
        "print(s1.isdisjoint(s2))\n",
        "\n",
        "print(\"\\n\")\n",
        "\n",
        "s1={\"apple\",\"mango\"}\n",
        "s2={\"banana\",\"orange\"}\n",
        "print(s1.isdisjoint(s2))\n",
        "\n",
        "print(\"\\n\")\n",
        "\n"
      ],
      "metadata": {
        "id": "yxRkNMy2fm-S",
        "colab": {
          "base_uri": "https://localhost:8080/"
        },
        "outputId": "f319236f-6f41-4949-d6b7-494b06395e65"
      },
      "execution_count": 5,
      "outputs": [
        {
          "output_type": "stream",
          "name": "stdout",
          "text": [
            "False\n",
            "\n",
            "\n",
            "True\n",
            "\n",
            "\n",
            "True\n",
            "\n",
            "\n"
          ]
        }
      ]
    },
    {
      "cell_type": "markdown",
      "source": [
        "**issuperset()**\n",
        "* THe superset() method checks if all the items of a particular set are present in the orginal set.It returns True if all the items are present else returns False."
      ],
      "metadata": {
        "id": "HaGHQ1mTUi7Q"
      }
    },
    {
      "cell_type": "code",
      "source": [
        "s1={2,4,8,6,1,5,3,7,9}\n",
        "s2={1,5,3,7,6}\n",
        "print(s1.issuperset(s2))\n",
        "\n",
        "print('\\n')\n",
        "\n",
        "s1={\"apple\",\"banana\",\"mango\",\"orange\"}\n",
        "s2={\"banana\",\"orange\"}\n",
        "print(s1.issuperset(s2))\n",
        "\n",
        "print(\"\\n\")\n",
        "\n"
      ],
      "metadata": {
        "id": "wC1tMZkPfnCO",
        "colab": {
          "base_uri": "https://localhost:8080/"
        },
        "outputId": "16b8ba74-79d8-420b-f993-3ac1d306d439"
      },
      "execution_count": 8,
      "outputs": [
        {
          "output_type": "stream",
          "name": "stdout",
          "text": [
            "True\n",
            "\n",
            "\n",
            "True\n",
            "\n",
            "\n"
          ]
        }
      ]
    },
    {
      "cell_type": "markdown",
      "source": [
        "**issubset()**\n",
        "* The issubset() method checks if all the items of orginal set are present in the particular set.It returns True if all items are present else it returns False."
      ],
      "metadata": {
        "id": "uzAh3NAVWQgh"
      }
    },
    {
      "cell_type": "code",
      "source": [
        "s1={\"apple\",\"banana\",\"mango\",\"orange\"}\n",
        "s2={\"banana\",\"orange\"}\n",
        "print(s2.issubset(s1))\n",
        "\n",
        "print(\"\\n\")\n",
        "\n",
        "s1={1,7,3}\n",
        "s2={1,5,3,7,6}\n",
        "print(s1.issubset(s2))\n",
        "\n",
        "print('\\n')\n"
      ],
      "metadata": {
        "id": "6BWgu0X0vm9D",
        "colab": {
          "base_uri": "https://localhost:8080/"
        },
        "outputId": "96930e69-937f-4f47-cbe9-bb821a4f66c4"
      },
      "execution_count": 11,
      "outputs": [
        {
          "output_type": "stream",
          "name": "stdout",
          "text": [
            "True\n",
            "\n",
            "\n",
            "True\n",
            "\n",
            "\n"
          ]
        }
      ]
    },
    {
      "cell_type": "markdown",
      "source": [
        "**add()**\n",
        "* If you want to add a single item to the set use the add() method."
      ],
      "metadata": {
        "id": "PugCmkVUX8FQ"
      }
    },
    {
      "cell_type": "code",
      "source": [
        "s={\"apple\",\"banana\",\"mango\",\"orange\"}\n",
        "s.add(\"pineapple\")\n",
        "print(s)\n",
        "\n",
        "print(\"\\n\")\n",
        "\n",
        "s={2,5,4,6,3}\n",
        "s.add(1)\n",
        "print(s)\n",
        "\n",
        "print(\"\\n\")\n"
      ],
      "metadata": {
        "id": "Q8o75S-RvnA7",
        "colab": {
          "base_uri": "https://localhost:8080/"
        },
        "outputId": "ba85b11a-50c9-4c69-dc6c-91063944b7c8"
      },
      "execution_count": 13,
      "outputs": [
        {
          "output_type": "stream",
          "name": "stdout",
          "text": [
            "{'orange', 'banana', 'mango', 'apple', 'pineapple'}\n",
            "\n",
            "\n",
            "{1, 2, 3, 4, 5, 6}\n",
            "\n",
            "\n"
          ]
        }
      ]
    },
    {
      "cell_type": "markdown",
      "source": [
        "**update()**\n",
        "* If you want to add more than one item ,simply create another set or any other iterable objects(list,tuple,dictionary) and use the update() method to add it into the existing set."
      ],
      "metadata": {
        "id": "iyAasWh3YnCc"
      }
    },
    {
      "cell_type": "code",
      "source": [
        "s={1,4,3,6,7}\n",
        "s1={8,2,5,9}\n",
        "s.update(s1)\n",
        "print(s)\n",
        "\n",
        "print(\"\\n\")\n",
        "\n",
        "s={1,4,2,3}\n",
        "s1=[8,5,7,6]\n",
        "s.update(s1)\n",
        "print(s)\n",
        "\n",
        "print(\"\\n\")\n",
        "\n",
        "s={\"apple\",\"mango\"}\n",
        "s1=(\"orange\",'banana')\n",
        "s.update(s1)\n",
        "print(s)\n",
        "\n",
        "print(\"\\n\")\n"
      ],
      "metadata": {
        "id": "o2Ptjlo1vnFP",
        "colab": {
          "base_uri": "https://localhost:8080/"
        },
        "outputId": "3697afa5-2f0e-45e1-a9f9-f4e9317c8469"
      },
      "execution_count": 19,
      "outputs": [
        {
          "output_type": "stream",
          "name": "stdout",
          "text": [
            "{1, 2, 3, 4, 5, 6, 7, 8, 9}\n",
            "\n",
            "\n",
            "{1, 2, 3, 4, 5, 6, 7, 8}\n",
            "\n",
            "\n",
            "{'apple', 'banana', 'mango', 'orange'}\n",
            "\n",
            "\n"
          ]
        }
      ]
    },
    {
      "cell_type": "markdown",
      "source": [
        "**remove()/discard()**\n",
        "* We can use remove() and discard() methods to remove items from set.\n",
        "* The main difference between remove() and discard() is that if we try to delete an item which is not present in set then remove() raises an error whereas discard() does not raise any error."
      ],
      "metadata": {
        "id": "Ojqw2l4EaQS1"
      }
    },
    {
      "cell_type": "code",
      "source": [
        "s={1,4,7,5,2,6,3}\n",
        "print(s)\n",
        "s.remove(1)\n",
        "print(s)\n",
        "#s.remove(9)                 # remove() gives error if the given item is not present in set\n",
        "\n",
        "print(\"\\n\")\n",
        "\n",
        "s={\"apple\",\"mango\",\"orange\",\"banana\"}\n",
        "print(s)\n",
        "s.discard(\"mango\")\n",
        "print(s)\n",
        "s.discard(\"cherry\")          # discard() will not give any error if the given item is not present in set\n",
        "\n",
        "print(\"\\n\")\n"
      ],
      "metadata": {
        "id": "Vyk2nvdlvnJB",
        "colab": {
          "base_uri": "https://localhost:8080/"
        },
        "outputId": "4119a139-a465-4511-d6ec-9e27596c8b4e"
      },
      "execution_count": 30,
      "outputs": [
        {
          "output_type": "stream",
          "name": "stdout",
          "text": [
            "{1, 2, 3, 4, 5, 6, 7}\n",
            "{2, 3, 4, 5, 6, 7}\n",
            "\n",
            "\n",
            "{'apple', 'banana', 'mango', 'orange'}\n",
            "{'apple', 'banana', 'orange'}\n",
            "\n",
            "\n"
          ]
        }
      ]
    },
    {
      "cell_type": "markdown",
      "source": [
        "**pop()**\n",
        "* The method removes the last item of the set but the catch is that we dont know which items gets popped as sets are unordered.\n",
        "* However you can acess the popped item if you assign the pop() method to a variable."
      ],
      "metadata": {
        "id": "ucplVDKsdqz8"
      }
    },
    {
      "cell_type": "code",
      "source": [
        "s={2,5,3,7,4,6}\n",
        "print(s)\n",
        "item=s.pop()\n",
        "print(f\"popped item is {item}\")\n",
        "print(s)\n",
        "\n",
        "print(\"\\n\")\n",
        "\n",
        "s={\"apple\",\"banana\",\"mango\",\"orange\",\"cherry\"}\n",
        "print(s)\n",
        "item=s.pop()\n",
        "print(f\"popped item is {item}\")\n",
        "print(s)\n",
        "\n",
        "print(\"\\n\")\n"
      ],
      "metadata": {
        "id": "weiZ1B_UvnNx",
        "colab": {
          "base_uri": "https://localhost:8080/"
        },
        "outputId": "4bccad4d-b004-48f0-f4e5-27dd8b61c967"
      },
      "execution_count": 38,
      "outputs": [
        {
          "output_type": "stream",
          "name": "stdout",
          "text": [
            "{2, 3, 4, 5, 6, 7}\n",
            "popped item is 2\n",
            "{3, 4, 5, 6, 7}\n",
            "\n",
            "\n",
            "{'apple', 'orange', 'banana', 'cherry', 'mango'}\n",
            "popped item is apple\n",
            "{'orange', 'banana', 'cherry', 'mango'}\n",
            "\n",
            "\n"
          ]
        }
      ]
    },
    {
      "cell_type": "markdown",
      "source": [
        "**del()**\n",
        "* del is not a method, rather it is keyword which delete the set entirely."
      ],
      "metadata": {
        "id": "gOoDgzarfgPG"
      }
    },
    {
      "cell_type": "code",
      "source": [
        "s={2,4,3,1}\n",
        "del s\n",
        "# print(s)\n",
        "\n",
        "print(\"\\n\")\n"
      ],
      "metadata": {
        "id": "wa6nAqb_fnGG",
        "colab": {
          "base_uri": "https://localhost:8080/"
        },
        "outputId": "4a069efc-70a2-4e61-fcc8-7fdcb594f7ce"
      },
      "execution_count": 42,
      "outputs": [
        {
          "output_type": "stream",
          "name": "stdout",
          "text": [
            "\n",
            "\n"
          ]
        }
      ]
    },
    {
      "cell_type": "markdown",
      "source": [
        "* What if we dont want to delete the entire set, we just want to delete all items within the set? we use clear().\n",
        "\n",
        " **clear()** -> This method clears all items in the set and prints an empty set.\n",
        "\n"
      ],
      "metadata": {
        "id": "qN7zpli_gQEc"
      }
    },
    {
      "cell_type": "code",
      "source": [
        "s={2,4,3,1}\n",
        "s.clear()\n",
        "print(s)\n",
        "\n",
        "print(\"\\n\")\n"
      ],
      "metadata": {
        "colab": {
          "base_uri": "https://localhost:8080/"
        },
        "id": "_N4V-6oZdp-U",
        "outputId": "8a326f6b-0933-485c-c694-144d05c01134"
      },
      "execution_count": 43,
      "outputs": [
        {
          "output_type": "stream",
          "name": "stdout",
          "text": [
            "set()\n",
            "\n",
            "\n"
          ]
        }
      ]
    },
    {
      "cell_type": "markdown",
      "source": [
        "**Check if item exists**\n",
        "* You can also check if item exists in the set or not"
      ],
      "metadata": {
        "id": "5u_6sTb2hYuI"
      }
    },
    {
      "cell_type": "code",
      "source": [
        "s={2,4,\"Hi\",True,9,5,6.2}\n",
        "print(s)\n",
        "\n",
        "print(\"\\n\")\n",
        "\n",
        "a=2\n",
        "if a in s:\n",
        "  print(f\"The item {a} is present\")\n",
        "else:\n",
        "  print(f\"The item {a} is not present\")\n",
        "\n",
        "print(\"\\n\")\n",
        "\n"
      ],
      "metadata": {
        "colab": {
          "base_uri": "https://localhost:8080/"
        },
        "id": "TRR0HpK5dqBg",
        "outputId": "68794c8e-ac74-4ad7-d7f5-47513513c005"
      },
      "execution_count": 44,
      "outputs": [
        {
          "output_type": "stream",
          "name": "stdout",
          "text": [
            "{'Hi', True, 2, 4, 5, 6.2, 9}\n",
            "\n",
            "\n",
            "The item 2 is present\n",
            "\n",
            "\n"
          ]
        }
      ]
    },
    {
      "cell_type": "code",
      "source": [],
      "metadata": {
        "id": "nQ5mcNbJdqID"
      },
      "execution_count": null,
      "outputs": []
    },
    {
      "cell_type": "code",
      "source": [],
      "metadata": {
        "id": "EUuqGooYdqLA"
      },
      "execution_count": null,
      "outputs": []
    },
    {
      "cell_type": "code",
      "source": [],
      "metadata": {
        "id": "Kglr2CU0dqOp"
      },
      "execution_count": null,
      "outputs": []
    },
    {
      "cell_type": "code",
      "source": [],
      "metadata": {
        "id": "ipAmJJgIdqSi"
      },
      "execution_count": null,
      "outputs": []
    },
    {
      "cell_type": "markdown",
      "source": [],
      "metadata": {
        "id": "TJFECfVXfovZ"
      }
    }
  ]
}